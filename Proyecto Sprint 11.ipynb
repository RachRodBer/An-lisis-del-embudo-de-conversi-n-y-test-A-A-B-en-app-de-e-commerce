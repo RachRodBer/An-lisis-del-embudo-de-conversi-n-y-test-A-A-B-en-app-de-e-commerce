{
 "cells": [
  {
   "cell_type": "markdown",
   "metadata": {},
   "source": [
    "Hola **Rachel**!\n",
    "\n",
    "Soy **Patricio Requena** 👋. Es un placer ser el revisor de tu proyecto el día de hoy!\n",
    "\n",
    "Revisaré tu proyecto detenidamente con el objetivo de ayudarte a mejorar y perfeccionar tus habilidades. Durante mi revisión, identificaré áreas donde puedas hacer mejoras en tu código, señalando específicamente qué y cómo podrías ajustar para optimizar el rendimiento y la claridad de tu proyecto. Además, es importante para mí destacar los aspectos que has manejado excepcionalmente bien. Reconocer tus fortalezas te ayudará a entender qué técnicas y métodos están funcionando a tu favor y cómo puedes aplicarlos en futuras tareas. \n",
    "\n",
    "_**Recuerda que al final de este notebook encontrarás un comentario general de mi parte**_, empecemos!\n",
    "\n",
    "Encontrarás mis comentarios dentro de cajas verdes, amarillas o rojas, ⚠️ **por favor, no muevas, modifiques o borres mis comentarios** ⚠️:\n",
    "\n",
    "\n",
    "<div class=\"alert alert-block alert-success\">\n",
    "<b>Comentario del revisor</b> <a class=“tocSkip”></a>\n",
    "Si todo está perfecto.\n",
    "</div>\n",
    "\n",
    "<div class=\"alert alert-block alert-warning\">\n",
    "<b>Comentario del revisor</b> <a class=“tocSkip”></a>\n",
    "Si tu código está bien pero se puede mejorar o hay algún detalle que le hace falta.\n",
    "</div>\n",
    "\n",
    "<div class=\"alert alert-block alert-danger\">\n",
    "<b>Comentario del revisor</b> <a class=“tocSkip”></a>\n",
    "Si de pronto hace falta algo o existe algún problema con tu código o conclusiones.\n",
    "</div>\n",
    "\n",
    "Puedes responderme de esta forma:\n",
    "<div class=\"alert alert-block alert-info\">\n",
    "    <b>Respuesta:</b> "
   ]
  },
  {
   "cell_type": "markdown",
   "metadata": {},
   "source": [
    "# Análisis del Comportamiento de Usuario y Evaluación de Diseño en una Aplicación de Productos Alimenticios."
   ]
  },
  {
   "cell_type": "markdown",
   "metadata": {},
   "source": [
    "Introducción\n",
    "\n",
    "En este proyecto, nos adentramos en el comportamiento de los usuarios de una aplicación móvil de una empresa emergente dedicada a la venta de productos alimenticios. Con el fin de optimizar la experiencia de usuario y las tasas de conversión, se analizará el embudo de ventas de la aplicación para entender en qué etapas se pierden usuarios y cuáles logran llegar a la compra. Adicionalmente, se realizará un experimento A/A/B para evaluar el impacto de una propuesta de cambio en el diseño tipográfico de la aplicación, balanceando la estética de la interfaz con la experiencia de usuario.\n",
    "\n",
    "Objetivo\n",
    "\n",
    "El objetivo principal de este proyecto es analizar el embudo de conversión para identificar las etapas en las que se producen mayores caídas de usuarios, así como evaluar mediante un test A/A/B si la introducción de un nuevo conjunto de fuentes afecta significativamente el comportamiento de los usuarios. De esta forma, se busca tomar decisiones basadas en datos para mejorar la retención y satisfacción de los usuarios en la aplicación.\n",
    "\n",
    "Etapas del Análisis\n",
    "\n",
    "Preparación de los Datos: Cargaremos y limpiaremos el dataset, formatearemos columnas y generaremos nuevas variables (fecha y hora) para facilitar el análisis.\n",
    "\n",
    "Análisis General del Dataset: Exploraremos el periodo cubierto por los datos, identificaremos el número total de eventos y usuarios, y calcularemos la frecuencia promedio de eventos por usuario para entender el nivel general de interacción en la aplicación.\n",
    "\n",
    "Análisis del Embudo de Conversión: Examinaremos la frecuencia de los eventos de interacción y calcularemos la proporción de usuarios que progresan de una etapa a la siguiente en el embudo de conversión, identificando dónde se produce la mayor pérdida de usuarios.\n",
    "\n",
    "Evaluación del Test A/A/B: Analizaremos los resultados del experimento A/A/B para comparar la proporción de interacciones en los dos grupos de control y el grupo de prueba. Aplicaremos pruebas estadísticas para determinar si las diferencias entre grupos son significativas y evaluar si el cambio de fuente tipográfica afecta de forma negativa o positiva el comportamiento de los usuarios.\n",
    "\n",
    "\n",
    "Conclusión:\n",
    "Este análisis permitirá a la empresa tomar decisiones informadas sobre las mejoras a la aplicación, enfocándose tanto en optimizar el embudo de conversión como en evaluar si los cambios en el diseño son bien recibidos por los usuarios. Al analizar los resultados del test A/A/B, se espera obtener una recomendación sobre la implementación del nuevo diseño tipográfico, maximizando la experiencia de usuario sin comprometer la tasa de conversión."
   ]
  },
  {
   "cell_type": "markdown",
   "metadata": {},
   "source": [
    "<div class=\"alert alert-block alert-success\">\n",
    "<b>Comentario del revisor (1ra Iteracion)</b> <a class=“tocSkip”></a>\n",
    "\n",
    "Muy bien, incluir una introducción a tu proyecto hace que tu notebook tenga una mejor presentación y sea más fácil entender el porque se va a realizar el mismo, te invito a mantener esta práctica!\n",
    "</div>"
   ]
  },
  {
   "cell_type": "code",
   "execution_count": 1,
   "metadata": {},
   "outputs": [],
   "source": [
    "# Importamos las librerías que utilizaremos\n",
    "import pandas as pd\n",
    "import numpy as np\n",
    "import matplotlib.pyplot as plt\n",
    "import seaborn as sns \n",
    "import statsmodels.api as sm\n",
    "from scipy.stats import mannwhitneyu\n",
    "#from scipy.stats import ttest_ind\n",
    "#from scipy.stats import levene\n"
   ]
  },
  {
   "cell_type": "code",
   "execution_count": 2,
   "metadata": {},
   "outputs": [],
   "source": [
    "# Cargamos los datasets\n",
    "events = pd.read_csv('/datasets/logs_exp_us.csv', sep='\\t')"
   ]
  },
  {
   "cell_type": "code",
   "execution_count": 3,
   "metadata": {},
   "outputs": [
    {
     "name": "stdout",
     "output_type": "stream",
     "text": [
      "<class 'pandas.core.frame.DataFrame'>\n",
      "RangeIndex: 244126 entries, 0 to 244125\n",
      "Data columns (total 4 columns):\n",
      " #   Column          Non-Null Count   Dtype \n",
      "---  ------          --------------   ----- \n",
      " 0   EventName       244126 non-null  object\n",
      " 1   DeviceIDHash    244126 non-null  int64 \n",
      " 2   EventTimestamp  244126 non-null  int64 \n",
      " 3   ExpId           244126 non-null  int64 \n",
      "dtypes: int64(3), object(1)\n",
      "memory usage: 7.5+ MB\n"
     ]
    }
   ],
   "source": [
    "# Analizamos la información del dataset \n",
    "events.info()"
   ]
  },
  {
   "cell_type": "code",
   "execution_count": 4,
   "metadata": {},
   "outputs": [
    {
     "data": {
      "text/html": [
       "<div>\n",
       "<style scoped>\n",
       "    .dataframe tbody tr th:only-of-type {\n",
       "        vertical-align: middle;\n",
       "    }\n",
       "\n",
       "    .dataframe tbody tr th {\n",
       "        vertical-align: top;\n",
       "    }\n",
       "\n",
       "    .dataframe thead th {\n",
       "        text-align: right;\n",
       "    }\n",
       "</style>\n",
       "<table border=\"1\" class=\"dataframe\">\n",
       "  <thead>\n",
       "    <tr style=\"text-align: right;\">\n",
       "      <th></th>\n",
       "      <th>EventName</th>\n",
       "      <th>DeviceIDHash</th>\n",
       "      <th>EventTimestamp</th>\n",
       "      <th>ExpId</th>\n",
       "    </tr>\n",
       "  </thead>\n",
       "  <tbody>\n",
       "    <tr>\n",
       "      <th>0</th>\n",
       "      <td>MainScreenAppear</td>\n",
       "      <td>4575588528974610257</td>\n",
       "      <td>1564029816</td>\n",
       "      <td>246</td>\n",
       "    </tr>\n",
       "    <tr>\n",
       "      <th>1</th>\n",
       "      <td>MainScreenAppear</td>\n",
       "      <td>7416695313311560658</td>\n",
       "      <td>1564053102</td>\n",
       "      <td>246</td>\n",
       "    </tr>\n",
       "    <tr>\n",
       "      <th>2</th>\n",
       "      <td>PaymentScreenSuccessful</td>\n",
       "      <td>3518123091307005509</td>\n",
       "      <td>1564054127</td>\n",
       "      <td>248</td>\n",
       "    </tr>\n",
       "    <tr>\n",
       "      <th>3</th>\n",
       "      <td>CartScreenAppear</td>\n",
       "      <td>3518123091307005509</td>\n",
       "      <td>1564054127</td>\n",
       "      <td>248</td>\n",
       "    </tr>\n",
       "    <tr>\n",
       "      <th>4</th>\n",
       "      <td>PaymentScreenSuccessful</td>\n",
       "      <td>6217807653094995999</td>\n",
       "      <td>1564055322</td>\n",
       "      <td>248</td>\n",
       "    </tr>\n",
       "  </tbody>\n",
       "</table>\n",
       "</div>"
      ],
      "text/plain": [
       "                 EventName         DeviceIDHash  EventTimestamp  ExpId\n",
       "0         MainScreenAppear  4575588528974610257      1564029816    246\n",
       "1         MainScreenAppear  7416695313311560658      1564053102    246\n",
       "2  PaymentScreenSuccessful  3518123091307005509      1564054127    248\n",
       "3         CartScreenAppear  3518123091307005509      1564054127    248\n",
       "4  PaymentScreenSuccessful  6217807653094995999      1564055322    248"
      ]
     },
     "execution_count": 4,
     "metadata": {},
     "output_type": "execute_result"
    }
   ],
   "source": [
    "# Verificamos las columnas \n",
    "events.head()"
   ]
  },
  {
   "cell_type": "code",
   "execution_count": 5,
   "metadata": {},
   "outputs": [
    {
     "data": {
      "text/html": [
       "<div>\n",
       "<style scoped>\n",
       "    .dataframe tbody tr th:only-of-type {\n",
       "        vertical-align: middle;\n",
       "    }\n",
       "\n",
       "    .dataframe tbody tr th {\n",
       "        vertical-align: top;\n",
       "    }\n",
       "\n",
       "    .dataframe thead th {\n",
       "        text-align: right;\n",
       "    }\n",
       "</style>\n",
       "<table border=\"1\" class=\"dataframe\">\n",
       "  <thead>\n",
       "    <tr style=\"text-align: right;\">\n",
       "      <th></th>\n",
       "      <th>DeviceIDHash</th>\n",
       "      <th>EventTimestamp</th>\n",
       "      <th>ExpId</th>\n",
       "    </tr>\n",
       "  </thead>\n",
       "  <tbody>\n",
       "    <tr>\n",
       "      <th>count</th>\n",
       "      <td>2.441260e+05</td>\n",
       "      <td>2.441260e+05</td>\n",
       "      <td>244126.000000</td>\n",
       "    </tr>\n",
       "    <tr>\n",
       "      <th>mean</th>\n",
       "      <td>4.627568e+18</td>\n",
       "      <td>1.564914e+09</td>\n",
       "      <td>247.022296</td>\n",
       "    </tr>\n",
       "    <tr>\n",
       "      <th>std</th>\n",
       "      <td>2.642425e+18</td>\n",
       "      <td>1.771343e+05</td>\n",
       "      <td>0.824434</td>\n",
       "    </tr>\n",
       "    <tr>\n",
       "      <th>min</th>\n",
       "      <td>6.888747e+15</td>\n",
       "      <td>1.564030e+09</td>\n",
       "      <td>246.000000</td>\n",
       "    </tr>\n",
       "    <tr>\n",
       "      <th>25%</th>\n",
       "      <td>2.372212e+18</td>\n",
       "      <td>1.564757e+09</td>\n",
       "      <td>246.000000</td>\n",
       "    </tr>\n",
       "    <tr>\n",
       "      <th>50%</th>\n",
       "      <td>4.623192e+18</td>\n",
       "      <td>1.564919e+09</td>\n",
       "      <td>247.000000</td>\n",
       "    </tr>\n",
       "    <tr>\n",
       "      <th>75%</th>\n",
       "      <td>6.932517e+18</td>\n",
       "      <td>1.565075e+09</td>\n",
       "      <td>248.000000</td>\n",
       "    </tr>\n",
       "    <tr>\n",
       "      <th>max</th>\n",
       "      <td>9.222603e+18</td>\n",
       "      <td>1.565213e+09</td>\n",
       "      <td>248.000000</td>\n",
       "    </tr>\n",
       "  </tbody>\n",
       "</table>\n",
       "</div>"
      ],
      "text/plain": [
       "       DeviceIDHash  EventTimestamp          ExpId\n",
       "count  2.441260e+05    2.441260e+05  244126.000000\n",
       "mean   4.627568e+18    1.564914e+09     247.022296\n",
       "std    2.642425e+18    1.771343e+05       0.824434\n",
       "min    6.888747e+15    1.564030e+09     246.000000\n",
       "25%    2.372212e+18    1.564757e+09     246.000000\n",
       "50%    4.623192e+18    1.564919e+09     247.000000\n",
       "75%    6.932517e+18    1.565075e+09     248.000000\n",
       "max    9.222603e+18    1.565213e+09     248.000000"
      ]
     },
     "execution_count": 5,
     "metadata": {},
     "output_type": "execute_result"
    }
   ],
   "source": [
    "# Analizamos la información \n",
    "events.describe()"
   ]
  },
  {
   "cell_type": "code",
   "execution_count": 6,
   "metadata": {},
   "outputs": [
    {
     "data": {
      "text/html": [
       "<div>\n",
       "<style scoped>\n",
       "    .dataframe tbody tr th:only-of-type {\n",
       "        vertical-align: middle;\n",
       "    }\n",
       "\n",
       "    .dataframe tbody tr th {\n",
       "        vertical-align: top;\n",
       "    }\n",
       "\n",
       "    .dataframe thead th {\n",
       "        text-align: right;\n",
       "    }\n",
       "</style>\n",
       "<table border=\"1\" class=\"dataframe\">\n",
       "  <thead>\n",
       "    <tr style=\"text-align: right;\">\n",
       "      <th></th>\n",
       "      <th>event_name</th>\n",
       "      <th>user_id</th>\n",
       "      <th>event_timestamp</th>\n",
       "      <th>experiment_id</th>\n",
       "    </tr>\n",
       "  </thead>\n",
       "  <tbody>\n",
       "    <tr>\n",
       "      <th>0</th>\n",
       "      <td>MainScreenAppear</td>\n",
       "      <td>4575588528974610257</td>\n",
       "      <td>1564029816</td>\n",
       "      <td>246</td>\n",
       "    </tr>\n",
       "    <tr>\n",
       "      <th>1</th>\n",
       "      <td>MainScreenAppear</td>\n",
       "      <td>7416695313311560658</td>\n",
       "      <td>1564053102</td>\n",
       "      <td>246</td>\n",
       "    </tr>\n",
       "    <tr>\n",
       "      <th>2</th>\n",
       "      <td>PaymentScreenSuccessful</td>\n",
       "      <td>3518123091307005509</td>\n",
       "      <td>1564054127</td>\n",
       "      <td>248</td>\n",
       "    </tr>\n",
       "    <tr>\n",
       "      <th>3</th>\n",
       "      <td>CartScreenAppear</td>\n",
       "      <td>3518123091307005509</td>\n",
       "      <td>1564054127</td>\n",
       "      <td>248</td>\n",
       "    </tr>\n",
       "    <tr>\n",
       "      <th>4</th>\n",
       "      <td>PaymentScreenSuccessful</td>\n",
       "      <td>6217807653094995999</td>\n",
       "      <td>1564055322</td>\n",
       "      <td>248</td>\n",
       "    </tr>\n",
       "  </tbody>\n",
       "</table>\n",
       "</div>"
      ],
      "text/plain": [
       "                event_name              user_id  event_timestamp  \\\n",
       "0         MainScreenAppear  4575588528974610257       1564029816   \n",
       "1         MainScreenAppear  7416695313311560658       1564053102   \n",
       "2  PaymentScreenSuccessful  3518123091307005509       1564054127   \n",
       "3         CartScreenAppear  3518123091307005509       1564054127   \n",
       "4  PaymentScreenSuccessful  6217807653094995999       1564055322   \n",
       "\n",
       "   experiment_id  \n",
       "0            246  \n",
       "1            246  \n",
       "2            248  \n",
       "3            248  \n",
       "4            248  "
      ]
     },
     "execution_count": 6,
     "metadata": {},
     "output_type": "execute_result"
    }
   ],
   "source": [
    "# Cambiamos los nombres de las columnas para una mejor visualización y manejo de las columnas\n",
    "events.rename(columns={\n",
    "    'EventName': 'event_name',\n",
    "    'DeviceIDHash': 'user_id',\n",
    "    'EventTimestamp': 'event_timestamp',\n",
    "    'ExpId': 'experiment_id'\n",
    "}, inplace=True)\n",
    "\n",
    "events.head()"
   ]
  },
  {
   "cell_type": "markdown",
   "metadata": {},
   "source": [
    "<div class=\"alert alert-block alert-success\">\n",
    "<b>Comentario del revisor (1ra Iteracion)</b> <a class=“tocSkip”></a>\n",
    "\n",
    "Muy bien hecho! Tienes las columnas acorde a los estándares en Python\n",
    "</div>"
   ]
  },
  {
   "cell_type": "code",
   "execution_count": 7,
   "metadata": {},
   "outputs": [
    {
     "data": {
      "text/html": [
       "<div>\n",
       "<style scoped>\n",
       "    .dataframe tbody tr th:only-of-type {\n",
       "        vertical-align: middle;\n",
       "    }\n",
       "\n",
       "    .dataframe tbody tr th {\n",
       "        vertical-align: top;\n",
       "    }\n",
       "\n",
       "    .dataframe thead th {\n",
       "        text-align: right;\n",
       "    }\n",
       "</style>\n",
       "<table border=\"1\" class=\"dataframe\">\n",
       "  <thead>\n",
       "    <tr style=\"text-align: right;\">\n",
       "      <th></th>\n",
       "      <th>event_name</th>\n",
       "      <th>user_id</th>\n",
       "      <th>event_timestamp</th>\n",
       "      <th>experiment_id</th>\n",
       "      <th>event_datetime</th>\n",
       "      <th>event_date</th>\n",
       "    </tr>\n",
       "  </thead>\n",
       "  <tbody>\n",
       "    <tr>\n",
       "      <th>0</th>\n",
       "      <td>MainScreenAppear</td>\n",
       "      <td>4575588528974610257</td>\n",
       "      <td>1564029816</td>\n",
       "      <td>246</td>\n",
       "      <td>2019-07-25 04:43:36</td>\n",
       "      <td>2019-07-25</td>\n",
       "    </tr>\n",
       "    <tr>\n",
       "      <th>1</th>\n",
       "      <td>MainScreenAppear</td>\n",
       "      <td>7416695313311560658</td>\n",
       "      <td>1564053102</td>\n",
       "      <td>246</td>\n",
       "      <td>2019-07-25 11:11:42</td>\n",
       "      <td>2019-07-25</td>\n",
       "    </tr>\n",
       "    <tr>\n",
       "      <th>2</th>\n",
       "      <td>PaymentScreenSuccessful</td>\n",
       "      <td>3518123091307005509</td>\n",
       "      <td>1564054127</td>\n",
       "      <td>248</td>\n",
       "      <td>2019-07-25 11:28:47</td>\n",
       "      <td>2019-07-25</td>\n",
       "    </tr>\n",
       "    <tr>\n",
       "      <th>3</th>\n",
       "      <td>CartScreenAppear</td>\n",
       "      <td>3518123091307005509</td>\n",
       "      <td>1564054127</td>\n",
       "      <td>248</td>\n",
       "      <td>2019-07-25 11:28:47</td>\n",
       "      <td>2019-07-25</td>\n",
       "    </tr>\n",
       "    <tr>\n",
       "      <th>4</th>\n",
       "      <td>PaymentScreenSuccessful</td>\n",
       "      <td>6217807653094995999</td>\n",
       "      <td>1564055322</td>\n",
       "      <td>248</td>\n",
       "      <td>2019-07-25 11:48:42</td>\n",
       "      <td>2019-07-25</td>\n",
       "    </tr>\n",
       "  </tbody>\n",
       "</table>\n",
       "</div>"
      ],
      "text/plain": [
       "                event_name              user_id  event_timestamp  \\\n",
       "0         MainScreenAppear  4575588528974610257       1564029816   \n",
       "1         MainScreenAppear  7416695313311560658       1564053102   \n",
       "2  PaymentScreenSuccessful  3518123091307005509       1564054127   \n",
       "3         CartScreenAppear  3518123091307005509       1564054127   \n",
       "4  PaymentScreenSuccessful  6217807653094995999       1564055322   \n",
       "\n",
       "   experiment_id      event_datetime  event_date  \n",
       "0            246 2019-07-25 04:43:36  2019-07-25  \n",
       "1            246 2019-07-25 11:11:42  2019-07-25  \n",
       "2            248 2019-07-25 11:28:47  2019-07-25  \n",
       "3            248 2019-07-25 11:28:47  2019-07-25  \n",
       "4            248 2019-07-25 11:48:42  2019-07-25  "
      ]
     },
     "execution_count": 7,
     "metadata": {},
     "output_type": "execute_result"
    }
   ],
   "source": [
    "# Creamos una nueva columna 'event_datetime' que convierte el timestamp en segundos a un formato de fecha y hora\n",
    "events['event_datetime'] = pd.to_datetime(events['event_timestamp'], unit='s')\n",
    "\n",
    "# Agregamos una columna solo con la fecha\n",
    "events['event_date'] = events['event_datetime'].dt.date\n",
    "events.head()"
   ]
  },
  {
   "cell_type": "code",
   "execution_count": 8,
   "metadata": {},
   "outputs": [],
   "source": [
    "# Nos aseguramos de que user_id pase de int a texto\n",
    "events['user_id'] = events['user_id'].astype(str)"
   ]
  },
  {
   "cell_type": "code",
   "execution_count": 9,
   "metadata": {},
   "outputs": [],
   "source": [
    "# Convertimos experiment_id a categórico para mejorar la eficiencia de memoria y la velocidad de procesamiento\n",
    "events['experiment_id'] = events['experiment_id'].astype('category')"
   ]
  },
  {
   "cell_type": "code",
   "execution_count": 10,
   "metadata": {},
   "outputs": [
    {
     "name": "stdout",
     "output_type": "stream",
     "text": [
      "event_name                 object\n",
      "user_id                    object\n",
      "event_timestamp             int64\n",
      "experiment_id            category\n",
      "event_datetime     datetime64[ns]\n",
      "event_date                 object\n",
      "dtype: object\n"
     ]
    }
   ],
   "source": [
    "# Verificamos todos los cambios\n",
    "print(events.dtypes)"
   ]
  },
  {
   "cell_type": "code",
   "execution_count": 11,
   "metadata": {},
   "outputs": [
    {
     "data": {
      "text/plain": [
       "event_name         0\n",
       "user_id            0\n",
       "event_timestamp    0\n",
       "experiment_id      0\n",
       "event_datetime     0\n",
       "event_date         0\n",
       "dtype: int64"
      ]
     },
     "execution_count": 11,
     "metadata": {},
     "output_type": "execute_result"
    }
   ],
   "source": [
    "# Revisamos que no existan datos nulos \n",
    "events.isna().sum()"
   ]
  },
  {
   "cell_type": "markdown",
   "metadata": {},
   "source": [
    "<div style=\"background-color: lightblue; padding: 10px; border-radius: 5px;\">\n",
    "Convertimos la columna EventTimestamp a formato datetime porque contiene información temporal, lo cual es esencial para realizar operaciones como calcular intervalos de tiempo, ordenar eventos cronológicamente y realizar análisis de series temporales. Utilizar este formato también mejora el rendimiento y permite aplicar funciones específicas de fechas, como pd.to_datetime(). La columna DeviceIDHash (ahora user_id) se mantiene como str porque es un identificador único y no se realizarán cálculos numéricos con ella. Al mantenerla como texto, optimizamos la memoria y el rendimiento. Finalmente, la columna ExpId (ahora experiment_id) se convierte a category si representa experimentos únicos, ya que las columnas categóricas son más eficientes en cuanto a memoria y rendimiento, especialmente cuando los valores se repiten con frecuencia, lo que facilita operaciones como agrupamientos (groupby). De este modo, cada columna está en el tipo de dato más adecuado para optimizar tanto el análisis como el uso de recursos."
   ]
  },
  {
   "cell_type": "markdown",
   "metadata": {},
   "source": [
    "Ahora procederemos con la exploración y el análisis de los datos, con el objetivo de obtener una comprensión más profunda de sus características y patrones. En esta etapa del proyecto, nos enfocaremos en estudiar y comprobar los datos para responder a varias preguntas clave, como cuántos eventos están registrados en total, cuántos usuarios y usuarias aparecen en los registros, y cuál es el promedio de eventos por usuario. También analizaremos el periodo de tiempo cubierto por los datos, identificando las fechas máxima y mínima, y trazaremos un histograma por fecha y hora. Esto nos permitirá evaluar si los datos están igualmente distribuidos a lo largo del tiempo, ya que los eventos más antiguos podrían haberse registrado por razones técnicas y sesgar los resultados generales. Identificaremos el momento en que los datos comienzan a estar completos y nos centraremos en ese intervalo. Además, analizaremos si perdimos muchos eventos y usuarios al excluir los datos más antiguos y verificaremos que haya representación de usuarios y usuarias en los tres grupos experimentales. Este análisis nos ayudará a entender la calidad de los datos y asegurarnos de que los registros sean adecuados para un análisis representativo y sin sesgos."
   ]
  },
  {
   "cell_type": "code",
   "execution_count": 12,
   "metadata": {
    "scrolled": true
   },
   "outputs": [
    {
     "name": "stdout",
     "output_type": "stream",
     "text": [
      "Valores únicos por columna:\n",
      "event_name: 5 valores únicos\n",
      "user_id: 7551 valores únicos\n",
      "event_timestamp: 176654 valores únicos\n",
      "experiment_id: 3 valores únicos\n",
      "event_datetime: 176654 valores únicos\n",
      "event_date: 14 valores únicos\n"
     ]
    }
   ],
   "source": [
    "# Valores únicos en cada columna\n",
    "print(\"Valores únicos por columna:\")\n",
    "for col in events.columns:\n",
    "    print(f\"{col}: {events[col].nunique()} valores únicos\")"
   ]
  },
  {
   "cell_type": "code",
   "execution_count": 13,
   "metadata": {},
   "outputs": [
    {
     "data": {
      "text/plain": [
       "MainScreenAppear           119205\n",
       "OffersScreenAppear          46825\n",
       "CartScreenAppear            42731\n",
       "PaymentScreenSuccessful     34313\n",
       "Tutorial                     1052\n",
       "Name: event_name, dtype: int64"
      ]
     },
     "execution_count": 13,
     "metadata": {},
     "output_type": "execute_result"
    }
   ],
   "source": [
    "# Eventos únicos\n",
    "events_counts = events['event_name'].value_counts()\n",
    "events_counts"
   ]
  },
  {
   "cell_type": "code",
   "execution_count": 14,
   "metadata": {},
   "outputs": [
    {
     "data": {
      "image/png": "[encoded data removed]",
      "text/plain": [
       "<Figure size 800x300 with 1 Axes>"
      ]
     },
     "metadata": {},
     "output_type": "display_data"
    }
   ],
   "source": [
    "# Graficamos para observar mejor la distribucion de los eventos\n",
    "plt.figure(figsize=(8, 3))  \n",
    "sns.barplot(y=events_counts.index, x=events_counts.values)\n",
    "plt.title(\"Distribución de eventos\")\n",
    "plt.xlabel(\"Frecuencia\")\n",
    "plt.ylabel(\"Tipo de evento\")\n",
    "plt.show()"
   ]
  },
  {
   "cell_type": "code",
   "execution_count": 15,
   "metadata": {},
   "outputs": [
    {
     "name": "stdout",
     "output_type": "stream",
     "text": [
      "Usuarios únicos: 7551\n"
     ]
    }
   ],
   "source": [
    "# Número de usuarios únicos en los registros\n",
    "unique_users = events['user_id'].nunique()\n",
    "print(f\"Usuarios únicos: {unique_users}\")"
   ]
  },
  {
   "cell_type": "code",
   "execution_count": 16,
   "metadata": {},
   "outputs": [
    {
     "data": {
      "text/plain": [
       "user_id\n",
       "1000608915523616548     3\n",
       "100724994572555335      2\n",
       "1008242126838007188    24\n",
       "1009503747199967885    37\n",
       "1009745980451513098    31\n",
       "Name: event_name, dtype: int64"
      ]
     },
     "execution_count": 16,
     "metadata": {},
     "output_type": "execute_result"
    }
   ],
   "source": [
    "# Contamos el número de eventos por usuario \n",
    "events_per_user = events.groupby('user_id')['event_name'].count()\n",
    "events_per_user.head()\n"
   ]
  },
  {
   "cell_type": "code",
   "execution_count": 17,
   "metadata": {},
   "outputs": [
    {
     "name": "stdout",
     "output_type": "stream",
     "text": [
      "Promedio de eventos por usuario: 32.33\n"
     ]
    }
   ],
   "source": [
    "# Calculamos el promedio de eventos por usuario\n",
    "average_events_per_user = events_per_user.mean()\n",
    "\n",
    "print(f\"Promedio de eventos por usuario: {average_events_per_user:.2f}\")"
   ]
  },
  {
   "cell_type": "markdown",
   "metadata": {},
   "source": [
    "<div class=\"alert alert-block alert-success\">\n",
    "<b>Comentario del revisor (1ra Iteracion)</b> <a class=“tocSkip”></a>\n",
    "\n",
    "Excelente! También podrías revisar el promedio de eventos por cada grupo, ya que al tratarse de una prueba AB siempre se debe revisar las métricas por cada grupo experimental\n",
    "</div>"
   ]
  },
  {
   "cell_type": "code",
   "execution_count": 18,
   "metadata": {},
   "outputs": [
    {
     "name": "stdout",
     "output_type": "stream",
     "text": [
      "Fecha mínima: 2019-07-25 04:43:36\n",
      "Fecha máxima: 2019-08-07 21:15:17\n"
     ]
    }
   ],
   "source": [
    "# Calculamos los rangos de fechas para obtener la máxima y la mínima\n",
    "print(f\"Fecha mínima: {events['event_datetime'].min()}\")\n",
    "print(f\"Fecha máxima: {events['event_datetime'].max()}\")"
   ]
  },
  {
   "cell_type": "code",
   "execution_count": 19,
   "metadata": {},
   "outputs": [
    {
     "data": {
      "text/html": [
       "<div>\n",
       "<style scoped>\n",
       "    .dataframe tbody tr th:only-of-type {\n",
       "        vertical-align: middle;\n",
       "    }\n",
       "\n",
       "    .dataframe tbody tr th {\n",
       "        vertical-align: top;\n",
       "    }\n",
       "\n",
       "    .dataframe thead th {\n",
       "        text-align: right;\n",
       "    }\n",
       "</style>\n",
       "<table border=\"1\" class=\"dataframe\">\n",
       "  <thead>\n",
       "    <tr style=\"text-align: right;\">\n",
       "      <th></th>\n",
       "      <th>Fecha</th>\n",
       "      <th>Número de eventos</th>\n",
       "    </tr>\n",
       "  </thead>\n",
       "  <tbody>\n",
       "    <tr>\n",
       "      <th>0</th>\n",
       "      <td>2019-07-25</td>\n",
       "      <td>9</td>\n",
       "    </tr>\n",
       "    <tr>\n",
       "      <th>1</th>\n",
       "      <td>2019-07-26</td>\n",
       "      <td>31</td>\n",
       "    </tr>\n",
       "    <tr>\n",
       "      <th>2</th>\n",
       "      <td>2019-07-27</td>\n",
       "      <td>55</td>\n",
       "    </tr>\n",
       "    <tr>\n",
       "      <th>3</th>\n",
       "      <td>2019-07-28</td>\n",
       "      <td>105</td>\n",
       "    </tr>\n",
       "    <tr>\n",
       "      <th>4</th>\n",
       "      <td>2019-07-29</td>\n",
       "      <td>184</td>\n",
       "    </tr>\n",
       "    <tr>\n",
       "      <th>5</th>\n",
       "      <td>2019-07-30</td>\n",
       "      <td>413</td>\n",
       "    </tr>\n",
       "    <tr>\n",
       "      <th>6</th>\n",
       "      <td>2019-07-31</td>\n",
       "      <td>2031</td>\n",
       "    </tr>\n",
       "    <tr>\n",
       "      <th>7</th>\n",
       "      <td>2019-08-01</td>\n",
       "      <td>36229</td>\n",
       "    </tr>\n",
       "    <tr>\n",
       "      <th>8</th>\n",
       "      <td>2019-08-02</td>\n",
       "      <td>35606</td>\n",
       "    </tr>\n",
       "    <tr>\n",
       "      <th>9</th>\n",
       "      <td>2019-08-03</td>\n",
       "      <td>33351</td>\n",
       "    </tr>\n",
       "    <tr>\n",
       "      <th>10</th>\n",
       "      <td>2019-08-04</td>\n",
       "      <td>33033</td>\n",
       "    </tr>\n",
       "    <tr>\n",
       "      <th>11</th>\n",
       "      <td>2019-08-05</td>\n",
       "      <td>36113</td>\n",
       "    </tr>\n",
       "    <tr>\n",
       "      <th>12</th>\n",
       "      <td>2019-08-06</td>\n",
       "      <td>35822</td>\n",
       "    </tr>\n",
       "    <tr>\n",
       "      <th>13</th>\n",
       "      <td>2019-08-07</td>\n",
       "      <td>31144</td>\n",
       "    </tr>\n",
       "  </tbody>\n",
       "</table>\n",
       "</div>"
      ],
      "text/plain": [
       "         Fecha  Número de eventos\n",
       "0   2019-07-25                  9\n",
       "1   2019-07-26                 31\n",
       "2   2019-07-27                 55\n",
       "3   2019-07-28                105\n",
       "4   2019-07-29                184\n",
       "5   2019-07-30                413\n",
       "6   2019-07-31               2031\n",
       "7   2019-08-01              36229\n",
       "8   2019-08-02              35606\n",
       "9   2019-08-03              33351\n",
       "10  2019-08-04              33033\n",
       "11  2019-08-05              36113\n",
       "12  2019-08-06              35822\n",
       "13  2019-08-07              31144"
      ]
     },
     "execution_count": 19,
     "metadata": {},
     "output_type": "execute_result"
    }
   ],
   "source": [
    "# Calculamos los eventos por día y renombramos las columnas para claridad\n",
    "events_per_day = events['event_date'].value_counts().sort_index()\n",
    "events_per_day = events_per_day.reset_index()\n",
    "events_per_day.columns = ['Fecha', 'Número de eventos'] \n",
    "events_per_day"
   ]
  },
  {
   "cell_type": "code",
   "execution_count": 20,
   "metadata": {},
   "outputs": [
    {
     "data": {
      "image/png": "[encoded data removed]",
      "text/plain": [
       "<Figure size 800x400 with 1 Axes>"
      ]
     },
     "metadata": {},
     "output_type": "display_data"
    }
   ],
   "source": [
    "# Graficamos para observar mejor la distribucion de los eventos por día\n",
    "plt.figure(figsize=(8, 4))\n",
    "sns.barplot(x='Fecha', y='Número de eventos', data=events_per_day, color='green')\n",
    "plt.title(\"Distribución de eventos por fecha\")\n",
    "plt.xlabel(\"Fecha\")\n",
    "plt.ylabel(\"Número de eventos\")\n",
    "plt.xticks(rotation=90)\n",
    "plt.tight_layout()\n",
    "plt.show()\n"
   ]
  },
  {
   "cell_type": "code",
   "execution_count": 21,
   "metadata": {},
   "outputs": [
    {
     "data": {
      "text/plain": [
       "0     4\n",
       "1    11\n",
       "2    11\n",
       "3    11\n",
       "4    11\n",
       "Name: hour, dtype: int64"
      ]
     },
     "execution_count": 21,
     "metadata": {},
     "output_type": "execute_result"
    }
   ],
   "source": [
    "# Calculamos los eventos por hora del día\n",
    "events['hour'] = events['event_datetime'].dt.hour\n",
    "events['hour'].head()\n"
   ]
  },
  {
   "cell_type": "code",
   "execution_count": 22,
   "metadata": {},
   "outputs": [
    {
     "data": {
      "image/png": "[encoded data removed]",
      "text/plain": [
       "<Figure size 640x480 with 1 Axes>"
      ]
     },
     "metadata": {},
     "output_type": "display_data"
    }
   ],
   "source": [
    "# Realizamos un histograma para visualizar la distribución de los eventos por hora\n",
    "sns.histplot(events['hour'], bins=24)\n",
    "plt.title(\"Distribución de eventos por hora\")\n",
    "plt.xlabel(\"Hora del día\")\n",
    "plt.ylabel(\"Número de eventos\")\n",
    "plt.show()"
   ]
  },
  {
   "cell_type": "code",
   "execution_count": 23,
   "metadata": {},
   "outputs": [
    {
     "data": {
      "text/html": [
       "<div>\n",
       "<style scoped>\n",
       "    .dataframe tbody tr th:only-of-type {\n",
       "        vertical-align: middle;\n",
       "    }\n",
       "\n",
       "    .dataframe tbody tr th {\n",
       "        vertical-align: top;\n",
       "    }\n",
       "\n",
       "    .dataframe thead th {\n",
       "        text-align: right;\n",
       "    }\n",
       "</style>\n",
       "<table border=\"1\" class=\"dataframe\">\n",
       "  <thead>\n",
       "    <tr style=\"text-align: right;\">\n",
       "      <th></th>\n",
       "      <th>event_date</th>\n",
       "      <th>hour</th>\n",
       "      <th>n_events_per_date_and_hour</th>\n",
       "    </tr>\n",
       "  </thead>\n",
       "  <tbody>\n",
       "    <tr>\n",
       "      <th>0</th>\n",
       "      <td>2019-07-25</td>\n",
       "      <td>4</td>\n",
       "      <td>1</td>\n",
       "    </tr>\n",
       "    <tr>\n",
       "      <th>1</th>\n",
       "      <td>2019-07-25</td>\n",
       "      <td>11</td>\n",
       "      <td>5</td>\n",
       "    </tr>\n",
       "    <tr>\n",
       "      <th>2</th>\n",
       "      <td>2019-07-25</td>\n",
       "      <td>14</td>\n",
       "      <td>1</td>\n",
       "    </tr>\n",
       "    <tr>\n",
       "      <th>3</th>\n",
       "      <td>2019-07-25</td>\n",
       "      <td>20</td>\n",
       "      <td>2</td>\n",
       "    </tr>\n",
       "    <tr>\n",
       "      <th>4</th>\n",
       "      <td>2019-07-26</td>\n",
       "      <td>3</td>\n",
       "      <td>1</td>\n",
       "    </tr>\n",
       "  </tbody>\n",
       "</table>\n",
       "</div>"
      ],
      "text/plain": [
       "   event_date  hour  n_events_per_date_and_hour\n",
       "0  2019-07-25     4                           1\n",
       "1  2019-07-25    11                           5\n",
       "2  2019-07-25    14                           1\n",
       "3  2019-07-25    20                           2\n",
       "4  2019-07-26     3                           1"
      ]
     },
     "execution_count": 23,
     "metadata": {},
     "output_type": "execute_result"
    }
   ],
   "source": [
    "# Contamos eventos por fecha y hora\n",
    "events_per_date_and_hour = events.groupby(['event_date', 'hour']).size().reset_index(name='n_events_per_date_and_hour')\n",
    "events_per_date_and_hour.head()"
   ]
  },
  {
   "cell_type": "code",
   "execution_count": 24,
   "metadata": {},
   "outputs": [
    {
     "data": {
      "image/png": "[encoded data removed]",
      "text/plain": [
       "<Figure size 600x300 with 2 Axes>"
      ]
     },
     "metadata": {},
     "output_type": "display_data"
    }
   ],
   "source": [
    "# Creamos una tabla pivote para visualizar la información en el mapa de calor\n",
    "heatmap_data = events_per_date_and_hour.pivot(index='hour', columns='event_date', values='n_events_per_date_and_hour').fillna(0)\n",
    "\n",
    "# Graficamos el mapa de calor\n",
    "plt.figure(figsize=(6, 3))\n",
    "sns.heatmap(heatmap_data, cmap='Blues', linewidths=0.5, cbar_kws={'label': 'Número de eventos'})\n",
    "plt.title('Distribución de eventos por fecha y hora')\n",
    "plt.xlabel('Fecha')\n",
    "plt.ylabel('Hora del día')\n",
    "plt.show()\n"
   ]
  },
  {
   "cell_type": "markdown",
   "metadata": {},
   "source": [
    "<div style=\"background-color: lightblue; padding: 10px; border-radius: 5px;\">\n",
    "La distribución de eventos revela un patrón claro de aumento repentino en la cantidad de eventos a partir del 31 de julio de 2019, alcanzando su pico entre el 1 y el 6 de agosto de 2019. En contraste, los días previos, del 25 al 30 de julio de 2019, muestran una cantidad de eventos considerablemente baja, casi inexistente. Este cambio podría indicar que el experimento comenzó alrededor del 31 de julio, lo que explica el incremento en los eventos. Sin embargo, si esta tendencia no es correcta, la baja cantidad de eventos podría sugerir un problema técnico o una falta de registros durante esos días. \n",
    "    \n",
    "\n",
    "Ya no realizamos el histograma con la información sobre los días y las horas porque consideramos que no era necesario, ya que la distribución de las horas muestra una tendencia normal, con un mayor número de eventos en los horarios laborales. En su lugar, decidimos representar mejor ese conjunto de fecha y hora en un mapa de calor para una mejor comprensión."
   ]
  },
  {
   "cell_type": "markdown",
   "metadata": {},
   "source": [
    "Debido a que los datos no están igualmente completos a lo largo del período y el volumen de eventos aumenta drásticamente antes de estabilizarse, decidimos excluir los eventos registrados antes del 31 de julio de 2019, ya que podrían sesgar el análisis. Nos centraremos en el período válido: del 31 de julio de 2019 al 7 de agosto de 2019.\n",
    "\n",
    "Al excluir los datos anteriores al 31 de julio, perderemos algunos eventos y posiblemente usuarios que interactuaron en ese período. Procederemos a analizar si estas pérdidas podrían afectar nuestro análisis.\n",
    "\n"
   ]
  },
  {
   "cell_type": "code",
   "execution_count": 25,
   "metadata": {},
   "outputs": [
    {
     "name": "stdout",
     "output_type": "stream",
     "text": [
      "Eventos perdidos: 797\n",
      "Usuarios perdidos: 555\n"
     ]
    }
   ],
   "source": [
    "# Eventos y usuarios antes del 31 de julio\n",
    "eventos_antes = events[events['event_datetime'] < '2019-07-31']\n",
    "print(\"Eventos perdidos:\", len(eventos_antes))\n",
    "print(\"Usuarios perdidos:\", eventos_antes['user_id'].nunique())\n"
   ]
  },
  {
   "cell_type": "markdown",
   "metadata": {},
   "source": [
    "Es crucial confirmar que tenemos usuarios de los tres grupos experimentales en el periodo del 31 de julio al 7 de agosto."
   ]
  },
  {
   "cell_type": "code",
   "execution_count": 26,
   "metadata": {},
   "outputs": [
    {
     "data": {
      "text/plain": [
       "[247, 248, 246]\n",
       "Categories (3, int64): [247, 248, 246]"
      ]
     },
     "execution_count": 26,
     "metadata": {},
     "output_type": "execute_result"
    }
   ],
   "source": [
    "# Verificamos que los grupos experimentales esten presentes en el periodo válido\n",
    "eventos_validos = events[events['event_datetime'] >= '2019-07-31']\n",
    "grupos_presentes = eventos_validos['experiment_id'].unique()\n",
    "grupos_presentes\n"
   ]
  },
  {
   "cell_type": "markdown",
   "metadata": {},
   "source": [
    " <div class=\"alert alert-block alert-success\">\n",
    "<b>Comentario del revisor (1ra Iteracion)</b> <a class=“tocSkip”></a>\n",
    "\n",
    "Buen trabajo con el filtro, esto te dejará muestras de datos más consistentes\n",
    "</div>\n"
   ]
  },
  {
   "cell_type": "code",
   "execution_count": 27,
   "metadata": {},
   "outputs": [
    {
     "name": "stdout",
     "output_type": "stream",
     "text": [
      "Total de eventos en el periodo válido: 243329\n",
      "Total de usuarios en el periodo válido: 7542\n"
     ]
    }
   ],
   "source": [
    "# Verificar el resultado\n",
    "print(f\"Total de eventos en el periodo válido: {len(eventos_validos)}\")\n",
    "print(f\"Total de usuarios en el periodo válido: {eventos_validos['user_id'].nunique()}\")\n"
   ]
  },
  {
   "cell_type": "code",
   "execution_count": 28,
   "metadata": {},
   "outputs": [
    {
     "name": "stdout",
     "output_type": "stream",
     "text": [
      "Usuarios totales: 7551\n",
      "Usuarios representados en el periodo válido: 7542\n"
     ]
    }
   ],
   "source": [
    "# Verificamos usuarios únicos antes y después del 31 de julio\n",
    "usuarios_validos = eventos_validos['user_id'].nunique()\n",
    "usuarios_totales = events['user_id'].nunique()\n",
    "\n",
    "print(\"Usuarios totales:\", usuarios_totales)\n",
    "print(\"Usuarios representados en el periodo válido:\", usuarios_validos)\n"
   ]
  },
  {
   "cell_type": "markdown",
   "metadata": {},
   "source": [
    "<div style=\"background-color: lightblue; padding: 10px; border-radius: 5px;\">\n",
    "\n",
    "Los datos muestran que, de un total de 7551 usuarios, 7542 están representados en el período válido, lo que significa que casi todos los usuarios (99.88%) están incluidos en el análisis. La pérdida de solo 9 usuarios al excluir los datos anteriores al 31 de julio es mínima y no debería afectar significativamente los resultados, asegurando que trabajemos con datos consistentes y representativos. Además, los eventos en los primeros días son insignificantes en comparación con el resto del período, con solo 797 eventos frente a decenas de miles en los días posteriores. La inclusión de estos datos incompletos podría sesgar el análisis, especialmente si no reflejan la actividad típica durante el período principal. Aunque perderemos 555 usuarios, es probable que la mayoría de ellos también tengan actividad registrada entre el 31 de julio y el 7 de agosto, por lo que su exclusión no impactará de manera significativa el análisis global."
   ]
  },
  {
   "cell_type": "markdown",
   "metadata": {},
   "source": [
    "Debido a que la pérdida de usuarios es mínima y no afecta significativamente el análisis, nos centraremos únicamente en los usuarios que participaron en el periodo estable, es decir, después del 31 de julio.\n",
    "\n",
    "Se realizará un análisis del embudo de eventos, comenzando por observar los eventos registrados y su frecuencia. Se ordenarán según su frecuencia y se determinará la cantidad de usuarios que realizaron cada acción, también ordenada por número de usuarios. Además, se calculará la proporción de usuarios que realizaron cada acción al menos una vez. Se evaluará el orden en que ocurrieron las acciones y si forman parte de una secuencia, aunque esto no será necesario para el cálculo del embudo. Usaremos el embudo para calcular la proporción de usuarios que pasan de una etapa a la siguiente, por ejemplo, la proporción de usuarios que pasan de la etapa A a B y de B a C. También se analizará en qué etapa se pierde la mayor cantidad de usuarios y qué porcentaje de usuarios realizan todo el recorrido desde su primer evento hasta el pago."
   ]
  },
  {
   "cell_type": "markdown",
   "metadata": {},
   "source": [
    "Comenzaremos observando qué eventos hay en los registros y su frecuencia de sucesoy los ordenaremos por frecuencia."
   ]
  },
  {
   "cell_type": "code",
   "execution_count": 29,
   "metadata": {},
   "outputs": [
    {
     "name": "stdout",
     "output_type": "stream",
     "text": [
      "Frecuencia de eventos ordenados por su cantidad:\n",
      "MainScreenAppear           118681\n",
      "OffersScreenAppear          46724\n",
      "CartScreenAppear            42623\n",
      "PaymentScreenSuccessful     34253\n",
      "Tutorial                     1048\n",
      "Name: event_name, dtype: int64\n"
     ]
    }
   ],
   "source": [
    "# Estudiamos la frecuencia de eventos en el periodo válido\n",
    "eventos_frecuencia = eventos_validos['event_name'].value_counts()  # Número de ocurrencias por evento\n",
    "print(\"Frecuencia de eventos ordenados por su cantidad:\")\n",
    "print(eventos_frecuencia)"
   ]
  },
  {
   "cell_type": "code",
   "execution_count": 30,
   "metadata": {},
   "outputs": [
    {
     "data": {
      "text/plain": [
       "event_name\n",
       "MainScreenAppear           7429\n",
       "OffersScreenAppear         4606\n",
       "CartScreenAppear           3742\n",
       "PaymentScreenSuccessful    3542\n",
       "Tutorial                    845\n",
       "Name: user_id, dtype: int64"
      ]
     },
     "execution_count": 30,
     "metadata": {},
     "output_type": "execute_result"
    }
   ],
   "source": [
    "# Calculamos el número de usuarios únicos por evento\n",
    "usuarios_por_evento = eventos_validos.groupby('event_name')['user_id'].nunique().sort_values(ascending=False)\n",
    "usuarios_por_evento"
   ]
  },
  {
   "cell_type": "code",
   "execution_count": 31,
   "metadata": {},
   "outputs": [
    {
     "data": {
      "text/plain": [
       "event_name\n",
       "MainScreenAppear           98.501724\n",
       "OffersScreenAppear         61.071334\n",
       "CartScreenAppear           49.615487\n",
       "PaymentScreenSuccessful    46.963670\n",
       "Tutorial                   11.203925\n",
       "Name: user_id, dtype: float64"
      ]
     },
     "execution_count": 31,
     "metadata": {},
     "output_type": "execute_result"
    }
   ],
   "source": [
    "# Calculamos la proporción de usuarios que realizaron cada evento\n",
    "proporciones_users = (usuarios_por_evento / usuarios_validos)*100\n",
    "proporciones_users\n"
   ]
  },
  {
   "cell_type": "code",
   "execution_count": 32,
   "metadata": {},
   "outputs": [
    {
     "data": {
      "image/png": "[encoded data removed]",
      "text/plain": [
       "<Figure size 600x500 with 1 Axes>"
      ]
     },
     "metadata": {},
     "output_type": "display_data"
    }
   ],
   "source": [
    "# Creamos un gráfico de barras para una mejor comprension sobre las proporciones de los usuarios\n",
    "plt.figure(figsize=(6, 5)) \n",
    "sns.barplot(x=proporciones_users.index, y=proporciones_users.values, palette='viridis')\n",
    "plt.title('Proporción de Usuarios que Realizaron Cada Evento', fontsize=14)\n",
    "plt.xlabel('Evento', fontsize=10)\n",
    "plt.ylabel('Proporción (%)', fontsize=10)\n",
    "plt.xticks(rotation=45, ha='right') \n",
    "plt.tight_layout()\n",
    "plt.show()"
   ]
  },
  {
   "cell_type": "markdown",
   "metadata": {},
   "source": [
    "<div style=\"background-color: lightblue; padding: 10px; border-radius: 5px;\">\n",
    "\n",
    "Los eventos MainScreenAppear(98.5%), OffersScreenAppear(61.1%), CartScreenAppear(49.6%), PaymentScreenSuccessful(47%) y Tutorial(11.2%) muestran un patrón en el que los primeros cuatro eventos forman un embudo lógico de conversión: los usuarios pasan de la pantalla principal a las ofertas, luego al carrito y finalmente a la pantalla de pago. Sin embargo, el evento Tutorial parece estar fuera de lugar, ya que generalmente debería ser un paso inicial en el flujo, pero aparece al final, lo que sugiere que podría no ser obligatorio o que algunos usuarios lo completan en un momento posterior. En resumen, los eventos, excepto el tutorial, siguen un flujo lógico, y si el tutorial debe ser parte del proceso, debería reubicarse al principio; de lo contrario, está bien que no todos los usuarios lo completen."
   ]
  },
  {
   "cell_type": "markdown",
   "metadata": {},
   "source": [
    "<div class=\"alert alert-block alert-success\">\n",
    "<b>Comentario del revisor (1ra Iteracion)</b> <a class=“tocSkip”></a>\n",
    "\n",
    "Muy buen trabajo con las gráficas para visualizar el embudo, se nota claramente los pasos que deben seguir los usuarios y la conclusión es muy acertada\n",
    "</div>"
   ]
  },
  {
   "cell_type": "markdown",
   "metadata": {},
   "source": [
    "Procedemos a utilizar el embudo de eventos para calcular la proporción de usuarios que avanzan de una etapa a la siguiente. Específicamente, determinaremos la proporción de usuarios que pasan de una etapa a la siguiente en el embudo (por ejemplo, de A → B → C)."
   ]
  },
  {
   "cell_type": "code",
   "execution_count": 33,
   "metadata": {},
   "outputs": [
    {
     "name": "stdout",
     "output_type": "stream",
     "text": [
      "Proporción de usuarios de A a B (MainScreenAppear → OffersScreenAppear): 62.0%\n",
      "Proporción de usuarios de B a C (OffersScreenAppear → CartScreenAppear): 81.2%\n",
      "Proporción de usuarios de C a D (CartScreenAppear → PaymentScreenSuccessful): 94.7%\n"
     ]
    }
   ],
   "source": [
    "# Definimos las etapas del embudo\n",
    "usuarios_etapa_A = eventos_validos[eventos_validos['event_name'] == 'MainScreenAppear']['user_id'].nunique()\n",
    "usuarios_etapa_B = eventos_validos[eventos_validos['event_name'] == 'OffersScreenAppear']['user_id'].nunique()\n",
    "usuarios_etapa_C = eventos_validos[eventos_validos['event_name'] == 'CartScreenAppear']['user_id'].nunique()\n",
    "usuarios_etapa_D = eventos_validos[eventos_validos['event_name'] == 'PaymentScreenSuccessful']['user_id'].nunique()\n",
    "\n",
    "# Calculamos las proporciones\n",
    "proporciones_A_B = usuarios_etapa_B / usuarios_etapa_A if usuarios_etapa_A != 0 else 0\n",
    "proporciones_B_C = usuarios_etapa_C / usuarios_etapa_B if usuarios_etapa_B != 0 else 0\n",
    "proporciones_C_D = usuarios_etapa_D / usuarios_etapa_C if usuarios_etapa_C != 0 else 0\n",
    "\n",
    "print(f\"Proporción de usuarios de A a B (MainScreenAppear → OffersScreenAppear): {round(proporciones_A_B*100, 1)}%\")\n",
    "print(f\"Proporción de usuarios de B a C (OffersScreenAppear → CartScreenAppear): {round(proporciones_B_C*100, 1)}%\")\n",
    "print(f\"Proporción de usuarios de C a D (CartScreenAppear → PaymentScreenSuccessful): {round(proporciones_C_D*100, 1)}%\")\n"
   ]
  },
  {
   "cell_type": "markdown",
   "metadata": {},
   "source": [
    "<div style=\"background-color: lightblue; padding: 10px; border-radius: 5px;\">\n",
    "El embudo de eventos muestra que un 38% de los usuarios abandonan entre la pantalla principal y la de ofertas (MainScreenAppear → OffersScreenAppear), pero las conversiones mejoran en las etapas siguientes, con un 81% pasando de ofertas al carrito (OffersScreenAppear → CartScreenAppear) y un 94.7% completando la compra (CartScreenAppear → PaymentScreenSuccessful). El principal punto de fricción se encuentra en la transición inicial, lo que sugiere que optimizar la visibilidad y relevancia de las ofertas podría reducir la tasa de abandono. Además, mantener el flujo de pago sencillo y sin fricciones es clave para aprovechar la alta conversión en las últimas etapas. En general, el embudo es efectivo, pero mejorar la primera etapa podría aumentar significativamente la conversión global."
   ]
  },
  {
   "cell_type": "code",
   "execution_count": 34,
   "metadata": {},
   "outputs": [
    {
     "name": "stdout",
     "output_type": "stream",
     "text": [
      "Pérdida de usuarios de A a B (MainScreenAppear → OffersScreenAppear): 2823\n",
      "Pérdida de usuarios de B a C (OffersScreenAppear → CartScreenAppear): 864\n",
      "Pérdida de usuarios de C a D (CartScreenAppear → PaymentScreenSuccessful): 200\n"
     ]
    }
   ],
   "source": [
    "# Calculamos la pérdida de usuarios entre las etapas\n",
    "perdida_A_B = usuarios_etapa_A - usuarios_etapa_B\n",
    "perdida_B_C = usuarios_etapa_B - usuarios_etapa_C\n",
    "perdida_C_D = usuarios_etapa_C - usuarios_etapa_D\n",
    "\n",
    "print(f\"Pérdida de usuarios de A a B (MainScreenAppear → OffersScreenAppear): {perdida_A_B}\")\n",
    "print(f\"Pérdida de usuarios de B a C (OffersScreenAppear → CartScreenAppear): {perdida_B_C}\")\n",
    "print(f\"Pérdida de usuarios de C a D (CartScreenAppear → PaymentScreenSuccessful): {perdida_C_D}\")"
   ]
  },
  {
   "cell_type": "code",
   "execution_count": 35,
   "metadata": {},
   "outputs": [
    {
     "data": {
      "text/html": [
       "<div>\n",
       "<style scoped>\n",
       "    .dataframe tbody tr th:only-of-type {\n",
       "        vertical-align: middle;\n",
       "    }\n",
       "\n",
       "    .dataframe tbody tr th {\n",
       "        vertical-align: top;\n",
       "    }\n",
       "\n",
       "    .dataframe thead th {\n",
       "        text-align: right;\n",
       "    }\n",
       "</style>\n",
       "<table border=\"1\" class=\"dataframe\">\n",
       "  <thead>\n",
       "    <tr style=\"text-align: right;\">\n",
       "      <th></th>\n",
       "      <th>Etapa</th>\n",
       "      <th>Pérdida</th>\n",
       "    </tr>\n",
       "  </thead>\n",
       "  <tbody>\n",
       "    <tr>\n",
       "      <th>0</th>\n",
       "      <td>A → B</td>\n",
       "      <td>2823</td>\n",
       "    </tr>\n",
       "    <tr>\n",
       "      <th>1</th>\n",
       "      <td>B → C</td>\n",
       "      <td>864</td>\n",
       "    </tr>\n",
       "    <tr>\n",
       "      <th>2</th>\n",
       "      <td>C → D</td>\n",
       "      <td>200</td>\n",
       "    </tr>\n",
       "  </tbody>\n",
       "</table>\n",
       "</div>"
      ],
      "text/plain": [
       "   Etapa  Pérdida\n",
       "0  A → B     2823\n",
       "1  B → C      864\n",
       "2  C → D      200"
      ]
     },
     "execution_count": 35,
     "metadata": {},
     "output_type": "execute_result"
    }
   ],
   "source": [
    "# Determinamos en qué etapa se pierde más usuarios\n",
    "perdidas = {'A → B': perdida_A_B, 'B → C': perdida_B_C, 'C → D': perdida_C_D}\n",
    "\n",
    "df_perdidas = pd.DataFrame(list(perdidas.items()), columns=['Etapa', 'Pérdida'])\n",
    "df_perdidas"
   ]
  },
  {
   "cell_type": "code",
   "execution_count": 37,
   "metadata": {},
   "outputs": [
    {
     "data": {
      "image/png": "[encoded data removed]",
      "text/plain": [
       "<Figure size 500x300 with 1 Axes>"
      ]
     },
     "metadata": {},
     "output_type": "display_data"
    }
   ],
   "source": [
    "# Creamos la gráfica de barras para analizar las pérdidas de usuarios entre las etapas del embudo\n",
    "plt.figure(figsize=(5, 3))\n",
    "ax = sns.barplot(x='Etapa', y='Pérdida', data=df_perdidas, palette='Blues')\n",
    "plt.xlabel('Etapas del Embudo')\n",
    "plt.ylabel('Usuarios Perdidos')\n",
    "plt.title('Pérdida de Usuarios entre Etapas del Embudo')\n",
    "plt.tight_layout()\n",
    "plt.show()"
   ]
  },
  {
   "cell_type": "markdown",
   "metadata": {},
   "source": [
    "<div style=\"background-color: lightblue; padding: 10px; border-radius: 5px;\">\n",
    "La mayor pérdida de usuarios ocurre en la transición de la pantalla principal a las ofertas (A → B), con 2823 usuarios abandonando. Esta pérdida disminuye en las siguientes etapas, con 864 usuarios abandonando de ofertas al carrito (B → C) y solo 200 en el último paso, de carrito a pago exitoso (C → D). Esto indica que el embudo mejora en las etapas posteriores, pero la optimización de la etapa inicial podría reducir significativamente el abandono."
   ]
  },
  {
   "cell_type": "markdown",
   "metadata": {},
   "source": [
    "Ahora, analizaremos qué porcentaje de usuarios completa todo el recorrido, desde su primer evento hasta la finalización del pago."
   ]
  },
  {
   "cell_type": "code",
   "execution_count": 38,
   "metadata": {},
   "outputs": [
    {
     "name": "stdout",
     "output_type": "stream",
     "text": [
      "Porcentaje de usuarios que completan el embudo: 47.6780185758514%\n"
     ]
    }
   ],
   "source": [
    "# Calculamos el porcentaje de usuarios que completan el embudo\n",
    "porcentaje_completaron_embudo = usuarios_etapa_D / usuarios_etapa_A * 100\n",
    "\n",
    "print(f\"Porcentaje de usuarios que completan el embudo: {porcentaje_completaron_embudo}%\")\n"
   ]
  },
  {
   "cell_type": "markdown",
   "metadata": {},
   "source": [
    "<div style=\"background-color: lightblue; padding: 10px; border-radius: 5px;\">\n",
    "El 47.68% de los usuarios completa todo el embudo, desde su primer evento hasta la finalización del pago. Esto indica que, aunque casi la mitad de los usuarios completan el proceso, hay una oportunidad significativa de optimizar las etapas intermedias para aumentar la tasa de conversión y reducir el abandono en el embudo.   "
   ]
  },
  {
   "cell_type": "markdown",
   "metadata": {},
   "source": [
    "<div class=\"alert alert-block alert-success\">\n",
    "<b>Comentario del revisor (1ra Iteracion)</b> <a class=“tocSkip”></a>\n",
    "\n",
    "Muy buen análisis y recomendación en base a tus datos!\n",
    "</div>"
   ]
  },
  {
   "cell_type": "markdown",
   "metadata": {},
   "source": [
    "A continuación, estudiaremos los resultados del experimento, comenzando por analizar cuántos usuarios hay en cada grupo, incluyendo los dos grupos de control en el test A/A, donde verificamos nuestros mecanismos y cálculos. Evaluaremos si existe una diferencia estadísticamente significativa entre las muestras 246 y 247. Luego, seleccionaremos el evento más popular y analizaremos cuántos usuarios de cada grupo realizaron esa acción, calculando su proporción y verificando si la diferencia entre los grupos es significativa y repetiremos este análisis para todos los demás eventos. Posteriormente, realizaremos el mismo procedimiento para el grupo con fuentes alteradas y compararemos los resultados con los de los grupos de control, tanto de forma aislada como combinada.\n",
    "\n",
    "También se analizará el nivel de significancia estadística para las pruebas de hipótesis, considerando un umbral inicial de 0.1, lo que implica que uno de cada diez resultados podría ser falso. Si es necesario, ajustaremos este nivel y revisaremos los pasos anteriores para validar nuestras conclusiones."
   ]
  },
  {
   "cell_type": "code",
   "execution_count": 39,
   "metadata": {},
   "outputs": [
    {
     "data": {
      "text/html": [
       "<div>\n",
       "<style scoped>\n",
       "    .dataframe tbody tr th:only-of-type {\n",
       "        vertical-align: middle;\n",
       "    }\n",
       "\n",
       "    .dataframe tbody tr th {\n",
       "        vertical-align: top;\n",
       "    }\n",
       "\n",
       "    .dataframe thead th {\n",
       "        text-align: right;\n",
       "    }\n",
       "</style>\n",
       "<table border=\"1\" class=\"dataframe\">\n",
       "  <thead>\n",
       "    <tr style=\"text-align: right;\">\n",
       "      <th></th>\n",
       "      <th>experiment_id</th>\n",
       "      <th>user_count</th>\n",
       "    </tr>\n",
       "  </thead>\n",
       "  <tbody>\n",
       "    <tr>\n",
       "      <th>0</th>\n",
       "      <td>246</td>\n",
       "      <td>2485</td>\n",
       "    </tr>\n",
       "    <tr>\n",
       "      <th>1</th>\n",
       "      <td>247</td>\n",
       "      <td>2517</td>\n",
       "    </tr>\n",
       "    <tr>\n",
       "      <th>2</th>\n",
       "      <td>248</td>\n",
       "      <td>2540</td>\n",
       "    </tr>\n",
       "  </tbody>\n",
       "</table>\n",
       "</div>"
      ],
      "text/plain": [
       "  experiment_id  user_count\n",
       "0           246        2485\n",
       "1           247        2517\n",
       "2           248        2540"
      ]
     },
     "execution_count": 39,
     "metadata": {},
     "output_type": "execute_result"
    }
   ],
   "source": [
    "# Contamos usuarios únicos en cada grupo experimental\n",
    "usuarios_por_grupo = eventos_validos.groupby('experiment_id')['user_id'].nunique().reset_index()\n",
    "usuarios_por_grupo.columns = ['experiment_id', 'user_count']  # Renombramos las columnas para claridad\n",
    "usuarios_por_grupo"
   ]
  },
  {
   "cell_type": "code",
   "execution_count": 40,
   "metadata": {},
   "outputs": [
    {
     "name": "stdout",
     "output_type": "stream",
     "text": [
      "El evento más popular en general es: MainScreenAppear\n"
     ]
    }
   ],
   "source": [
    "# Buscamos el evento más popular\n",
    "evento_mas_popular = eventos_validos['event_name'].value_counts().idxmax()\n",
    "\n",
    "\n",
    "print(f\"El evento más popular en general es: {evento_mas_popular}\")\n"
   ]
  },
  {
   "cell_type": "code",
   "execution_count": 41,
   "metadata": {},
   "outputs": [
    {
     "data": {
      "text/html": [
       "<div>\n",
       "<style scoped>\n",
       "    .dataframe tbody tr th:only-of-type {\n",
       "        vertical-align: middle;\n",
       "    }\n",
       "\n",
       "    .dataframe tbody tr th {\n",
       "        vertical-align: top;\n",
       "    }\n",
       "\n",
       "    .dataframe thead th {\n",
       "        text-align: right;\n",
       "    }\n",
       "</style>\n",
       "<table border=\"1\" class=\"dataframe\">\n",
       "  <thead>\n",
       "    <tr style=\"text-align: right;\">\n",
       "      <th></th>\n",
       "      <th>experiment_id</th>\n",
       "      <th>event_name</th>\n",
       "      <th>user_count</th>\n",
       "    </tr>\n",
       "  </thead>\n",
       "  <tbody>\n",
       "    <tr>\n",
       "      <th>11</th>\n",
       "      <td>248</td>\n",
       "      <td>MainScreenAppear</td>\n",
       "      <td>2498</td>\n",
       "    </tr>\n",
       "    <tr>\n",
       "      <th>12</th>\n",
       "      <td>248</td>\n",
       "      <td>OffersScreenAppear</td>\n",
       "      <td>1536</td>\n",
       "    </tr>\n",
       "    <tr>\n",
       "      <th>10</th>\n",
       "      <td>248</td>\n",
       "      <td>CartScreenAppear</td>\n",
       "      <td>1236</td>\n",
       "    </tr>\n",
       "    <tr>\n",
       "      <th>13</th>\n",
       "      <td>248</td>\n",
       "      <td>PaymentScreenSuccessful</td>\n",
       "      <td>1183</td>\n",
       "    </tr>\n",
       "    <tr>\n",
       "      <th>14</th>\n",
       "      <td>248</td>\n",
       "      <td>Tutorial</td>\n",
       "      <td>282</td>\n",
       "    </tr>\n",
       "  </tbody>\n",
       "</table>\n",
       "</div>"
      ],
      "text/plain": [
       "   experiment_id               event_name  user_count\n",
       "11           248         MainScreenAppear        2498\n",
       "12           248       OffersScreenAppear        1536\n",
       "10           248         CartScreenAppear        1236\n",
       "13           248  PaymentScreenSuccessful        1183\n",
       "14           248                 Tutorial         282"
      ]
     },
     "execution_count": 41,
     "metadata": {},
     "output_type": "execute_result"
    }
   ],
   "source": [
    "# Agrupamos los eventos por experimento y nombre del evento, contamos los usuarios únicos \n",
    "# y ordenamos los resultados por cantidad de usuarios, luego renombramos las columnas para mayor claridad.\n",
    "\n",
    "usuarios_por_evento_y_grupos = eventos_validos.groupby(['experiment_id','event_name']).agg(\n",
    "    {'user_id':'nunique'}).reset_index().sort_values(by=['experiment_id','user_id'],ascending=False)\n",
    "\n",
    "usuarios_por_evento_y_grupos.columns = ['experiment_id','event_name', 'user_count']\n",
    "usuarios_por_evento_y_grupos.head()"
   ]
  },
  {
   "cell_type": "code",
   "execution_count": 42,
   "metadata": {},
   "outputs": [
    {
     "data": {
      "text/html": [
       "<div>\n",
       "<style scoped>\n",
       "    .dataframe tbody tr th:only-of-type {\n",
       "        vertical-align: middle;\n",
       "    }\n",
       "\n",
       "    .dataframe tbody tr th {\n",
       "        vertical-align: top;\n",
       "    }\n",
       "\n",
       "    .dataframe thead th {\n",
       "        text-align: right;\n",
       "    }\n",
       "</style>\n",
       "<table border=\"1\" class=\"dataframe\">\n",
       "  <thead>\n",
       "    <tr style=\"text-align: right;\">\n",
       "      <th></th>\n",
       "      <th>experiment_id</th>\n",
       "      <th>event_name</th>\n",
       "      <th>user_count</th>\n",
       "    </tr>\n",
       "  </thead>\n",
       "  <tbody>\n",
       "    <tr>\n",
       "      <th>11</th>\n",
       "      <td>248</td>\n",
       "      <td>MainScreenAppear</td>\n",
       "      <td>2498</td>\n",
       "    </tr>\n",
       "    <tr>\n",
       "      <th>6</th>\n",
       "      <td>247</td>\n",
       "      <td>MainScreenAppear</td>\n",
       "      <td>2479</td>\n",
       "    </tr>\n",
       "    <tr>\n",
       "      <th>1</th>\n",
       "      <td>246</td>\n",
       "      <td>MainScreenAppear</td>\n",
       "      <td>2452</td>\n",
       "    </tr>\n",
       "  </tbody>\n",
       "</table>\n",
       "</div>"
      ],
      "text/plain": [
       "   experiment_id        event_name  user_count\n",
       "11           248  MainScreenAppear        2498\n",
       "6            247  MainScreenAppear        2479\n",
       "1            246  MainScreenAppear        2452"
      ]
     },
     "execution_count": 42,
     "metadata": {},
     "output_type": "execute_result"
    }
   ],
   "source": [
    "# Comprobamos que en todos los grupos el evento mas popular sea 'MainScreenAppear'\n",
    "# Creamos una columna para ordenar de forma descendente los eventos mas populares \n",
    "usuarios_por_evento_y_grupos['orden'] = usuarios_por_evento_y_grupos.groupby('experiment_id').cumcount()+1\n",
    "top_eventos_por_grupo = usuarios_por_evento_y_grupos[usuarios_por_evento_y_grupos['orden']==1][['experiment_id','event_name','user_count']]\n",
    "top_eventos_por_grupo"
   ]
  },
  {
   "cell_type": "code",
   "execution_count": 43,
   "metadata": {},
   "outputs": [
    {
     "name": "stdout",
     "output_type": "stream",
     "text": [
      "Número de usuarios que realizaron el evento más popular en grupo 246: 2452\n",
      "Número de usuarios que realizaron el evento más popular en grupo 247: 2479\n",
      "Número de usuarios que realizaron el evento más popular en grupo 248: 2498\n"
     ]
    }
   ],
   "source": [
    "# Contamos los usuarios que realizaron el evento más popular en cada grupo de control\n",
    "usuarios_unicos_246 =top_eventos_por_grupo.loc[top_eventos_por_grupo['experiment_id'] == 246, 'user_count'].values[0]\n",
    "usuarios_unicos_247 = top_eventos_por_grupo.loc[top_eventos_por_grupo['experiment_id'] == 247, 'user_count'].values[0]\n",
    "usuarios_unicos_248 = top_eventos_por_grupo.loc[top_eventos_por_grupo['experiment_id'] == 248, 'user_count'].values[0]\n",
    "\n",
    "print(f\"Número de usuarios que realizaron el evento más popular en grupo 246: {usuarios_unicos_246}\")\n",
    "print(f\"Número de usuarios que realizaron el evento más popular en grupo 247: {usuarios_unicos_247}\")\n",
    "print(f\"Número de usuarios que realizaron el evento más popular en grupo 248: {usuarios_unicos_248}\")"
   ]
  },
  {
   "cell_type": "code",
   "execution_count": 44,
   "metadata": {},
   "outputs": [
    {
     "name": "stdout",
     "output_type": "stream",
     "text": [
      "Proporción de usuarios que realizaron el evento más popular en el grupo 246: 98.7%\n",
      "Proporción de usuarios que realizaron el evento más popular en el grupo 247: 98.5%\n",
      "Proporción de usuarios que realizaron el evento más popular en el grupo 248: 98.3%\n"
     ]
    }
   ],
   "source": [
    "# Calculamos proporciones por cada grupo sobre el evento más popular\n",
    "proporcion_246 = usuarios_unicos_246 / usuarios_por_grupo.loc[usuarios_por_grupo['experiment_id'] == 246, 'user_count'].values[0]\n",
    "proporcion_247 = usuarios_unicos_247 / usuarios_por_grupo.loc[usuarios_por_grupo['experiment_id'] == 247, 'user_count'].values[0]\n",
    "proporcion_248 = usuarios_unicos_248 / usuarios_por_grupo.loc[usuarios_por_grupo['experiment_id'] == 248, 'user_count'].values[0]\n",
    "\n",
    "\n",
    "print(f\"Proporción de usuarios que realizaron el evento más popular en el grupo 246: {round(proporcion_246*100, 1)}%\")\n",
    "print(f\"Proporción de usuarios que realizaron el evento más popular en el grupo 247: {round(proporcion_247*100, 1)}%\")\n",
    "print(f\"Proporción de usuarios que realizaron el evento más popular en el grupo 248: {round(proporcion_248*100, 1)}%\")"
   ]
  },
  {
   "cell_type": "code",
   "execution_count": 45,
   "metadata": {},
   "outputs": [],
   "source": [
    "# Función para realizar la prueba de diferencia de proporciones\n",
    "def test_proporciones(proporcion_1, n_1, proporcion_2, n_2):\n",
    "    # Realizamos la prueba z de diferencia de proporciones\n",
    "    z_score, p_value = sm.stats.proportions_ztest([proporcion_1 * n_1, proporcion_2 * n_2], [n_1, n_2])\n",
    "    return z_score, p_value"
   ]
  },
  {
   "cell_type": "code",
   "execution_count": 46,
   "metadata": {},
   "outputs": [
    {
     "name": "stdout",
     "output_type": "stream",
     "text": [
      "Prueba entre grupos 246 y 247:\n",
      "Z-score (246 vs 247): 0.5433662131839705, P-value (246 vs 247): 0.586877683651296\n"
     ]
    }
   ],
   "source": [
    "# Realizamos la prueba entre los grupos de control 246 y 247\n",
    "z_score_246_247, p_value_246_247 = test_proporciones(\n",
    "    proporcion_246, usuarios_por_grupo.loc[usuarios_por_grupo['experiment_id'] == 246, 'user_count'].values[0],\n",
    "                                                     \n",
    "    proporcion_247, usuarios_por_grupo.loc[usuarios_por_grupo['experiment_id'] == 247, 'user_count'].values[0])\n",
    "\n",
    "print(f\"Prueba entre grupos 246 y 247:\")\n",
    "print(f\"Z-score (246 vs 247): {z_score_246_247}, P-value (246 vs 247): {p_value_246_247}\")"
   ]
  },
  {
   "cell_type": "markdown",
   "metadata": {},
   "source": [
    "<div style=\"background-color: lightblue; padding: 10px; border-radius: 5px;\">\n",
    "Prueba entre grupos 246 y 247:\n",
    "\n",
    "Z-score (0.543): Este valor bajo sugiere que la diferencia entre los dos grupos no es significativa desde el punto de vista estadístico.\n",
    "P-value (0.587): Este valor es mucho mayor que el umbral de significancia de 0.1, lo que indica que no podemos rechazar la hipótesis nula, es decir, no hay evidencia suficiente para afirmar que existe una diferencia significativa entre los dos grupos.\n",
    "\n",
    "\n",
    "Por lo que podemos concluir que no hay diferencia estadística significativa entre el grupo 246 y el grupo 247. Esto sugiere que los dos grupos tienen comportamientos similares en relación al evento más popular. Con un nivel de significancia de 0.1, concluimos que los dos grupos de control están bien equilibrados y presentan un comportamiento similar en cuanto a la realización del evento más popular.\n",
    "\n"
   ]
  },
  {
   "cell_type": "markdown",
   "metadata": {},
   "source": [
    "Ahora procedemos a analizar si existe una diferencia estadísticamente significativa entre el grupo de experimentación 248 y los grupos de control 246 y 247."
   ]
  },
  {
   "cell_type": "code",
   "execution_count": 47,
   "metadata": {},
   "outputs": [
    {
     "name": "stdout",
     "output_type": "stream",
     "text": [
      "Prueba entre grupo 248 (fuentes alteradas) y 246 (grupo control):\n",
      "Z-score (248 vs 246): -0.9516266005609376, P-value (248 vs 246): 0.341286386031747\n"
     ]
    }
   ],
   "source": [
    "# Realizamos la prueba entre el grupo con fuentes alteradas (248) y el grupo de control 246\n",
    "z_score_248_246, p_value_248_246 = test_proporciones(\n",
    "    proporcion_248, usuarios_por_grupo.loc[usuarios_por_grupo['experiment_id'] == 248, 'user_count'].values[0],\n",
    "    proporcion_246, usuarios_por_grupo.loc[usuarios_por_grupo['experiment_id'] == 246, 'user_count'].values[0])\n",
    "\n",
    "\n",
    "print(f\"Prueba entre grupo 248 (fuentes alteradas) y 246 (grupo control):\")\n",
    "print(f\"Z-score (248 vs 246): {z_score_248_246}, P-value (248 vs 246): {p_value_248_246}\")\n"
   ]
  },
  {
   "cell_type": "code",
   "execution_count": 48,
   "metadata": {},
   "outputs": [
    {
     "name": "stdout",
     "output_type": "stream",
     "text": [
      "Prueba entre grupo 248 (fuentes alteradas) y 247 (grupo control):\n",
      "Z-score (248 vs 247): -0.4097922080317102, P-value (248 vs 247): 0.6819583826039272\n"
     ]
    }
   ],
   "source": [
    "# Realizamos la prueba entre el grupo con fuentes alteradas (248) y el grupo de control 247\n",
    "z_score_248_247, p_value_248_247 = test_proporciones(\n",
    "    proporcion_248, usuarios_por_grupo.loc[usuarios_por_grupo['experiment_id'] == 248, 'user_count'].values[0],\n",
    "    proporcion_247, usuarios_por_grupo.loc[usuarios_por_grupo['experiment_id'] == 247, 'user_count'].values[0])\n",
    "\n",
    "print(f\"Prueba entre grupo 248 (fuentes alteradas) y 247 (grupo control):\")\n",
    "print(f\"Z-score (248 vs 247): {z_score_248_247}, P-value (248 vs 247): {p_value_248_247}\")"
   ]
  },
  {
   "cell_type": "markdown",
   "metadata": {},
   "source": [
    "<div style=\"background-color: lightblue; padding: 10px; border-radius: 5px;\">\n",
    "Prueba entre el grupo 248 (fuentes alteradas) y el grupo 246 (control):\n",
    "\n",
    "Z-score (-0.952): Este valor cercano a 0 sugiere que la diferencia entre los grupos 248 y 246 es pequeña.\n",
    "P-value (0.341): Este p-value es mucho mayor que el umbral de significancia de 0.1, lo que indica que no hay evidencia suficiente para rechazar la hipótesis nula. Es decir, no hay una diferencia estadísticamente significativa entre los dos grupos.\n",
    "\n",
    "Prueba entre el grupo 248 (fuentes alteradas) y el grupo 247 (control):\n",
    "Z-score (-0.410): Similar al resultado anterior, este valor indica una pequeña diferencia entre los grupos 248 y 247.\n",
    "P-value (0.682): Este p-value es también mucho mayor que 0.1, lo que significa que no podemos rechazar la hipótesis nula. No se observa una diferencia estadísticamente significativa entre estos dos grupos.\n",
    "\n",
    "En conclusión, en ambos casos, entre el grupo 248 (fuentes alteradas) y los grupos de control 246 y 247, no encontramos diferencias estadísticamente significativas. Los p-values altos (mayores que 0.1) sugieren que no hay evidencia suficiente para afirmar que las fuentes alteradas (grupo 248) tengan un impacto diferente en comparación con los grupos de control. Esto indica que los resultados de los grupos 248 y de control son estadísticamente similares."
   ]
  },
  {
   "cell_type": "markdown",
   "metadata": {},
   "source": [
    "Ahora vamos a combinar los grupos de control para determinar si, al analizarlos juntos, presentan un nivel de significancia diferente en comparación con el grupo 248."
   ]
  },
  {
   "cell_type": "code",
   "execution_count": 49,
   "metadata": {},
   "outputs": [
    {
     "data": {
      "text/plain": [
       "0.9858056777289085"
      ]
     },
     "execution_count": 49,
     "metadata": {},
     "output_type": "execute_result"
    }
   ],
   "source": [
    "# Combinamos los grupos 246 y 247 para obtener los resultados combinados\n",
    "usuarios_combinados_control = usuarios_unicos_246 + usuarios_unicos_247\n",
    "n_combinado_control = usuarios_por_grupo.loc[usuarios_por_grupo['experiment_id'] == 246, 'user_count'].values[0] + usuarios_por_grupo.loc[usuarios_por_grupo['experiment_id'] == 247, 'user_count'].values[0]\n",
    "\n",
    "# Calculamos la proporción combinada de los grupos 246 + 247\n",
    "proporcion_combinado_control = usuarios_combinados_control / n_combinado_control\n",
    "proporcion_combinado_control"
   ]
  },
  {
   "cell_type": "code",
   "execution_count": 50,
   "metadata": {},
   "outputs": [
    {
     "name": "stdout",
     "output_type": "stream",
     "text": [
      "Prueba entre grupo 248 (fuentes alteradas) y los grupos combinados 246 + 247:\n",
      "Z-score (248 vs combinados): -0.7909509163562825, P-value (248 vs combinados): 0.42897263461182156\n"
     ]
    }
   ],
   "source": [
    "# Realizamos la prueba entre el grupo con fuentes alteradas (248) \n",
    "#y los resultados combinados de los grupos de control (246 + 247)\n",
    "z_score_248_combinado, p_value_248_combinado = test_proporciones(\n",
    "    proporcion_248, usuarios_por_grupo.loc[usuarios_por_grupo['experiment_id'] == 248, 'user_count'].values[0],\n",
    "    proporcion_combinado_control, n_combinado_control)\n",
    "\n",
    "print(f\"Prueba entre grupo 248 (fuentes alteradas) y los grupos combinados 246 + 247:\")\n",
    "print(f\"Z-score (248 vs combinados): {z_score_248_combinado}, P-value (248 vs combinados): {p_value_248_combinado}\")"
   ]
  },
  {
   "cell_type": "markdown",
   "metadata": {},
   "source": [
    "<div style=\"background-color: lightblue; padding: 10px; border-radius: 5px;\">\n",
    "La prueba entre el grupo 248 (fuentes alteradas) y los grupos combinados 246 + 247 muestra un p-value de 0.429, lo que es mayor que el umbral de significancia de 0.1. Esto indica que no hay una diferencia estadísticamente significativa entre el grupo 248 y los grupos combinados de control. Los resultados sugieren que las fuentes alteradas no tienen un impacto diferente en comparación con los grupos de control."
   ]
  },
  {
   "cell_type": "markdown",
   "metadata": {},
   "source": [
    "Repetiremos el procedimiento para todos los demás eventos, realizando las pruebas de hipótesis entre los grupos de control y el grupo de experimentación (248). Para cada evento, calcularemos el Z-score y el p-value, lo que nos permitirá determinar si existe una diferencia estadísticamente significativa en la realización de ese evento entre los grupos. "
   ]
  },
  {
   "cell_type": "code",
   "execution_count": 51,
   "metadata": {},
   "outputs": [
    {
     "data": {
      "text/plain": [
       "array(['MainScreenAppear', 'OffersScreenAppear', 'CartScreenAppear',\n",
       "       'PaymentScreenSuccessful', 'Tutorial'], dtype=object)"
      ]
     },
     "execution_count": 51,
     "metadata": {},
     "output_type": "execute_result"
    }
   ],
   "source": [
    "# Recordamos los eventos que existen\n",
    "eventos = usuarios_por_evento_y_grupos['event_name'].unique()\n",
    "eventos"
   ]
  },
  {
   "cell_type": "code",
   "execution_count": 52,
   "metadata": {},
   "outputs": [
    {
     "name": "stdout",
     "output_type": "stream",
     "text": [
      "Total usuarios grupo 246: 6741\n",
      "Total usuarios grupo 247: 6688\n",
      "Total usuarios grupo 248: 6735\n"
     ]
    }
   ],
   "source": [
    "# Obtenemos el total de usuarios únicos por grupo (sumando 'user_count' de todos los eventos por grupo)\n",
    "total_246 = usuarios_por_evento_y_grupos[usuarios_por_evento_y_grupos['experiment_id'] == 246]['user_count'].sum()\n",
    "total_247 = usuarios_por_evento_y_grupos[usuarios_por_evento_y_grupos['experiment_id'] == 247]['user_count'].sum()\n",
    "total_248 = usuarios_por_evento_y_grupos[usuarios_por_evento_y_grupos['experiment_id'] == 248]['user_count'].sum()\n",
    "\n",
    "print(f\"Total usuarios grupo 246: {total_246}\")\n",
    "print(f\"Total usuarios grupo 247: {total_247}\")\n",
    "print(f\"Total usuarios grupo 248: {total_248}\")\n"
   ]
  },
  {
   "cell_type": "code",
   "execution_count": 53,
   "metadata": {},
   "outputs": [],
   "source": [
    "# Creamos una función que calcule la proporción de usuarios para cada evento y grupo\n",
    "def calcular_proporciones_por_evento(grupo, evento):\n",
    "    total_usuarios_grupo = usuarios_por_evento_y_grupos[usuarios_por_evento_y_grupos['experiment_id'] == grupo]['user_count'].sum()\n",
    "    usuarios_evento_grupo = usuarios_por_evento_y_grupos[(usuarios_por_evento_y_grupos['experiment_id'] == grupo) & \n",
    "                                                         (usuarios_por_evento_y_grupos['event_name'] == evento)]['user_count'].values[0]\n",
    "    return usuarios_evento_grupo / total_usuarios_grupo"
   ]
  },
  {
   "cell_type": "code",
   "execution_count": 54,
   "metadata": {},
   "outputs": [
    {
     "name": "stdout",
     "output_type": "stream",
     "text": [
      "Evento: MainScreenAppear\n",
      "Proporción en grupo 246: 0.3637\n",
      "Proporción en grupo 247: 0.3707\n",
      "Proporción en grupo 248: 0.3709\n",
      "----------------------------------------\n",
      "Evento: OffersScreenAppear\n",
      "Proporción en grupo 246: 0.2290\n",
      "Proporción en grupo 247: 0.2282\n",
      "Proporción en grupo 248: 0.2281\n",
      "----------------------------------------\n",
      "Evento: CartScreenAppear\n",
      "Proporción en grupo 246: 0.1880\n",
      "Proporción en grupo 247: 0.1853\n",
      "Proporción en grupo 248: 0.1835\n",
      "----------------------------------------\n",
      "Evento: PaymentScreenSuccessful\n",
      "Proporción en grupo 246: 0.1780\n",
      "Proporción en grupo 247: 0.1733\n",
      "Proporción en grupo 248: 0.1756\n",
      "----------------------------------------\n",
      "Evento: Tutorial\n",
      "Proporción en grupo 246: 0.0412\n",
      "Proporción en grupo 247: 0.0426\n",
      "Proporción en grupo 248: 0.0419\n",
      "----------------------------------------\n"
     ]
    }
   ],
   "source": [
    "# Comparamos las proporciones de cada evento en los tres grupos\n",
    "proporciones = {}\n",
    "\n",
    "for evento in eventos:\n",
    "    proporciones[evento] = {\n",
    "        '246': calcular_proporciones_por_evento(246, evento),\n",
    "        '247': calcular_proporciones_por_evento(247, evento),\n",
    "        '248': calcular_proporciones_por_evento(248, evento)\n",
    "    }\n",
    "\n",
    "# Mostramos las proporciones para cada evento por cada grupo\n",
    "for evento, proporciones_evento in proporciones.items():\n",
    "    print(f\"Evento: {evento}\")\n",
    "    print(f\"Proporción en grupo 246: {proporciones_evento['246']:.4f}\")\n",
    "    print(f\"Proporción en grupo 247: {proporciones_evento['247']:.4f}\")\n",
    "    print(f\"Proporción en grupo 248: {proporciones_evento['248']:.4f}\")\n",
    "    print(\"-\" * 40)"
   ]
  },
  {
   "cell_type": "markdown",
   "metadata": {},
   "source": [
    "<div style=\"background-color: lightblue; padding: 10px; border-radius: 5px;\">\n",
    "Las proporciones muestran que los tres grupos tienen comportamientos bastante similares a lo largo de las diferentes etapas del embudo, lo que sugiere que no hay diferencias significativas en la participación de los usuarios entre los grupos de control (246 y 247) y el grupo de experimentación (248). Esto indica que las fuentes alteradas (grupo 248) no tienen un efecto evidente sobre la participación de los usuarios en comparación con los grupos de control."
   ]
  },
  {
   "cell_type": "markdown",
   "metadata": {},
   "source": [
    "\n",
    "<div class=\"alert alert-block alert-success\">\n",
    "<b>Comentario del revisor (1ra Iteracion)</b> <a class=“tocSkip”></a>\n",
    "\n",
    "Perfecto! Revisar si hay diferencias en cada etapa del embudo puede indicar en que punto sucedió algo que alterara o no el comportamiento de los usuarios\n",
    "</div>"
   ]
  },
  {
   "cell_type": "markdown",
   "metadata": {},
   "source": [
    "Lo siguiente consiste en calcular las proporciones combinadas para los grupos de control 246 y 247. Esto nos permitirá obtener una visión global de la participación de los usuarios en ambos grupos antes de comparar con el grupo de experimentación 248."
   ]
  },
  {
   "cell_type": "code",
   "execution_count": 55,
   "metadata": {},
   "outputs": [],
   "source": [
    "# Función para calcular las proporciones combinadas para los grupos 246 y 247\n",
    "def calcular_proporciones_combinadas(grupo1, grupo2, evento):\n",
    "    # Sumamos el número de usuarios por evento en cada grupo\n",
    "    usuarios_grupo1 = usuarios_por_evento_y_grupos[(usuarios_por_evento_y_grupos['experiment_id'] == grupo1) & \n",
    "                                                  (usuarios_por_evento_y_grupos['event_name'] == evento)]['user_count'].values[0]\n",
    "    usuarios_grupo2 = usuarios_por_evento_y_grupos[(usuarios_por_evento_y_grupos['experiment_id'] == grupo2) & \n",
    "                                                  (usuarios_por_evento_y_grupos['event_name'] == evento)]['user_count'].values[0]\n",
    "\n",
    "    # Calculamos el total de usuarios en los dos grupos combinados\n",
    "    total_grupo1 = usuarios_por_evento_y_grupos[usuarios_por_evento_y_grupos['experiment_id'] == grupo1]['user_count'].sum()\n",
    "    total_grupo2 = usuarios_por_evento_y_grupos[usuarios_por_evento_y_grupos['experiment_id'] == grupo2]['user_count'].sum()\n",
    "    \n",
    "    # Total de usuarios combinados\n",
    "    total_combinados = total_grupo1 + total_grupo2\n",
    "    \n",
    "    # Total de usuarios que realizaron el evento en los dos grupos combinados\n",
    "    total_evento_combinados = usuarios_grupo1 + usuarios_grupo2\n",
    "    \n",
    "    # Calculamos la proporción para el evento en los grupos de control combinados\n",
    "    return total_evento_combinados / total_combinados\n"
   ]
  },
  {
   "cell_type": "code",
   "execution_count": 56,
   "metadata": {},
   "outputs": [
    {
     "name": "stdout",
     "output_type": "stream",
     "text": [
      "Evento: MainScreenAppear - Proporción en los grupos de control combinados (246 + 247): 36.7%\n",
      "Evento: OffersScreenAppear - Proporción en los grupos de control combinados (246 + 247): 22.9%\n",
      "Evento: CartScreenAppear - Proporción en los grupos de control combinados (246 + 247): 18.7%\n",
      "Evento: PaymentScreenSuccessful - Proporción en los grupos de control combinados (246 + 247): 17.6%\n",
      "Evento: Tutorial - Proporción en los grupos de control combinados (246 + 247): 4.2%\n"
     ]
    }
   ],
   "source": [
    "# Ahora calculamos las proporciones para cada evento en los grupos de control combinados (246 + 247)\n",
    "eventos = usuarios_por_evento_y_grupos['event_name'].unique()  # Lista de eventos\n",
    "proporciones_combinadas_control = {}\n",
    "\n",
    "for evento in eventos:\n",
    "    proporciones_combinadas_control[evento] = calcular_proporciones_combinadas(246, 247, evento)\n",
    "\n",
    "# Mostramos las proporciones de los grupos de control combinados para cada evento\n",
    "for evento, proporcion in proporciones_combinadas_control.items():\n",
    "    print(f\"Evento: {evento} - Proporción en los grupos de control combinados (246 + 247): {proporcion*100:.1f}%\")"
   ]
  },
  {
   "cell_type": "markdown",
   "metadata": {},
   "source": [
    "<div style=\"background-color: lightblue; padding: 10px; border-radius: 5px;\">\n",
    "Las proporciones en los grupos de control combinados (246 + 247) muestran una caída gradual en la participación a lo largo del embudo de eventos: 36.7% en MainScreenAppear, 22.9% en OffersScreenAppear, 18.7% en CartScreenAppear, 17.6% en PaymentScreenSuccessful y solo 4.2% en Tutorial. Estas proporciones reflejan el comportamiento esperado en un embudo de conversión y servirán para comparar los resultados con el grupo de experimentación (248) y evaluar el impacto de las fuentes alteradas."
   ]
  },
  {
   "cell_type": "markdown",
   "metadata": {},
   "source": [
    "Ahora procederemos a calcular las proporciones de usuarios que realizaron cada evento en el grupo 248 (con fuentes alteradas). Esto nos permitirá comparar el comportamiento de este grupo con el de los grupos de control y evaluar el impacto de las fuentes alteradas en la participación en cada evento."
   ]
  },
  {
   "cell_type": "code",
   "execution_count": 57,
   "metadata": {},
   "outputs": [
    {
     "name": "stdout",
     "output_type": "stream",
     "text": [
      "Evento: MainScreenAppear - Proporción en el grupo 248 (fuentes alteradas): 37.1%\n",
      "Evento: OffersScreenAppear - Proporción en el grupo 248 (fuentes alteradas): 22.8%\n",
      "Evento: CartScreenAppear - Proporción en el grupo 248 (fuentes alteradas): 18.4%\n",
      "Evento: PaymentScreenSuccessful - Proporción en el grupo 248 (fuentes alteradas): 17.6%\n",
      "Evento: Tutorial - Proporción en el grupo 248 (fuentes alteradas): 4.2%\n"
     ]
    }
   ],
   "source": [
    "# Función para calcular la proporción de usuarios para el grupo 248 (fuentes alteradas)\n",
    "def calcular_proporcion_grupo_248(evento):\n",
    "    usuarios_grupo_248 = usuarios_por_evento_y_grupos[(usuarios_por_evento_y_grupos['experiment_id'] == 248) & \n",
    "                        (usuarios_por_evento_y_grupos['event_name'] == evento)]['user_count'].values[0]\n",
    "    \n",
    "    total_grupo_248 = usuarios_por_evento_y_grupos[usuarios_por_evento_y_grupos['experiment_id'] == 248]['user_count'].sum()\n",
    "    \n",
    "    return usuarios_grupo_248 / total_grupo_248\n",
    "\n",
    "# Calculamos las proporciones para cada evento en el grupo 248\n",
    "proporciones_248 = {}\n",
    "\n",
    "for evento in eventos:\n",
    "    proporciones_248[evento] = calcular_proporcion_grupo_248(evento)\n",
    "\n",
    "# Mostramos las proporciones del grupo 248 para cada evento\n",
    "for evento, proporcion in proporciones_248.items():\n",
    "    print(f\"Evento: {evento} - Proporción en el grupo 248 (fuentes alteradas): {proporcion*100:.1f}%\")\n"
   ]
  },
  {
   "cell_type": "markdown",
   "metadata": {},
   "source": [
    "<div style=\"background-color: lightblue; padding: 10px; border-radius: 5px;\">\n",
    "Los resultados del grupo 248 (con fuentes alteradas) muestran proporciones de participación muy similares a las de los grupos de control. La participación en cada evento sigue un patrón comparable, con pequeñas diferencias que no son significativas. Esto sugiere que las fuentes alteradas no han tenido un impacto notable en el comportamiento de los usuarios dentro del embudo de eventos, lo que indica que las modificaciones en las fuentes no afectaron significativamente las interacciones."
   ]
  },
  {
   "cell_type": "markdown",
   "metadata": {},
   "source": [
    "Ahora procederemos a comparar las proporciones de los grupos de control combinados con las del grupo 248 (con fuentes alteradas). Con las proporciones de ambos conjuntos de grupos ya calculadas, podemos evaluar las diferencias y determinar si las fuentes alteradas tienen algún impacto significativo en el comportamiento de los usuarios."
   ]
  },
  {
   "cell_type": "code",
   "execution_count": 58,
   "metadata": {},
   "outputs": [
    {
     "name": "stdout",
     "output_type": "stream",
     "text": [
      "Evento: MainScreenAppear\n",
      "Proporción en los grupos de control combinados (246 + 247): 36.7%\n",
      "Proporción en el grupo 248 (fuentes alteradas): 37.1%\n",
      "----------------------------------------\n",
      "Evento: OffersScreenAppear\n",
      "Proporción en los grupos de control combinados (246 + 247): 22.9%\n",
      "Proporción en el grupo 248 (fuentes alteradas): 22.8%\n",
      "----------------------------------------\n",
      "Evento: CartScreenAppear\n",
      "Proporción en los grupos de control combinados (246 + 247): 18.7%\n",
      "Proporción en el grupo 248 (fuentes alteradas): 18.4%\n",
      "----------------------------------------\n",
      "Evento: PaymentScreenSuccessful\n",
      "Proporción en los grupos de control combinados (246 + 247): 17.6%\n",
      "Proporción en el grupo 248 (fuentes alteradas): 17.6%\n",
      "----------------------------------------\n",
      "Evento: Tutorial\n",
      "Proporción en los grupos de control combinados (246 + 247): 4.2%\n",
      "Proporción en el grupo 248 (fuentes alteradas): 4.2%\n",
      "----------------------------------------\n"
     ]
    }
   ],
   "source": [
    "# Comparamos los resultados de las proporciones de los grupos de control combinados y el grupo de experimentación. \n",
    "for evento in eventos:\n",
    "    proporcion_control_combinado = proporciones_combinadas_control[evento]\n",
    "    proporcion_248 = proporciones_248[evento]\n",
    "    \n",
    "    print(f\"Evento: {evento}\")\n",
    "    print(f\"Proporción en los grupos de control combinados (246 + 247): {proporcion_control_combinado*100:.1f}%\")\n",
    "    print(f\"Proporción en el grupo 248 (fuentes alteradas): {proporcion_248*100:.1f}%\")\n",
    "    \n",
    "    print(\"-\" * 40)\n"
   ]
  },
  {
   "cell_type": "code",
   "execution_count": 59,
   "metadata": {},
   "outputs": [
    {
     "data": {
      "image/png": "[encoded data removed]",
      "text/plain": [
       "<Figure size 1000x400 with 1 Axes>"
      ]
     },
     "metadata": {},
     "output_type": "display_data"
    }
   ],
   "source": [
    "# Graficamos para una mejor visualización de la información \n",
    "# Extraemos los datos\n",
    "eventos = ['MainScreenAppear', 'OffersScreenAppear', 'CartScreenAppear', 'PaymentScreenSuccessful', 'Tutorial']\n",
    "proporciones_control = [36.7, 22.9, 18.7, 17.6, 4.2]\n",
    "proporciones_248 = [37.1, 22.8, 18.4, 17.6, 4.2]\n",
    "\n",
    "\n",
    "x = np.arange(len(eventos))  # Las posiciones en el eje x\n",
    "width = 0.35  # El ancho de las barras\n",
    "fig, ax = plt.subplots(figsize=(10, 4))\n",
    "\n",
    "# Barras para los grupos de control combinados y el grupo 248\n",
    "bars_control = ax.bar(x - width/2, proporciones_control, width, label='Control (246 + 247)')\n",
    "bars_248 = ax.bar(x + width/2, proporciones_248, width, label='Grupo 248 (Fuentes Alteradas)')\n",
    "\n",
    "\n",
    "ax.set_xlabel('Eventos')\n",
    "ax.set_ylabel('Proporción (%)')\n",
    "ax.set_title('Comparación de proporciones por evento entre los grupos')\n",
    "ax.set_xticks(x)\n",
    "ax.set_xticklabels(eventos)\n",
    "ax.legend()\n",
    "plt.tight_layout()\n",
    "plt.show()\n"
   ]
  },
  {
   "cell_type": "markdown",
   "metadata": {},
   "source": [
    "<div style=\"background-color: lightblue; padding: 10px; border-radius: 5px;\">\n",
    "Las proporciones de los eventos entre los grupos de control combinados y el grupo con fuentes alteradas son muy similares. La diferencia más grande se observa en el evento \"MainScreenAppear\", con una ligera ventaja para el grupo 248 (37.1% frente a 36.7%), pero en los demás eventos, las proporciones son prácticamente idénticas. Esto sugiere que las fuentes alteradas no tuvieron un impacto significativo en el comportamiento de los usuarios."
   ]
  },
  {
   "cell_type": "markdown",
   "metadata": {},
   "source": [
    "Después de realizar más de 20 pruebas de hipótesis estadísticas, calculadas considerando 4 comparaciones para cada uno de los 5 eventos analizados (comparando los grupos 246 vs 247, 248 vs 246, 248 vs 247 y 248 vs los grupos combinados 246+247), además de las pruebas en las que calculamos solo para el evento más popular, en las cuales establecimos un nivel de significancia de 0.1. Sin embargo, dado que con este nivel de significancia existe un riesgo de que uno de cada 10 resultados sea falso, hemos considerado necesario ajustar dicho nivel. Por lo tanto, procederemos a recalcular las pruebas y revisar nuestras conclusiones."
   ]
  },
  {
   "cell_type": "markdown",
   "metadata": {},
   "source": [
    "Para esto, utilizaremos la prueba de Mann-Whitney U, que consideramos adecuada en este caso, ya que al comparar grupos independientes (como los grupos de control 246 y 247, y el grupo experimental 248), es probable que los datos no sigan distribuciones normales. Esto hace que una prueba no paramétrica sea más apropiada. Además, aplicaremos el ajuste de Bonferroni, cuyo objetivo es reducir la probabilidad de cometer un error tipo I (falsos positivos) cuando se realizan múltiples comparaciones. Dado que al realizar muchas pruebas aumenta el riesgo de obtener resultados falsos positivos, el ajuste de Bonferroni ajusta el umbral de significancia dividiendo el nivel de significancia original entre el número de pruebas realizadas."
   ]
  },
  {
   "cell_type": "code",
   "execution_count": 60,
   "metadata": {},
   "outputs": [
    {
     "name": "stdout",
     "output_type": "stream",
     "text": [
      "Nivel de significancia ajustado (Bonferroni): 0.006666666666666667\n"
     ]
    }
   ],
   "source": [
    "# Definiremos el número de eventos y el número de comparaciones\n",
    "# Número de eventos\n",
    "n_eventos = len(eventos)\n",
    "\n",
    "# Número de comparaciones entre los grupos (246 vs 247, 246 vs 248, 247 vs 248)\n",
    "comparaciones_por_evento = 3\n",
    "\n",
    "# Total de pruebas estadísticas realizadas\n",
    "numero_de_pruebas = n_eventos * comparaciones_por_evento\n",
    "\n",
    "# Realizamos ajuste de Bonferroni (α ajustado)\n",
    "alpha_original = 0.1\n",
    "alpha_ajustado = alpha_original / numero_de_pruebas\n",
    "\n",
    "print(f\"Nivel de significancia ajustado (Bonferroni): {alpha_ajustado}\")"
   ]
  },
  {
   "cell_type": "markdown",
   "metadata": {},
   "source": [
    "**Nuestras hipotesis son las siguientes:**\n",
    "\n",
    "La hipótesis nula (H₀): no existe una diferencia real entre los dos grupos que estamos comparando. \n",
    "\n",
    "Hipótesis Alternativa (H₁): sí existe una diferencia significativa entre los grupos comparados."
   ]
  },
  {
   "cell_type": "code",
   "execution_count": 61,
   "metadata": {},
   "outputs": [],
   "source": [
    "# Realizamos las pruebas de hipótesis y comparar con el nivel de significancia ajustado\n",
    "resultados_pruebas = []\n",
    "\n",
    "for evento in eventos:\n",
    "    # Filtrar los datos para cada evento\n",
    "    control_246 = usuarios_por_evento_y_grupos[(usuarios_por_evento_y_grupos['experiment_id'] == 246) \n",
    "    & (usuarios_por_evento_y_grupos['event_name'] == evento)]['user_count'].values[0]\n",
    "    \n",
    "    control_247 = usuarios_por_evento_y_grupos[(usuarios_por_evento_y_grupos['experiment_id'] == 247) \n",
    "    & (usuarios_por_evento_y_grupos['event_name'] == evento)]['user_count'].values[0]\n",
    "    \n",
    "    experimental_248 = usuarios_por_evento_y_grupos[(usuarios_por_evento_y_grupos['experiment_id'] == 248) \n",
    "    & (usuarios_por_evento_y_grupos['event_name'] == evento)]['user_count'].values[0]\n",
    "    \n",
    "    # Prueba 1: Comparar 246 vs 247\n",
    "    stat_246_247, p_246_247 = mannwhitneyu([control_246], [control_247], alternative='two-sided')\n",
    "    \n",
    "    # Prueba 2: Comparar 246 vs 248\n",
    "    stat_246_248, p_246_248 = mannwhitneyu([control_246], [experimental_248], alternative='two-sided')\n",
    "    \n",
    "    # Prueba 3: Comparar 247 vs 248\n",
    "    stat_247_248, p_247_248 = mannwhitneyu([control_247], [experimental_248], alternative='two-sided')\n",
    "    \n",
    "    # Guardamos los resultados de las pruebas junto con los p-values y la comparación con el α ajustado\n",
    "    resultados_pruebas.append({\n",
    "        'Evento': evento,\n",
    "        'P-value 246 vs 247': p_246_247,\n",
    "        'Rechazo H0 (246 vs 247)': p_246_247 < alpha_ajustado,\n",
    "        'P-value 246 vs 248': p_246_248,\n",
    "        'Rechazo H0 (246 vs 248)': p_246_248 < alpha_ajustado,\n",
    "        'P-value 247 vs 248': p_247_248,\n",
    "        'Rechazo H0 (247 vs 248)': p_247_248 < alpha_ajustado\n",
    "    })\n"
   ]
  },
  {
   "cell_type": "code",
   "execution_count": 62,
   "metadata": {},
   "outputs": [
    {
     "data": {
      "text/html": [
       "<div>\n",
       "<style scoped>\n",
       "    .dataframe tbody tr th:only-of-type {\n",
       "        vertical-align: middle;\n",
       "    }\n",
       "\n",
       "    .dataframe tbody tr th {\n",
       "        vertical-align: top;\n",
       "    }\n",
       "\n",
       "    .dataframe thead th {\n",
       "        text-align: right;\n",
       "    }\n",
       "</style>\n",
       "<table border=\"1\" class=\"dataframe\">\n",
       "  <thead>\n",
       "    <tr style=\"text-align: right;\">\n",
       "      <th></th>\n",
       "      <th>Evento</th>\n",
       "      <th>P-value 246 vs 247</th>\n",
       "      <th>Rechazo H0 (246 vs 247)</th>\n",
       "      <th>P-value 246 vs 248</th>\n",
       "      <th>Rechazo H0 (246 vs 248)</th>\n",
       "      <th>P-value 247 vs 248</th>\n",
       "      <th>Rechazo H0 (247 vs 248)</th>\n",
       "    </tr>\n",
       "  </thead>\n",
       "  <tbody>\n",
       "    <tr>\n",
       "      <th>0</th>\n",
       "      <td>MainScreenAppear</td>\n",
       "      <td>1.0</td>\n",
       "      <td>False</td>\n",
       "      <td>1.0</td>\n",
       "      <td>False</td>\n",
       "      <td>1.0</td>\n",
       "      <td>False</td>\n",
       "    </tr>\n",
       "    <tr>\n",
       "      <th>1</th>\n",
       "      <td>OffersScreenAppear</td>\n",
       "      <td>1.0</td>\n",
       "      <td>False</td>\n",
       "      <td>1.0</td>\n",
       "      <td>False</td>\n",
       "      <td>1.0</td>\n",
       "      <td>False</td>\n",
       "    </tr>\n",
       "    <tr>\n",
       "      <th>2</th>\n",
       "      <td>CartScreenAppear</td>\n",
       "      <td>1.0</td>\n",
       "      <td>False</td>\n",
       "      <td>1.0</td>\n",
       "      <td>False</td>\n",
       "      <td>1.0</td>\n",
       "      <td>False</td>\n",
       "    </tr>\n",
       "    <tr>\n",
       "      <th>3</th>\n",
       "      <td>PaymentScreenSuccessful</td>\n",
       "      <td>1.0</td>\n",
       "      <td>False</td>\n",
       "      <td>1.0</td>\n",
       "      <td>False</td>\n",
       "      <td>1.0</td>\n",
       "      <td>False</td>\n",
       "    </tr>\n",
       "    <tr>\n",
       "      <th>4</th>\n",
       "      <td>Tutorial</td>\n",
       "      <td>1.0</td>\n",
       "      <td>False</td>\n",
       "      <td>1.0</td>\n",
       "      <td>False</td>\n",
       "      <td>1.0</td>\n",
       "      <td>False</td>\n",
       "    </tr>\n",
       "  </tbody>\n",
       "</table>\n",
       "</div>"
      ],
      "text/plain": [
       "                    Evento  P-value 246 vs 247  Rechazo H0 (246 vs 247)  \\\n",
       "0         MainScreenAppear                 1.0                    False   \n",
       "1       OffersScreenAppear                 1.0                    False   \n",
       "2         CartScreenAppear                 1.0                    False   \n",
       "3  PaymentScreenSuccessful                 1.0                    False   \n",
       "4                 Tutorial                 1.0                    False   \n",
       "\n",
       "   P-value 246 vs 248  Rechazo H0 (246 vs 248)  P-value 247 vs 248  \\\n",
       "0                 1.0                    False                 1.0   \n",
       "1                 1.0                    False                 1.0   \n",
       "2                 1.0                    False                 1.0   \n",
       "3                 1.0                    False                 1.0   \n",
       "4                 1.0                    False                 1.0   \n",
       "\n",
       "   Rechazo H0 (247 vs 248)  \n",
       "0                    False  \n",
       "1                    False  \n",
       "2                    False  \n",
       "3                    False  \n",
       "4                    False  "
      ]
     },
     "execution_count": 62,
     "metadata": {},
     "output_type": "execute_result"
    }
   ],
   "source": [
    "df_resultados = pd.DataFrame(resultados_pruebas)\n",
    "df_resultados"
   ]
  },
  {
   "cell_type": "markdown",
   "metadata": {},
   "source": [
    "<div style=\"background-color: lightblue; padding: 10px; border-radius: 5px;\">\n",
    "Para todos los eventos (MainScreenAppear, OffersScreenAppear, CartScreenAppear, PaymentScreenSuccessful y Tutorial), los p-values son 1.0, lo que indica que no se observan diferencias significativas entre los grupos comparados (246 vs 247, 246 vs 248, 247 vs 248).\n",
    "\n",
    "Dado que no rechazamos la hipótesis nula (H₀), podemos concluir que no hay suficiente evidencia estadística para afirmar que los cambios entre los grupos de control y el grupo con fuentes alteradas (248) tengan un impacto significativo en los eventos observados."
   ]
  },
  {
   "cell_type": "markdown",
   "metadata": {},
   "source": [
    "**Conclusión General**\n",
    "\n",
    "*Análisis de la Distribución de Eventos:*\n",
    "Se observó un cambio notable en la cantidad de eventos a partir del 31 de julio de 2019, lo que sugiere que el experimento comenzó en esa fecha. La exclusión de los primeros días no afectó significativamente los resultados, ya que la pérdida de 9 usuarios fue mínima y los eventos de esos días no aportaban información relevante.\n",
    "\n",
    "*Embudo de Eventos:*\n",
    "Los usuarios siguen un patrón lógico de conversión: de la pantalla principal a las ofertas, luego al carrito y finalmente al pago. El mayor abandono ocurre entre MainScreenAppear y OffersScreenAppear (38%), pero la conversión mejora en las siguientes etapas. Un 47.68% completa todo el embudo, sugiriendo oportunidades de optimización en las etapas intermedias.\n",
    "\n",
    "*Análisis de las Pruebas A/A/B:*\n",
    "No se encontraron diferencias estadísticamente significativas entre los grupos de control (246 y 247) y el grupo con fuentes alteradas (248). Esto indica que las fuentes alteradas no impactaron significativamente el comportamiento de los usuarios en el embudo de eventos, con comportamientos similares en todos los grupos.\n",
    "\n",
    "*Proporciones de Participación:*\n",
    "Las proporciones de participación entre los grupos fueron muy similares, con una ligera ventaja para el grupo 248 en el evento MainScreenAppear (37.1% frente a 36.7%). Sin embargo, no se observaron diferencias significativas en los demás eventos, lo que refuerza la conclusión de que las fuentes alteradas no tuvieron un impacto notable sobre el comportamiento de los usuarios.\n",
    "\n",
    "\n",
    "***Recomendaciones sobre el Cambio de Fuentes:***\n",
    "\n",
    "Sin Impacto Significativo de las Fuentes Alteradas:\n",
    "Los resultados del test A/A/B muestran que las fuentes alteradas no afectan la participación ni la conversión de los usuarios, lo que sugiere que el cambio de fuentes no es problemático. Los usuarios no perciben las fuentes alteradas como intimidantes ni disruptivas.\n",
    "\n",
    "Consideraciones para la Decisión de Diseño:\n",
    "Aunque existe la preocupación de que el cambio de fuentes pueda resultar intimidante, los resultados del test A/A/B respaldan la implementación de las fuentes alteradas sin temor a un impacto negativo. La gerencia podría considerar que el cambio es seguro, pero es recomendable monitorear el comportamiento de los usuarios después de la implementación para detectar posibles efectos no previstos.\n",
    "\n",
    "\n",
    "\n",
    "**Recomendaciones Adicionales:**\n",
    "\n",
    "Optimización del Embudo de Eventos:\n",
    "La mayor oportunidad de mejora está en la etapa de transición entre MainScreenAppear y OffersScreenAppear, donde se pierde un 38% de los usuarios. Mejorar la visibilidad y relevancia de las ofertas podría reducir el abandono.\n",
    "También se recomienda reubicar el evento Tutorial al principio del flujo si es obligatorio.\n",
    "\n",
    "Monitoreo Post-Implementación del Diseño:\n",
    "Se sugiere realizar un seguimiento continuo del impacto del cambio de fuentes en el comportamiento de los usuarios, para asegurar que no haya efectos negativos no detectados. Esto podría incluir análisis de satisfacción o retroalimentación directa de los usuarios."
   ]
  },
  {
   "cell_type": "markdown",
   "metadata": {},
   "source": [
    "<div class=\"alert alert-block alert-info\">\n",
    "<b>Comentario general (1ra Iteracion)</b> <a class=“tocSkip”></a>\n",
    "\n",
    "Te felicito Rachel! Realizaste un muy buen análisis de los grupos de tratamiento entre los cambios obtenidos entre uno y otro respecto al funnel que el usuario debe seguir, tus conclusiones son muy acertadas y siempre argumentadas con los datos obtenidos a partir de tus cálculos. Te felicito por también incluir recomendaciones en base al análisis, siempre se debe buscar apoyar con la toma de decisiones basadas en datos.\n",
    "    \n",
    "No cabe duda que vas por excelente camino para convertirte en Data Analyst, saludos!\n",
    "</div>"
   ]
  }
 ],
 "metadata": {
  "ExecuteTimeLog": [
   {
    "duration": 2627,
    "start_time": "2024-11-15T01:59:45.334Z"
   },
   {
    "duration": 242,
    "start_time": "2024-11-15T02:01:31.730Z"
   },
   {
    "duration": 2523,
    "start_time": "2024-11-18T19:52:52.432Z"
   },
   {
    "duration": 210,
    "start_time": "2024-11-18T19:52:54.957Z"
   },
   {
    "duration": 3,
    "start_time": "2024-11-18T19:56:00.462Z"
   },
   {
    "duration": 181,
    "start_time": "2024-11-18T19:56:02.357Z"
   },
   {
    "duration": 15,
    "start_time": "2024-11-18T19:56:04.885Z"
   },
   {
    "duration": 7,
    "start_time": "2024-11-18T19:56:48.973Z"
   },
   {
    "duration": 162,
    "start_time": "2024-11-18T19:56:58.518Z"
   },
   {
    "duration": 11,
    "start_time": "2024-11-18T19:57:14.368Z"
   },
   {
    "duration": 6,
    "start_time": "2024-11-18T19:57:22.850Z"
   },
   {
    "duration": 7,
    "start_time": "2024-11-18T19:58:05.301Z"
   },
   {
    "duration": 96,
    "start_time": "2024-11-18T20:02:42.610Z"
   },
   {
    "duration": 14,
    "start_time": "2024-11-18T20:02:44.508Z"
   },
   {
    "duration": 6,
    "start_time": "2024-11-18T20:02:56.873Z"
   },
   {
    "duration": 23,
    "start_time": "2024-11-18T20:03:15.310Z"
   },
   {
    "duration": 11,
    "start_time": "2024-11-18T20:03:21.839Z"
   },
   {
    "duration": 7,
    "start_time": "2024-11-18T20:04:18.161Z"
   },
   {
    "duration": 6,
    "start_time": "2024-11-18T20:04:51.360Z"
   },
   {
    "duration": 237,
    "start_time": "2024-11-18T20:05:48.794Z"
   },
   {
    "duration": 21,
    "start_time": "2024-11-18T20:05:56.070Z"
   },
   {
    "duration": 13,
    "start_time": "2024-11-18T20:06:06.669Z"
   },
   {
    "duration": 2,
    "start_time": "2024-11-18T20:08:17.103Z"
   },
   {
    "duration": 12,
    "start_time": "2024-11-18T20:08:20.095Z"
   },
   {
    "duration": 812,
    "start_time": "2024-11-18T20:08:34.646Z"
   },
   {
    "duration": 102,
    "start_time": "2024-11-18T20:08:35.460Z"
   },
   {
    "duration": 17,
    "start_time": "2024-11-18T20:08:35.563Z"
   },
   {
    "duration": 8,
    "start_time": "2024-11-18T20:08:35.582Z"
   },
   {
    "duration": 46,
    "start_time": "2024-11-18T20:08:35.592Z"
   },
   {
    "duration": 12,
    "start_time": "2024-11-18T20:08:35.639Z"
   },
   {
    "duration": 2,
    "start_time": "2024-11-18T20:08:35.652Z"
   },
   {
    "duration": 671,
    "start_time": "2024-11-18T20:08:35.656Z"
   },
   {
    "duration": 45,
    "start_time": "2024-11-18T20:08:53.834Z"
   },
   {
    "duration": 33,
    "start_time": "2024-11-18T20:09:06.224Z"
   },
   {
    "duration": 9,
    "start_time": "2024-11-18T20:12:29.318Z"
   },
   {
    "duration": 11,
    "start_time": "2024-11-18T20:12:40.971Z"
   },
   {
    "duration": 13,
    "start_time": "2024-11-18T20:14:10.613Z"
   },
   {
    "duration": 10,
    "start_time": "2024-11-18T20:14:28.287Z"
   },
   {
    "duration": 115,
    "start_time": "2024-11-18T20:15:40.481Z"
   },
   {
    "duration": 29,
    "start_time": "2024-11-18T20:15:54.457Z"
   },
   {
    "duration": 5,
    "start_time": "2024-11-18T20:29:13.406Z"
   },
   {
    "duration": 3,
    "start_time": "2024-11-18T20:29:41.500Z"
   },
   {
    "duration": 9,
    "start_time": "2024-11-18T20:30:41.415Z"
   },
   {
    "duration": 3,
    "start_time": "2024-11-18T20:38:32.685Z"
   },
   {
    "duration": 7,
    "start_time": "2024-11-18T20:38:48.734Z"
   },
   {
    "duration": 10,
    "start_time": "2024-11-18T20:39:20.457Z"
   },
   {
    "duration": 10,
    "start_time": "2024-11-18T20:39:52.374Z"
   },
   {
    "duration": 4,
    "start_time": "2024-11-18T20:40:09.078Z"
   },
   {
    "duration": 4,
    "start_time": "2024-11-18T20:40:11.248Z"
   },
   {
    "duration": 840,
    "start_time": "2024-11-18T20:40:51.567Z"
   },
   {
    "duration": 102,
    "start_time": "2024-11-18T20:40:52.410Z"
   },
   {
    "duration": 15,
    "start_time": "2024-11-18T20:40:52.515Z"
   },
   {
    "duration": 7,
    "start_time": "2024-11-18T20:40:52.532Z"
   },
   {
    "duration": 30,
    "start_time": "2024-11-18T20:40:52.542Z"
   },
   {
    "duration": 6,
    "start_time": "2024-11-18T20:40:52.574Z"
   },
   {
    "duration": 60,
    "start_time": "2024-11-18T20:40:52.582Z"
   },
   {
    "duration": 123,
    "start_time": "2024-11-18T20:40:52.643Z"
   },
   {
    "duration": 5,
    "start_time": "2024-11-18T20:40:52.768Z"
   },
   {
    "duration": 3,
    "start_time": "2024-11-18T20:40:52.774Z"
   },
   {
    "duration": 18,
    "start_time": "2024-11-18T20:40:52.779Z"
   },
   {
    "duration": 22,
    "start_time": "2024-11-18T20:42:28.161Z"
   },
   {
    "duration": 66,
    "start_time": "2024-11-18T20:46:30.418Z"
   },
   {
    "duration": 789,
    "start_time": "2024-11-18T21:09:13.409Z"
   },
   {
    "duration": 104,
    "start_time": "2024-11-18T21:09:14.200Z"
   },
   {
    "duration": 17,
    "start_time": "2024-11-18T21:09:14.448Z"
   },
   {
    "duration": 9,
    "start_time": "2024-11-18T21:09:15.333Z"
   },
   {
    "duration": 31,
    "start_time": "2024-11-18T21:09:16.372Z"
   },
   {
    "duration": 10,
    "start_time": "2024-11-18T21:09:17.508Z"
   },
   {
    "duration": 8,
    "start_time": "2024-11-18T21:10:09.859Z"
   },
   {
    "duration": 319,
    "start_time": "2024-11-18T21:11:04.095Z"
   },
   {
    "duration": 7,
    "start_time": "2024-11-18T21:11:20.187Z"
   },
   {
    "duration": 48,
    "start_time": "2024-11-18T21:16:12.663Z"
   },
   {
    "duration": 121,
    "start_time": "2024-11-18T21:29:53.728Z"
   },
   {
    "duration": 6,
    "start_time": "2024-11-18T21:29:54.470Z"
   },
   {
    "duration": 3,
    "start_time": "2024-11-18T21:29:55.451Z"
   },
   {
    "duration": 826,
    "start_time": "2024-11-18T21:30:36.037Z"
   },
   {
    "duration": 103,
    "start_time": "2024-11-18T21:30:36.865Z"
   },
   {
    "duration": 16,
    "start_time": "2024-11-18T21:30:36.972Z"
   },
   {
    "duration": 8,
    "start_time": "2024-11-18T21:30:36.989Z"
   },
   {
    "duration": 47,
    "start_time": "2024-11-18T21:30:36.999Z"
   },
   {
    "duration": 7,
    "start_time": "2024-11-18T21:30:37.047Z"
   },
   {
    "duration": 50,
    "start_time": "2024-11-18T21:30:37.055Z"
   },
   {
    "duration": 119,
    "start_time": "2024-11-18T21:30:37.124Z"
   },
   {
    "duration": 5,
    "start_time": "2024-11-18T21:30:37.245Z"
   },
   {
    "duration": 4,
    "start_time": "2024-11-18T21:30:37.251Z"
   },
   {
    "duration": 25,
    "start_time": "2024-11-18T21:30:37.256Z"
   },
   {
    "duration": 41,
    "start_time": "2024-11-18T21:30:37.283Z"
   },
   {
    "duration": 2583,
    "start_time": "2024-11-18T23:35:28.614Z"
   },
   {
    "duration": 133,
    "start_time": "2024-11-18T23:35:31.199Z"
   },
   {
    "duration": 20,
    "start_time": "2024-11-18T23:35:31.334Z"
   },
   {
    "duration": 8,
    "start_time": "2024-11-18T23:35:31.358Z"
   },
   {
    "duration": 30,
    "start_time": "2024-11-18T23:35:31.368Z"
   },
   {
    "duration": 6,
    "start_time": "2024-11-18T23:35:31.400Z"
   },
   {
    "duration": 75,
    "start_time": "2024-11-18T23:35:31.408Z"
   },
   {
    "duration": 130,
    "start_time": "2024-11-18T23:35:31.485Z"
   },
   {
    "duration": 5,
    "start_time": "2024-11-18T23:35:31.617Z"
   },
   {
    "duration": 3,
    "start_time": "2024-11-18T23:35:31.624Z"
   },
   {
    "duration": 26,
    "start_time": "2024-11-18T23:35:31.643Z"
   },
   {
    "duration": 609,
    "start_time": "2024-11-18T23:58:28.456Z"
   },
   {
    "duration": 46,
    "start_time": "2024-11-19T00:02:04.990Z"
   },
   {
    "duration": 18,
    "start_time": "2024-11-19T00:02:43.145Z"
   },
   {
    "duration": 27,
    "start_time": "2024-11-19T00:03:22.049Z"
   },
   {
    "duration": 6,
    "start_time": "2024-11-19T00:03:28.208Z"
   },
   {
    "duration": 5,
    "start_time": "2024-11-19T00:04:32.791Z"
   },
   {
    "duration": 5,
    "start_time": "2024-11-19T00:05:11.850Z"
   },
   {
    "duration": 9,
    "start_time": "2024-11-19T00:07:09.722Z"
   },
   {
    "duration": 841,
    "start_time": "2024-11-19T00:07:24.367Z"
   },
   {
    "duration": 106,
    "start_time": "2024-11-19T00:07:25.210Z"
   },
   {
    "duration": 16,
    "start_time": "2024-11-19T00:07:25.318Z"
   },
   {
    "duration": 13,
    "start_time": "2024-11-19T00:07:25.335Z"
   },
   {
    "duration": 31,
    "start_time": "2024-11-19T00:07:25.351Z"
   },
   {
    "duration": 7,
    "start_time": "2024-11-19T00:07:25.384Z"
   },
   {
    "duration": 75,
    "start_time": "2024-11-19T00:07:25.393Z"
   },
   {
    "duration": 673,
    "start_time": "2024-11-19T00:07:25.470Z"
   },
   {
    "duration": 0,
    "start_time": "2024-11-19T00:07:26.145Z"
   },
   {
    "duration": 0,
    "start_time": "2024-11-19T00:07:26.147Z"
   },
   {
    "duration": 0,
    "start_time": "2024-11-19T00:07:26.148Z"
   },
   {
    "duration": 0,
    "start_time": "2024-11-19T00:07:26.149Z"
   },
   {
    "duration": 0,
    "start_time": "2024-11-19T00:07:26.150Z"
   },
   {
    "duration": 0,
    "start_time": "2024-11-19T00:07:26.152Z"
   },
   {
    "duration": 0,
    "start_time": "2024-11-19T00:07:26.154Z"
   },
   {
    "duration": 868,
    "start_time": "2024-11-19T00:08:10.282Z"
   },
   {
    "duration": 105,
    "start_time": "2024-11-19T00:08:11.152Z"
   },
   {
    "duration": 16,
    "start_time": "2024-11-19T00:08:11.259Z"
   },
   {
    "duration": 7,
    "start_time": "2024-11-19T00:08:11.278Z"
   },
   {
    "duration": 31,
    "start_time": "2024-11-19T00:08:11.287Z"
   },
   {
    "duration": 27,
    "start_time": "2024-11-19T00:08:11.320Z"
   },
   {
    "duration": 51,
    "start_time": "2024-11-19T00:08:11.348Z"
   },
   {
    "duration": 141,
    "start_time": "2024-11-19T00:08:11.401Z"
   },
   {
    "duration": 5,
    "start_time": "2024-11-19T00:08:11.544Z"
   },
   {
    "duration": 4,
    "start_time": "2024-11-19T00:08:11.552Z"
   },
   {
    "duration": 25,
    "start_time": "2024-11-19T00:08:11.557Z"
   },
   {
    "duration": 23,
    "start_time": "2024-11-19T00:08:11.584Z"
   },
   {
    "duration": 55,
    "start_time": "2024-11-19T00:08:11.609Z"
   },
   {
    "duration": 5,
    "start_time": "2024-11-19T00:08:11.666Z"
   },
   {
    "duration": 5,
    "start_time": "2024-11-19T00:08:11.672Z"
   },
   {
    "duration": 26,
    "start_time": "2024-11-19T00:08:28.072Z"
   },
   {
    "duration": 18,
    "start_time": "2024-11-19T00:10:32.023Z"
   },
   {
    "duration": 19,
    "start_time": "2024-11-19T00:10:37.242Z"
   },
   {
    "duration": 75,
    "start_time": "2024-11-19T00:18:53.052Z"
   },
   {
    "duration": 24,
    "start_time": "2024-11-19T00:20:56.579Z"
   },
   {
    "duration": 261,
    "start_time": "2024-11-19T00:21:37.400Z"
   },
   {
    "duration": 14,
    "start_time": "2024-11-19T00:22:05.600Z"
   },
   {
    "duration": 119,
    "start_time": "2024-11-19T00:22:13.650Z"
   },
   {
    "duration": 188,
    "start_time": "2024-11-19T00:24:48.390Z"
   },
   {
    "duration": 208,
    "start_time": "2024-11-19T00:24:55.450Z"
   },
   {
    "duration": 192,
    "start_time": "2024-11-19T00:25:32.284Z"
   },
   {
    "duration": 259,
    "start_time": "2024-11-19T00:25:37.738Z"
   },
   {
    "duration": 209,
    "start_time": "2024-11-19T00:27:00.823Z"
   },
   {
    "duration": 122,
    "start_time": "2024-11-19T00:27:11.924Z"
   },
   {
    "duration": 20,
    "start_time": "2024-11-19T00:28:26.041Z"
   },
   {
    "duration": 24,
    "start_time": "2024-11-19T00:28:31.886Z"
   },
   {
    "duration": 15,
    "start_time": "2024-11-19T00:28:45.353Z"
   },
   {
    "duration": 98,
    "start_time": "2024-11-19T00:29:37.753Z"
   },
   {
    "duration": 17,
    "start_time": "2024-11-19T00:32:21.286Z"
   },
   {
    "duration": 14,
    "start_time": "2024-11-19T00:32:38.324Z"
   },
   {
    "duration": 104,
    "start_time": "2024-11-19T00:33:28.363Z"
   },
   {
    "duration": 121,
    "start_time": "2024-11-19T00:34:01.303Z"
   },
   {
    "duration": 128,
    "start_time": "2024-11-19T00:34:42.574Z"
   },
   {
    "duration": 112,
    "start_time": "2024-11-19T00:34:57.949Z"
   },
   {
    "duration": 100,
    "start_time": "2024-11-19T00:35:44.105Z"
   },
   {
    "duration": 172,
    "start_time": "2024-11-19T00:35:53.462Z"
   },
   {
    "duration": 5,
    "start_time": "2024-11-19T00:39:27.180Z"
   },
   {
    "duration": 38,
    "start_time": "2024-11-19T00:39:43.909Z"
   },
   {
    "duration": 25,
    "start_time": "2024-11-19T00:40:16.964Z"
   },
   {
    "duration": 59,
    "start_time": "2024-11-19T00:41:42.925Z"
   },
   {
    "duration": 26,
    "start_time": "2024-11-19T00:42:33.918Z"
   },
   {
    "duration": 26,
    "start_time": "2024-11-19T00:42:52.494Z"
   },
   {
    "duration": 28,
    "start_time": "2024-11-19T00:43:21.651Z"
   },
   {
    "duration": 24,
    "start_time": "2024-11-19T00:43:29.143Z"
   },
   {
    "duration": 28,
    "start_time": "2024-11-19T00:43:49.838Z"
   },
   {
    "duration": 4,
    "start_time": "2024-11-19T00:46:05.503Z"
   },
   {
    "duration": 5,
    "start_time": "2024-11-19T00:50:40.665Z"
   },
   {
    "duration": 21,
    "start_time": "2024-11-19T00:54:31.279Z"
   },
   {
    "duration": 20,
    "start_time": "2024-11-19T00:54:41.066Z"
   },
   {
    "duration": 132,
    "start_time": "2024-11-19T00:55:47.580Z"
   },
   {
    "duration": 412,
    "start_time": "2024-11-19T00:56:16.860Z"
   },
   {
    "duration": 9,
    "start_time": "2024-11-19T00:56:48.699Z"
   },
   {
    "duration": 190,
    "start_time": "2024-11-19T00:56:49.962Z"
   },
   {
    "duration": 11,
    "start_time": "2024-11-19T00:57:08.385Z"
   },
   {
    "duration": 147,
    "start_time": "2024-11-19T01:01:21.179Z"
   },
   {
    "duration": 23,
    "start_time": "2024-11-19T01:03:58.203Z"
   },
   {
    "duration": 282,
    "start_time": "2024-11-19T01:04:26.547Z"
   },
   {
    "duration": 344,
    "start_time": "2024-11-19T01:06:06.294Z"
   },
   {
    "duration": 346,
    "start_time": "2024-11-19T01:07:15.416Z"
   },
   {
    "duration": 1070,
    "start_time": "2024-11-19T01:07:23.914Z"
   },
   {
    "duration": 329,
    "start_time": "2024-11-19T01:07:30.943Z"
   },
   {
    "duration": 403,
    "start_time": "2024-11-19T01:12:29.884Z"
   },
   {
    "duration": 393,
    "start_time": "2024-11-19T01:12:39.630Z"
   },
   {
    "duration": 23,
    "start_time": "2024-11-19T01:14:59.118Z"
   },
   {
    "duration": 339,
    "start_time": "2024-11-19T01:20:16.763Z"
   },
   {
    "duration": 338,
    "start_time": "2024-11-19T01:20:25.171Z"
   },
   {
    "duration": 11,
    "start_time": "2024-11-19T01:25:25.635Z"
   },
   {
    "duration": 203,
    "start_time": "2024-11-19T01:25:28.883Z"
   },
   {
    "duration": 24,
    "start_time": "2024-11-19T01:26:00.931Z"
   },
   {
    "duration": 11,
    "start_time": "2024-11-19T01:26:25.549Z"
   },
   {
    "duration": 11,
    "start_time": "2024-11-19T01:26:32.334Z"
   },
   {
    "duration": 205,
    "start_time": "2024-11-19T01:29:02.478Z"
   },
   {
    "duration": 2550,
    "start_time": "2024-11-20T00:01:38.281Z"
   },
   {
    "duration": 129,
    "start_time": "2024-11-20T00:01:40.833Z"
   },
   {
    "duration": 16,
    "start_time": "2024-11-20T00:01:40.963Z"
   },
   {
    "duration": 8,
    "start_time": "2024-11-20T00:01:40.981Z"
   },
   {
    "duration": 43,
    "start_time": "2024-11-20T00:01:40.990Z"
   },
   {
    "duration": 6,
    "start_time": "2024-11-20T00:01:41.034Z"
   },
   {
    "duration": 63,
    "start_time": "2024-11-20T00:01:41.042Z"
   },
   {
    "duration": 124,
    "start_time": "2024-11-20T00:01:41.107Z"
   },
   {
    "duration": 6,
    "start_time": "2024-11-20T00:01:41.234Z"
   },
   {
    "duration": 4,
    "start_time": "2024-11-20T00:01:41.244Z"
   },
   {
    "duration": 24,
    "start_time": "2024-11-20T00:01:41.249Z"
   },
   {
    "duration": 95,
    "start_time": "2024-11-20T00:01:41.275Z"
   },
   {
    "duration": 18,
    "start_time": "2024-11-20T00:01:41.372Z"
   },
   {
    "duration": 130,
    "start_time": "2024-11-20T00:01:41.392Z"
   },
   {
    "duration": 27,
    "start_time": "2024-11-20T00:01:41.523Z"
   },
   {
    "duration": 29,
    "start_time": "2024-11-20T00:01:41.551Z"
   },
   {
    "duration": 23,
    "start_time": "2024-11-20T00:01:41.582Z"
   },
   {
    "duration": 4,
    "start_time": "2024-11-20T00:01:41.606Z"
   },
   {
    "duration": 22,
    "start_time": "2024-11-20T00:01:41.612Z"
   },
   {
    "duration": 322,
    "start_time": "2024-11-20T00:01:41.635Z"
   },
   {
    "duration": 10,
    "start_time": "2024-11-20T00:01:41.959Z"
   },
   {
    "duration": 185,
    "start_time": "2024-11-20T00:01:41.971Z"
   },
   {
    "duration": 29,
    "start_time": "2024-11-20T00:04:14.749Z"
   },
   {
    "duration": 24,
    "start_time": "2024-11-20T00:04:21.532Z"
   },
   {
    "duration": 30,
    "start_time": "2024-11-20T00:09:40.629Z"
   },
   {
    "duration": 3,
    "start_time": "2024-11-20T00:10:09.391Z"
   },
   {
    "duration": 32,
    "start_time": "2024-11-20T00:10:16.946Z"
   },
   {
    "duration": 15,
    "start_time": "2024-11-20T00:17:10.497Z"
   },
   {
    "duration": 29,
    "start_time": "2024-11-20T00:18:01.227Z"
   },
   {
    "duration": 25,
    "start_time": "2024-11-20T00:18:06.017Z"
   },
   {
    "duration": 32,
    "start_time": "2024-11-20T00:18:58.194Z"
   },
   {
    "duration": 25,
    "start_time": "2024-11-20T00:19:53.298Z"
   },
   {
    "duration": 22,
    "start_time": "2024-11-20T00:20:26.381Z"
   },
   {
    "duration": 219,
    "start_time": "2024-11-20T00:21:24.286Z"
   },
   {
    "duration": 526,
    "start_time": "2024-11-20T00:21:44.719Z"
   },
   {
    "duration": 864,
    "start_time": "2024-11-20T00:22:11.786Z"
   },
   {
    "duration": 629,
    "start_time": "2024-11-20T00:23:30.603Z"
   },
   {
    "duration": 408,
    "start_time": "2024-11-20T00:24:42.181Z"
   },
   {
    "duration": 2810,
    "start_time": "2024-11-20T18:26:06.540Z"
   },
   {
    "duration": 129,
    "start_time": "2024-11-20T18:26:09.353Z"
   },
   {
    "duration": 24,
    "start_time": "2024-11-20T18:26:09.484Z"
   },
   {
    "duration": 10,
    "start_time": "2024-11-20T18:26:09.511Z"
   },
   {
    "duration": 41,
    "start_time": "2024-11-20T18:26:09.523Z"
   },
   {
    "duration": 9,
    "start_time": "2024-11-20T18:26:09.565Z"
   },
   {
    "duration": 77,
    "start_time": "2024-11-20T18:26:09.575Z"
   },
   {
    "duration": 134,
    "start_time": "2024-11-20T18:26:09.654Z"
   },
   {
    "duration": 15,
    "start_time": "2024-11-20T18:26:09.790Z"
   },
   {
    "duration": 3,
    "start_time": "2024-11-20T18:26:09.809Z"
   },
   {
    "duration": 25,
    "start_time": "2024-11-20T18:26:09.815Z"
   },
   {
    "duration": 108,
    "start_time": "2024-11-20T18:26:09.842Z"
   },
   {
    "duration": 19,
    "start_time": "2024-11-20T18:26:09.952Z"
   },
   {
    "duration": 148,
    "start_time": "2024-11-20T18:26:09.973Z"
   },
   {
    "duration": 37,
    "start_time": "2024-11-20T18:26:10.123Z"
   },
   {
    "duration": 62,
    "start_time": "2024-11-20T18:26:10.162Z"
   },
   {
    "duration": 3,
    "start_time": "2024-11-20T18:26:10.227Z"
   },
   {
    "duration": 5,
    "start_time": "2024-11-20T18:26:10.232Z"
   },
   {
    "duration": 32,
    "start_time": "2024-11-20T18:26:10.239Z"
   },
   {
    "duration": 356,
    "start_time": "2024-11-20T18:26:10.273Z"
   },
   {
    "duration": 14,
    "start_time": "2024-11-20T18:26:10.631Z"
   },
   {
    "duration": 200,
    "start_time": "2024-11-20T18:26:10.647Z"
   },
   {
    "duration": 24,
    "start_time": "2024-11-20T18:26:10.849Z"
   },
   {
    "duration": 859,
    "start_time": "2024-11-20T18:26:10.875Z"
   },
   {
    "duration": 609,
    "start_time": "2024-11-20T18:26:11.736Z"
   },
   {
    "duration": 418,
    "start_time": "2024-11-20T18:26:12.348Z"
   },
   {
    "duration": 596,
    "start_time": "2024-11-20T18:26:24.660Z"
   },
   {
    "duration": 289,
    "start_time": "2024-11-20T18:33:20.210Z"
   },
   {
    "duration": 7,
    "start_time": "2024-11-20T18:33:29.891Z"
   },
   {
    "duration": 686,
    "start_time": "2024-11-20T18:34:08.231Z"
   },
   {
    "duration": 637,
    "start_time": "2024-11-20T18:35:15.182Z"
   },
   {
    "duration": 698,
    "start_time": "2024-11-20T18:35:53.291Z"
   },
   {
    "duration": 424,
    "start_time": "2024-11-20T18:37:21.727Z"
   },
   {
    "duration": 415,
    "start_time": "2024-11-20T18:37:55.492Z"
   },
   {
    "duration": 775,
    "start_time": "2024-11-20T18:39:59.009Z"
   },
   {
    "duration": 325,
    "start_time": "2024-11-20T18:44:59.894Z"
   },
   {
    "duration": 287,
    "start_time": "2024-11-20T18:45:11.259Z"
   },
   {
    "duration": 376,
    "start_time": "2024-11-20T18:45:22.834Z"
   },
   {
    "duration": 5,
    "start_time": "2024-11-20T18:54:26.439Z"
   },
   {
    "duration": 6,
    "start_time": "2024-11-20T18:54:50.824Z"
   },
   {
    "duration": 13,
    "start_time": "2024-11-20T18:54:55.151Z"
   },
   {
    "duration": 14,
    "start_time": "2024-11-20T18:55:14.247Z"
   },
   {
    "duration": 12,
    "start_time": "2024-11-20T18:55:33.039Z"
   },
   {
    "duration": 12,
    "start_time": "2024-11-20T18:55:37.695Z"
   },
   {
    "duration": 10,
    "start_time": "2024-11-20T18:56:08.373Z"
   },
   {
    "duration": 24,
    "start_time": "2024-11-20T18:56:28.470Z"
   },
   {
    "duration": 785,
    "start_time": "2024-11-20T18:58:17.649Z"
   },
   {
    "duration": 704,
    "start_time": "2024-11-20T18:58:23.146Z"
   },
   {
    "duration": 4875,
    "start_time": "2024-11-20T19:03:25.666Z"
   },
   {
    "duration": 4877,
    "start_time": "2024-11-20T19:30:56.467Z"
   },
   {
    "duration": 281,
    "start_time": "2024-11-20T19:39:15.075Z"
   },
   {
    "duration": 263,
    "start_time": "2024-11-20T19:39:25.445Z"
   },
   {
    "duration": 241,
    "start_time": "2024-11-20T19:40:09.635Z"
   },
   {
    "duration": 253,
    "start_time": "2024-11-20T19:42:33.434Z"
   },
   {
    "duration": 245,
    "start_time": "2024-11-20T19:42:43.935Z"
   },
   {
    "duration": 324,
    "start_time": "2024-11-20T19:43:03.657Z"
   },
   {
    "duration": 374,
    "start_time": "2024-11-20T19:45:30.974Z"
   },
   {
    "duration": 245,
    "start_time": "2024-11-20T19:46:21.312Z"
   },
   {
    "duration": 266,
    "start_time": "2024-11-20T19:46:49.305Z"
   },
   {
    "duration": 15,
    "start_time": "2024-11-20T19:54:15.222Z"
   },
   {
    "duration": 16,
    "start_time": "2024-11-20T19:54:24.329Z"
   },
   {
    "duration": 14,
    "start_time": "2024-11-20T19:56:47.120Z"
   },
   {
    "duration": 430,
    "start_time": "2024-11-20T20:02:18.710Z"
   },
   {
    "duration": 52,
    "start_time": "2024-11-20T20:02:39.035Z"
   },
   {
    "duration": 14,
    "start_time": "2024-11-20T20:06:44.410Z"
   },
   {
    "duration": 23,
    "start_time": "2024-11-20T20:07:07.535Z"
   },
   {
    "duration": 36,
    "start_time": "2024-11-20T20:26:03.241Z"
   },
   {
    "duration": 17,
    "start_time": "2024-11-20T20:27:30.048Z"
   },
   {
    "duration": 4,
    "start_time": "2024-11-20T20:28:50.914Z"
   },
   {
    "duration": 2482,
    "start_time": "2024-11-21T00:17:36.180Z"
   },
   {
    "duration": 136,
    "start_time": "2024-11-21T00:17:38.664Z"
   },
   {
    "duration": 17,
    "start_time": "2024-11-21T00:17:38.802Z"
   },
   {
    "duration": 8,
    "start_time": "2024-11-21T00:17:38.823Z"
   },
   {
    "duration": 30,
    "start_time": "2024-11-21T00:17:38.832Z"
   },
   {
    "duration": 7,
    "start_time": "2024-11-21T00:17:38.864Z"
   },
   {
    "duration": 70,
    "start_time": "2024-11-21T00:17:38.873Z"
   },
   {
    "duration": 126,
    "start_time": "2024-11-21T00:17:38.945Z"
   },
   {
    "duration": 6,
    "start_time": "2024-11-21T00:17:39.072Z"
   },
   {
    "duration": 3,
    "start_time": "2024-11-21T00:17:39.081Z"
   },
   {
    "duration": 40,
    "start_time": "2024-11-21T00:17:39.086Z"
   },
   {
    "duration": 75,
    "start_time": "2024-11-21T00:17:39.128Z"
   },
   {
    "duration": 28,
    "start_time": "2024-11-21T00:17:39.204Z"
   },
   {
    "duration": 122,
    "start_time": "2024-11-21T00:17:39.234Z"
   },
   {
    "duration": 27,
    "start_time": "2024-11-21T00:17:39.357Z"
   },
   {
    "duration": 42,
    "start_time": "2024-11-21T00:17:39.386Z"
   },
   {
    "duration": 3,
    "start_time": "2024-11-21T00:17:39.430Z"
   },
   {
    "duration": 4,
    "start_time": "2024-11-21T00:17:39.435Z"
   },
   {
    "duration": 22,
    "start_time": "2024-11-21T00:17:39.441Z"
   },
   {
    "duration": 327,
    "start_time": "2024-11-21T00:17:39.465Z"
   },
   {
    "duration": 10,
    "start_time": "2024-11-21T00:17:39.793Z"
   },
   {
    "duration": 202,
    "start_time": "2024-11-21T00:17:39.805Z"
   },
   {
    "duration": 28,
    "start_time": "2024-11-21T00:17:40.009Z"
   },
   {
    "duration": 325,
    "start_time": "2024-11-21T00:17:40.039Z"
   },
   {
    "duration": 409,
    "start_time": "2024-11-21T00:17:40.365Z"
   },
   {
    "duration": 0,
    "start_time": "2024-11-21T00:17:40.776Z"
   },
   {
    "duration": 0,
    "start_time": "2024-11-21T00:17:40.778Z"
   },
   {
    "duration": 0,
    "start_time": "2024-11-21T00:17:40.779Z"
   },
   {
    "duration": 0,
    "start_time": "2024-11-21T00:17:40.781Z"
   },
   {
    "duration": 0,
    "start_time": "2024-11-21T00:17:40.782Z"
   },
   {
    "duration": 44,
    "start_time": "2024-11-21T00:18:38.547Z"
   },
   {
    "duration": 820,
    "start_time": "2024-11-21T00:18:58.086Z"
   },
   {
    "duration": 104,
    "start_time": "2024-11-21T00:18:58.908Z"
   },
   {
    "duration": 16,
    "start_time": "2024-11-21T00:18:59.014Z"
   },
   {
    "duration": 8,
    "start_time": "2024-11-21T00:18:59.032Z"
   },
   {
    "duration": 30,
    "start_time": "2024-11-21T00:18:59.042Z"
   },
   {
    "duration": 7,
    "start_time": "2024-11-21T00:18:59.074Z"
   },
   {
    "duration": 80,
    "start_time": "2024-11-21T00:18:59.082Z"
   },
   {
    "duration": 124,
    "start_time": "2024-11-21T00:18:59.164Z"
   },
   {
    "duration": 5,
    "start_time": "2024-11-21T00:18:59.290Z"
   },
   {
    "duration": 3,
    "start_time": "2024-11-21T00:18:59.299Z"
   },
   {
    "duration": 25,
    "start_time": "2024-11-21T00:18:59.323Z"
   },
   {
    "duration": 81,
    "start_time": "2024-11-21T00:18:59.349Z"
   },
   {
    "duration": 17,
    "start_time": "2024-11-21T00:18:59.432Z"
   },
   {
    "duration": 124,
    "start_time": "2024-11-21T00:18:59.451Z"
   },
   {
    "duration": 27,
    "start_time": "2024-11-21T00:18:59.576Z"
   },
   {
    "duration": 43,
    "start_time": "2024-11-21T00:18:59.605Z"
   },
   {
    "duration": 3,
    "start_time": "2024-11-21T00:18:59.650Z"
   },
   {
    "duration": 6,
    "start_time": "2024-11-21T00:18:59.654Z"
   },
   {
    "duration": 22,
    "start_time": "2024-11-21T00:18:59.661Z"
   },
   {
    "duration": 292,
    "start_time": "2024-11-21T00:18:59.685Z"
   },
   {
    "duration": 10,
    "start_time": "2024-11-21T00:18:59.979Z"
   },
   {
    "duration": 239,
    "start_time": "2024-11-21T00:18:59.991Z"
   },
   {
    "duration": 23,
    "start_time": "2024-11-21T00:19:00.232Z"
   },
   {
    "duration": 318,
    "start_time": "2024-11-21T00:19:00.256Z"
   },
   {
    "duration": 352,
    "start_time": "2024-11-21T00:19:00.576Z"
   },
   {
    "duration": 0,
    "start_time": "2024-11-21T00:19:00.930Z"
   },
   {
    "duration": 0,
    "start_time": "2024-11-21T00:19:00.931Z"
   },
   {
    "duration": 0,
    "start_time": "2024-11-21T00:19:00.932Z"
   },
   {
    "duration": 0,
    "start_time": "2024-11-21T00:19:00.933Z"
   },
   {
    "duration": 0,
    "start_time": "2024-11-21T00:19:00.934Z"
   },
   {
    "duration": 14,
    "start_time": "2024-11-21T00:20:05.229Z"
   },
   {
    "duration": 40,
    "start_time": "2024-11-21T00:20:34.589Z"
   },
   {
    "duration": 15,
    "start_time": "2024-11-21T00:23:23.582Z"
   },
   {
    "duration": 27,
    "start_time": "2024-11-21T00:23:36.485Z"
   },
   {
    "duration": 52,
    "start_time": "2024-11-21T00:25:16.363Z"
   },
   {
    "duration": 804,
    "start_time": "2024-11-21T00:33:56.804Z"
   },
   {
    "duration": 105,
    "start_time": "2024-11-21T00:33:57.610Z"
   },
   {
    "duration": 17,
    "start_time": "2024-11-21T00:33:57.716Z"
   },
   {
    "duration": 8,
    "start_time": "2024-11-21T00:33:57.737Z"
   },
   {
    "duration": 32,
    "start_time": "2024-11-21T00:33:57.747Z"
   },
   {
    "duration": 7,
    "start_time": "2024-11-21T00:33:57.780Z"
   },
   {
    "duration": 87,
    "start_time": "2024-11-21T00:33:57.788Z"
   },
   {
    "duration": 124,
    "start_time": "2024-11-21T00:33:57.877Z"
   },
   {
    "duration": 5,
    "start_time": "2024-11-21T00:33:58.002Z"
   },
   {
    "duration": 3,
    "start_time": "2024-11-21T00:33:58.009Z"
   },
   {
    "duration": 28,
    "start_time": "2024-11-21T00:33:58.025Z"
   },
   {
    "duration": 94,
    "start_time": "2024-11-21T00:33:58.054Z"
   },
   {
    "duration": 20,
    "start_time": "2024-11-21T00:33:58.150Z"
   },
   {
    "duration": 133,
    "start_time": "2024-11-21T00:33:58.174Z"
   },
   {
    "duration": 30,
    "start_time": "2024-11-21T00:33:58.309Z"
   },
   {
    "duration": 30,
    "start_time": "2024-11-21T00:33:58.341Z"
   },
   {
    "duration": 3,
    "start_time": "2024-11-21T00:33:58.373Z"
   },
   {
    "duration": 4,
    "start_time": "2024-11-21T00:33:58.378Z"
   },
   {
    "duration": 50,
    "start_time": "2024-11-21T00:33:58.384Z"
   },
   {
    "duration": 257,
    "start_time": "2024-11-21T00:33:58.435Z"
   },
   {
    "duration": 10,
    "start_time": "2024-11-21T00:33:58.694Z"
   },
   {
    "duration": 234,
    "start_time": "2024-11-21T00:33:58.706Z"
   },
   {
    "duration": 24,
    "start_time": "2024-11-21T00:33:58.942Z"
   },
   {
    "duration": 317,
    "start_time": "2024-11-21T00:33:58.967Z"
   },
   {
    "duration": 351,
    "start_time": "2024-11-21T00:33:59.286Z"
   },
   {
    "duration": 0,
    "start_time": "2024-11-21T00:33:59.639Z"
   },
   {
    "duration": 0,
    "start_time": "2024-11-21T00:33:59.641Z"
   },
   {
    "duration": 0,
    "start_time": "2024-11-21T00:33:59.642Z"
   },
   {
    "duration": 0,
    "start_time": "2024-11-21T00:33:59.644Z"
   },
   {
    "duration": 0,
    "start_time": "2024-11-21T00:33:59.645Z"
   },
   {
    "duration": 28,
    "start_time": "2024-11-21T00:34:21.301Z"
   },
   {
    "duration": 50,
    "start_time": "2024-11-21T00:36:20.821Z"
   },
   {
    "duration": 46,
    "start_time": "2024-11-21T00:36:23.018Z"
   },
   {
    "duration": 52,
    "start_time": "2024-11-21T00:36:36.887Z"
   },
   {
    "duration": 66,
    "start_time": "2024-11-21T00:36:52.909Z"
   },
   {
    "duration": 42,
    "start_time": "2024-11-21T00:37:21.876Z"
   },
   {
    "duration": 27,
    "start_time": "2024-11-21T00:38:06.002Z"
   },
   {
    "duration": 855,
    "start_time": "2024-11-21T00:38:15.538Z"
   },
   {
    "duration": 106,
    "start_time": "2024-11-21T00:38:16.395Z"
   },
   {
    "duration": 21,
    "start_time": "2024-11-21T00:38:16.503Z"
   },
   {
    "duration": 8,
    "start_time": "2024-11-21T00:38:16.526Z"
   },
   {
    "duration": 31,
    "start_time": "2024-11-21T00:38:16.537Z"
   },
   {
    "duration": 7,
    "start_time": "2024-11-21T00:38:16.569Z"
   },
   {
    "duration": 46,
    "start_time": "2024-11-21T00:38:16.578Z"
   },
   {
    "duration": 125,
    "start_time": "2024-11-21T00:38:16.626Z"
   },
   {
    "duration": 6,
    "start_time": "2024-11-21T00:38:16.752Z"
   },
   {
    "duration": 3,
    "start_time": "2024-11-21T00:38:16.760Z"
   },
   {
    "duration": 19,
    "start_time": "2024-11-21T00:38:16.765Z"
   },
   {
    "duration": 87,
    "start_time": "2024-11-21T00:38:16.785Z"
   },
   {
    "duration": 18,
    "start_time": "2024-11-21T00:38:16.874Z"
   },
   {
    "duration": 131,
    "start_time": "2024-11-21T00:38:16.896Z"
   },
   {
    "duration": 26,
    "start_time": "2024-11-21T00:38:17.029Z"
   },
   {
    "duration": 30,
    "start_time": "2024-11-21T00:38:17.057Z"
   },
   {
    "duration": 3,
    "start_time": "2024-11-21T00:38:17.089Z"
   },
   {
    "duration": 4,
    "start_time": "2024-11-21T00:38:17.094Z"
   },
   {
    "duration": 8,
    "start_time": "2024-11-21T00:38:17.124Z"
   },
   {
    "duration": 270,
    "start_time": "2024-11-21T00:38:17.134Z"
   },
   {
    "duration": 19,
    "start_time": "2024-11-21T00:38:17.405Z"
   },
   {
    "duration": 251,
    "start_time": "2024-11-21T00:38:17.427Z"
   },
   {
    "duration": 14,
    "start_time": "2024-11-21T00:38:17.679Z"
   },
   {
    "duration": 365,
    "start_time": "2024-11-21T00:38:17.695Z"
   },
   {
    "duration": 14,
    "start_time": "2024-11-21T00:38:18.063Z"
   },
   {
    "duration": 13,
    "start_time": "2024-11-21T00:38:18.079Z"
   },
   {
    "duration": 70,
    "start_time": "2024-11-21T00:38:18.093Z"
   },
   {
    "duration": 41,
    "start_time": "2024-11-21T00:38:18.165Z"
   },
   {
    "duration": 32,
    "start_time": "2024-11-21T00:38:18.207Z"
   },
   {
    "duration": 23,
    "start_time": "2024-11-21T00:38:18.241Z"
   },
   {
    "duration": 9,
    "start_time": "2024-11-21T00:39:03.961Z"
   },
   {
    "duration": 31,
    "start_time": "2024-11-21T00:50:26.019Z"
   },
   {
    "duration": 849,
    "start_time": "2024-11-21T00:50:54.436Z"
   },
   {
    "duration": 109,
    "start_time": "2024-11-21T00:50:55.287Z"
   },
   {
    "duration": 15,
    "start_time": "2024-11-21T00:50:55.398Z"
   },
   {
    "duration": 8,
    "start_time": "2024-11-21T00:50:55.424Z"
   },
   {
    "duration": 30,
    "start_time": "2024-11-21T00:50:55.434Z"
   },
   {
    "duration": 6,
    "start_time": "2024-11-21T00:50:55.466Z"
   },
   {
    "duration": 20,
    "start_time": "2024-11-21T00:50:55.474Z"
   },
   {
    "duration": 144,
    "start_time": "2024-11-21T00:50:55.496Z"
   },
   {
    "duration": 6,
    "start_time": "2024-11-21T00:50:55.642Z"
   },
   {
    "duration": 3,
    "start_time": "2024-11-21T00:50:55.651Z"
   },
   {
    "duration": 19,
    "start_time": "2024-11-21T00:50:55.655Z"
   },
   {
    "duration": 80,
    "start_time": "2024-11-21T00:50:55.676Z"
   },
   {
    "duration": 17,
    "start_time": "2024-11-21T00:50:55.758Z"
   },
   {
    "duration": 132,
    "start_time": "2024-11-21T00:50:55.777Z"
   },
   {
    "duration": 31,
    "start_time": "2024-11-21T00:50:55.910Z"
   },
   {
    "duration": 31,
    "start_time": "2024-11-21T00:50:55.943Z"
   },
   {
    "duration": 3,
    "start_time": "2024-11-21T00:50:55.976Z"
   },
   {
    "duration": 4,
    "start_time": "2024-11-21T00:50:55.980Z"
   },
   {
    "duration": 8,
    "start_time": "2024-11-21T00:50:55.986Z"
   },
   {
    "duration": 279,
    "start_time": "2024-11-21T00:50:56.023Z"
   },
   {
    "duration": 19,
    "start_time": "2024-11-21T00:50:56.305Z"
   },
   {
    "duration": 230,
    "start_time": "2024-11-21T00:50:56.326Z"
   },
   {
    "duration": 15,
    "start_time": "2024-11-21T00:50:56.558Z"
   },
   {
    "duration": 326,
    "start_time": "2024-11-21T00:50:56.575Z"
   },
   {
    "duration": 15,
    "start_time": "2024-11-21T00:50:56.902Z"
   },
   {
    "duration": 14,
    "start_time": "2024-11-21T00:50:56.924Z"
   },
   {
    "duration": 51,
    "start_time": "2024-11-21T00:50:56.939Z"
   },
   {
    "duration": 56,
    "start_time": "2024-11-21T00:50:56.993Z"
   },
   {
    "duration": 18,
    "start_time": "2024-11-21T00:50:57.051Z"
   },
   {
    "duration": 22,
    "start_time": "2024-11-21T00:50:57.070Z"
   },
   {
    "duration": 71,
    "start_time": "2024-11-21T00:53:37.331Z"
   },
   {
    "duration": 764,
    "start_time": "2024-11-21T00:54:32.785Z"
   },
   {
    "duration": 119,
    "start_time": "2024-11-21T00:54:33.550Z"
   },
   {
    "duration": 16,
    "start_time": "2024-11-21T00:54:33.671Z"
   },
   {
    "duration": 8,
    "start_time": "2024-11-21T00:54:33.689Z"
   },
   {
    "duration": 48,
    "start_time": "2024-11-21T00:54:33.699Z"
   },
   {
    "duration": 8,
    "start_time": "2024-11-21T00:54:33.749Z"
   },
   {
    "duration": 70,
    "start_time": "2024-11-21T00:54:33.758Z"
   },
   {
    "duration": 133,
    "start_time": "2024-11-21T00:54:33.830Z"
   },
   {
    "duration": 6,
    "start_time": "2024-11-21T00:54:33.965Z"
   },
   {
    "duration": 3,
    "start_time": "2024-11-21T00:54:33.974Z"
   },
   {
    "duration": 24,
    "start_time": "2024-11-21T00:54:33.979Z"
   },
   {
    "duration": 90,
    "start_time": "2024-11-21T00:54:34.004Z"
   },
   {
    "duration": 29,
    "start_time": "2024-11-21T00:54:34.096Z"
   },
   {
    "duration": 123,
    "start_time": "2024-11-21T00:54:34.126Z"
   },
   {
    "duration": 27,
    "start_time": "2024-11-21T00:54:34.251Z"
   },
   {
    "duration": 46,
    "start_time": "2024-11-21T00:54:34.279Z"
   },
   {
    "duration": 4,
    "start_time": "2024-11-21T00:54:34.327Z"
   },
   {
    "duration": 4,
    "start_time": "2024-11-21T00:54:34.333Z"
   },
   {
    "duration": 21,
    "start_time": "2024-11-21T00:54:34.339Z"
   },
   {
    "duration": 309,
    "start_time": "2024-11-21T00:54:34.362Z"
   },
   {
    "duration": 13,
    "start_time": "2024-11-21T00:54:34.673Z"
   },
   {
    "duration": 242,
    "start_time": "2024-11-21T00:54:34.688Z"
   },
   {
    "duration": 24,
    "start_time": "2024-11-21T00:54:34.932Z"
   },
   {
    "duration": 314,
    "start_time": "2024-11-21T00:54:34.958Z"
   },
   {
    "duration": 349,
    "start_time": "2024-11-21T00:54:35.274Z"
   },
   {
    "duration": 0,
    "start_time": "2024-11-21T00:54:35.625Z"
   },
   {
    "duration": 0,
    "start_time": "2024-11-21T00:54:35.626Z"
   },
   {
    "duration": 0,
    "start_time": "2024-11-21T00:54:35.627Z"
   },
   {
    "duration": 0,
    "start_time": "2024-11-21T00:54:35.628Z"
   },
   {
    "duration": 0,
    "start_time": "2024-11-21T00:54:35.629Z"
   },
   {
    "duration": 37,
    "start_time": "2024-11-21T00:56:05.224Z"
   },
   {
    "duration": 28,
    "start_time": "2024-11-21T01:00:27.959Z"
   },
   {
    "duration": 19,
    "start_time": "2024-11-21T01:00:47.373Z"
   },
   {
    "duration": 42,
    "start_time": "2024-11-21T01:00:55.600Z"
   },
   {
    "duration": 15,
    "start_time": "2024-11-21T01:01:00.991Z"
   },
   {
    "duration": 47,
    "start_time": "2024-11-21T01:01:21.954Z"
   },
   {
    "duration": 39,
    "start_time": "2024-11-21T01:01:28.268Z"
   },
   {
    "duration": 50,
    "start_time": "2024-11-21T01:01:32.672Z"
   },
   {
    "duration": 18,
    "start_time": "2024-11-21T01:01:51.033Z"
   },
   {
    "duration": 160,
    "start_time": "2024-11-21T02:22:00.811Z"
   },
   {
    "duration": 2533,
    "start_time": "2024-11-21T02:22:22.315Z"
   },
   {
    "duration": 133,
    "start_time": "2024-11-21T02:22:24.850Z"
   },
   {
    "duration": 17,
    "start_time": "2024-11-21T02:22:24.984Z"
   },
   {
    "duration": 16,
    "start_time": "2024-11-21T02:22:25.003Z"
   },
   {
    "duration": 32,
    "start_time": "2024-11-21T02:22:25.022Z"
   },
   {
    "duration": 7,
    "start_time": "2024-11-21T02:22:25.056Z"
   },
   {
    "duration": 68,
    "start_time": "2024-11-21T02:22:25.066Z"
   },
   {
    "duration": 126,
    "start_time": "2024-11-21T02:22:25.136Z"
   },
   {
    "duration": 5,
    "start_time": "2024-11-21T02:22:25.264Z"
   },
   {
    "duration": 8,
    "start_time": "2024-11-21T02:22:25.271Z"
   },
   {
    "duration": 3,
    "start_time": "2024-11-21T02:22:25.281Z"
   },
   {
    "duration": 48,
    "start_time": "2024-11-21T02:22:25.286Z"
   },
   {
    "duration": 83,
    "start_time": "2024-11-21T02:22:25.336Z"
   },
   {
    "duration": 19,
    "start_time": "2024-11-21T02:22:25.422Z"
   },
   {
    "duration": 125,
    "start_time": "2024-11-21T02:22:25.443Z"
   },
   {
    "duration": 27,
    "start_time": "2024-11-21T02:22:25.569Z"
   },
   {
    "duration": 44,
    "start_time": "2024-11-21T02:22:25.598Z"
   },
   {
    "duration": 3,
    "start_time": "2024-11-21T02:22:25.644Z"
   },
   {
    "duration": 9,
    "start_time": "2024-11-21T02:22:25.649Z"
   },
   {
    "duration": 23,
    "start_time": "2024-11-21T02:22:25.660Z"
   },
   {
    "duration": 298,
    "start_time": "2024-11-21T02:22:25.685Z"
   },
   {
    "duration": 11,
    "start_time": "2024-11-21T02:22:25.985Z"
   },
   {
    "duration": 199,
    "start_time": "2024-11-21T02:22:25.998Z"
   },
   {
    "duration": 25,
    "start_time": "2024-11-21T02:22:26.202Z"
   },
   {
    "duration": 325,
    "start_time": "2024-11-21T02:22:26.228Z"
   },
   {
    "duration": 18,
    "start_time": "2024-11-21T02:22:26.555Z"
   },
   {
    "duration": 15,
    "start_time": "2024-11-21T02:22:26.575Z"
   },
   {
    "duration": 65,
    "start_time": "2024-11-21T02:22:26.592Z"
   },
   {
    "duration": 53,
    "start_time": "2024-11-21T02:22:26.659Z"
   },
   {
    "duration": 18,
    "start_time": "2024-11-21T02:22:26.714Z"
   },
   {
    "duration": 787,
    "start_time": "2024-11-21T02:24:11.605Z"
   },
   {
    "duration": 100,
    "start_time": "2024-11-21T02:24:12.394Z"
   },
   {
    "duration": 19,
    "start_time": "2024-11-21T02:24:12.496Z"
   },
   {
    "duration": 7,
    "start_time": "2024-11-21T02:24:12.517Z"
   },
   {
    "duration": 32,
    "start_time": "2024-11-21T02:24:12.526Z"
   },
   {
    "duration": 7,
    "start_time": "2024-11-21T02:24:12.560Z"
   },
   {
    "duration": 79,
    "start_time": "2024-11-21T02:24:12.569Z"
   },
   {
    "duration": 124,
    "start_time": "2024-11-21T02:24:12.649Z"
   },
   {
    "duration": 5,
    "start_time": "2024-11-21T02:24:12.775Z"
   },
   {
    "duration": 36,
    "start_time": "2024-11-21T02:24:12.781Z"
   },
   {
    "duration": 4,
    "start_time": "2024-11-21T02:24:12.818Z"
   },
   {
    "duration": 19,
    "start_time": "2024-11-21T02:24:12.823Z"
   },
   {
    "duration": 76,
    "start_time": "2024-11-21T02:24:12.843Z"
   },
   {
    "duration": 17,
    "start_time": "2024-11-21T02:24:12.923Z"
   },
   {
    "duration": 129,
    "start_time": "2024-11-21T02:24:12.942Z"
   },
   {
    "duration": 26,
    "start_time": "2024-11-21T02:24:13.073Z"
   },
   {
    "duration": 39,
    "start_time": "2024-11-21T02:24:13.101Z"
   },
   {
    "duration": 3,
    "start_time": "2024-11-21T02:24:13.142Z"
   },
   {
    "duration": 6,
    "start_time": "2024-11-21T02:24:13.146Z"
   },
   {
    "duration": 9,
    "start_time": "2024-11-21T02:24:13.153Z"
   },
   {
    "duration": 315,
    "start_time": "2024-11-21T02:24:13.163Z"
   },
   {
    "duration": 11,
    "start_time": "2024-11-21T02:24:13.479Z"
   },
   {
    "duration": 259,
    "start_time": "2024-11-21T02:24:13.492Z"
   },
   {
    "duration": 15,
    "start_time": "2024-11-21T02:24:13.753Z"
   },
   {
    "duration": 349,
    "start_time": "2024-11-21T02:24:13.770Z"
   },
   {
    "duration": 16,
    "start_time": "2024-11-21T02:24:14.121Z"
   },
   {
    "duration": 13,
    "start_time": "2024-11-21T02:24:14.139Z"
   },
   {
    "duration": 63,
    "start_time": "2024-11-21T02:24:14.154Z"
   },
   {
    "duration": 35,
    "start_time": "2024-11-21T02:24:14.219Z"
   },
   {
    "duration": 17,
    "start_time": "2024-11-21T02:24:14.257Z"
   },
   {
    "duration": 791,
    "start_time": "2024-11-21T02:26:30.710Z"
   },
   {
    "duration": 100,
    "start_time": "2024-11-21T02:26:31.503Z"
   },
   {
    "duration": 20,
    "start_time": "2024-11-21T02:26:31.604Z"
   },
   {
    "duration": 8,
    "start_time": "2024-11-21T02:26:31.626Z"
   },
   {
    "duration": 30,
    "start_time": "2024-11-21T02:26:31.635Z"
   },
   {
    "duration": 6,
    "start_time": "2024-11-21T02:26:31.667Z"
   },
   {
    "duration": 78,
    "start_time": "2024-11-21T02:26:31.675Z"
   },
   {
    "duration": 126,
    "start_time": "2024-11-21T02:26:31.754Z"
   },
   {
    "duration": 5,
    "start_time": "2024-11-21T02:26:31.882Z"
   },
   {
    "duration": 2,
    "start_time": "2024-11-21T02:26:31.890Z"
   },
   {
    "duration": 18,
    "start_time": "2024-11-21T02:26:31.894Z"
   },
   {
    "duration": 25,
    "start_time": "2024-11-21T02:26:31.913Z"
   },
   {
    "duration": 87,
    "start_time": "2024-11-21T02:26:31.940Z"
   },
   {
    "duration": 22,
    "start_time": "2024-11-21T02:26:32.028Z"
   },
   {
    "duration": 124,
    "start_time": "2024-11-21T02:26:32.052Z"
   },
   {
    "duration": 35,
    "start_time": "2024-11-21T02:26:32.179Z"
   },
   {
    "duration": 31,
    "start_time": "2024-11-21T02:26:32.216Z"
   },
   {
    "duration": 3,
    "start_time": "2024-11-21T02:26:32.249Z"
   },
   {
    "duration": 5,
    "start_time": "2024-11-21T02:26:32.254Z"
   },
   {
    "duration": 52,
    "start_time": "2024-11-21T02:26:32.260Z"
   },
   {
    "duration": 249,
    "start_time": "2024-11-21T02:26:32.314Z"
   },
   {
    "duration": 11,
    "start_time": "2024-11-21T02:26:32.565Z"
   },
   {
    "duration": 247,
    "start_time": "2024-11-21T02:26:32.577Z"
   },
   {
    "duration": 24,
    "start_time": "2024-11-21T02:26:32.826Z"
   },
   {
    "duration": 311,
    "start_time": "2024-11-21T02:26:32.851Z"
   },
   {
    "duration": 21,
    "start_time": "2024-11-21T02:26:33.164Z"
   },
   {
    "duration": 26,
    "start_time": "2024-11-21T02:26:33.187Z"
   },
   {
    "duration": 52,
    "start_time": "2024-11-21T02:26:33.216Z"
   },
   {
    "duration": 51,
    "start_time": "2024-11-21T02:26:33.269Z"
   },
   {
    "duration": 20,
    "start_time": "2024-11-21T02:26:33.321Z"
   },
   {
    "duration": 226,
    "start_time": "2024-11-21T02:29:45.037Z"
   },
   {
    "duration": 2,
    "start_time": "2024-11-21T02:30:59.392Z"
   },
   {
    "duration": 29,
    "start_time": "2024-11-21T02:36:32.605Z"
   },
   {
    "duration": 2942,
    "start_time": "2024-11-21T05:18:21.011Z"
   },
   {
    "duration": 173,
    "start_time": "2024-11-21T05:18:23.955Z"
   },
   {
    "duration": 15,
    "start_time": "2024-11-21T05:18:24.130Z"
   },
   {
    "duration": 7,
    "start_time": "2024-11-21T05:18:24.148Z"
   },
   {
    "duration": 38,
    "start_time": "2024-11-21T05:18:24.157Z"
   },
   {
    "duration": 12,
    "start_time": "2024-11-21T05:18:24.197Z"
   },
   {
    "duration": 54,
    "start_time": "2024-11-21T05:18:24.212Z"
   },
   {
    "duration": 178,
    "start_time": "2024-11-21T05:18:24.268Z"
   },
   {
    "duration": 6,
    "start_time": "2024-11-21T05:18:24.448Z"
   },
   {
    "duration": 3,
    "start_time": "2024-11-21T05:18:24.457Z"
   },
   {
    "duration": 3,
    "start_time": "2024-11-21T05:18:24.462Z"
   },
   {
    "duration": 44,
    "start_time": "2024-11-21T05:18:24.467Z"
   },
   {
    "duration": 75,
    "start_time": "2024-11-21T05:18:24.513Z"
   },
   {
    "duration": 34,
    "start_time": "2024-11-21T05:18:24.590Z"
   },
   {
    "duration": 138,
    "start_time": "2024-11-21T05:18:24.625Z"
   },
   {
    "duration": 29,
    "start_time": "2024-11-21T05:18:24.765Z"
   },
   {
    "duration": 45,
    "start_time": "2024-11-21T05:18:24.796Z"
   },
   {
    "duration": 5,
    "start_time": "2024-11-21T05:18:24.842Z"
   },
   {
    "duration": 4,
    "start_time": "2024-11-21T05:18:24.848Z"
   },
   {
    "duration": 40,
    "start_time": "2024-11-21T05:18:24.854Z"
   },
   {
    "duration": 279,
    "start_time": "2024-11-21T05:18:24.899Z"
   },
   {
    "duration": 25,
    "start_time": "2024-11-21T05:18:25.188Z"
   },
   {
    "duration": 209,
    "start_time": "2024-11-21T05:18:25.215Z"
   },
   {
    "duration": 25,
    "start_time": "2024-11-21T05:18:25.426Z"
   },
   {
    "duration": 330,
    "start_time": "2024-11-21T05:18:25.453Z"
   },
   {
    "duration": 21,
    "start_time": "2024-11-21T05:18:25.784Z"
   },
   {
    "duration": 18,
    "start_time": "2024-11-21T05:18:25.808Z"
   },
   {
    "duration": 83,
    "start_time": "2024-11-21T05:18:25.830Z"
   },
   {
    "duration": 28,
    "start_time": "2024-11-21T05:18:25.916Z"
   },
   {
    "duration": 325,
    "start_time": "2024-11-21T05:18:25.945Z"
   },
   {
    "duration": 26,
    "start_time": "2024-11-21T05:19:38.013Z"
   },
   {
    "duration": 19,
    "start_time": "2024-11-21T05:27:42.545Z"
   },
   {
    "duration": 54,
    "start_time": "2024-11-21T05:27:55.887Z"
   },
   {
    "duration": 4,
    "start_time": "2024-11-21T05:29:43.654Z"
   },
   {
    "duration": 50,
    "start_time": "2024-11-21T05:29:48.650Z"
   },
   {
    "duration": 74,
    "start_time": "2024-11-21T05:30:53.577Z"
   },
   {
    "duration": 4,
    "start_time": "2024-11-21T05:36:52.314Z"
   },
   {
    "duration": 4,
    "start_time": "2024-11-21T05:38:30.788Z"
   },
   {
    "duration": 264,
    "start_time": "2024-11-21T05:41:07.363Z"
   },
   {
    "duration": 205,
    "start_time": "2024-11-21T05:41:49.893Z"
   },
   {
    "duration": 218,
    "start_time": "2024-11-21T05:42:10.186Z"
   },
   {
    "duration": 197,
    "start_time": "2024-11-21T05:42:26.541Z"
   },
   {
    "duration": 223,
    "start_time": "2024-11-21T05:42:34.194Z"
   },
   {
    "duration": 4,
    "start_time": "2024-11-21T05:44:38.156Z"
   },
   {
    "duration": 5,
    "start_time": "2024-11-21T05:45:06.295Z"
   },
   {
    "duration": 190,
    "start_time": "2024-11-21T05:45:09.853Z"
   },
   {
    "duration": 195,
    "start_time": "2024-11-21T05:46:24.230Z"
   },
   {
    "duration": 5,
    "start_time": "2024-11-21T05:54:00.787Z"
   },
   {
    "duration": 60,
    "start_time": "2024-11-21T06:10:24.802Z"
   },
   {
    "duration": 15,
    "start_time": "2024-11-21T06:12:52.428Z"
   },
   {
    "duration": 110,
    "start_time": "2024-11-21T06:19:20.966Z"
   },
   {
    "duration": 4,
    "start_time": "2024-11-21T06:28:56.523Z"
   },
   {
    "duration": 2596,
    "start_time": "2024-11-21T18:39:21.546Z"
   },
   {
    "duration": 129,
    "start_time": "2024-11-21T18:39:24.144Z"
   },
   {
    "duration": 16,
    "start_time": "2024-11-21T18:39:24.275Z"
   },
   {
    "duration": 16,
    "start_time": "2024-11-21T18:39:24.293Z"
   },
   {
    "duration": 30,
    "start_time": "2024-11-21T18:39:24.311Z"
   },
   {
    "duration": 8,
    "start_time": "2024-11-21T18:39:24.343Z"
   },
   {
    "duration": 76,
    "start_time": "2024-11-21T18:39:24.354Z"
   },
   {
    "duration": 127,
    "start_time": "2024-11-21T18:39:24.432Z"
   },
   {
    "duration": 6,
    "start_time": "2024-11-21T18:39:24.561Z"
   },
   {
    "duration": 2,
    "start_time": "2024-11-21T18:39:24.570Z"
   },
   {
    "duration": 3,
    "start_time": "2024-11-21T18:39:24.574Z"
   },
   {
    "duration": 46,
    "start_time": "2024-11-21T18:39:24.579Z"
   },
   {
    "duration": 84,
    "start_time": "2024-11-21T18:39:24.627Z"
   },
   {
    "duration": 19,
    "start_time": "2024-11-21T18:39:24.712Z"
   },
   {
    "duration": 127,
    "start_time": "2024-11-21T18:39:24.733Z"
   },
   {
    "duration": 28,
    "start_time": "2024-11-21T18:39:24.862Z"
   },
   {
    "duration": 43,
    "start_time": "2024-11-21T18:39:24.891Z"
   },
   {
    "duration": 3,
    "start_time": "2024-11-21T18:39:24.936Z"
   },
   {
    "duration": 4,
    "start_time": "2024-11-21T18:39:24.941Z"
   },
   {
    "duration": 22,
    "start_time": "2024-11-21T18:39:24.947Z"
   },
   {
    "duration": 309,
    "start_time": "2024-11-21T18:39:24.971Z"
   },
   {
    "duration": 11,
    "start_time": "2024-11-21T18:39:25.282Z"
   },
   {
    "duration": 203,
    "start_time": "2024-11-21T18:39:25.294Z"
   },
   {
    "duration": 23,
    "start_time": "2024-11-21T18:39:25.499Z"
   },
   {
    "duration": 321,
    "start_time": "2024-11-21T18:39:25.524Z"
   },
   {
    "duration": 18,
    "start_time": "2024-11-21T18:39:25.847Z"
   },
   {
    "duration": 15,
    "start_time": "2024-11-21T18:39:25.867Z"
   },
   {
    "duration": 69,
    "start_time": "2024-11-21T18:39:25.886Z"
   },
   {
    "duration": 26,
    "start_time": "2024-11-21T18:39:25.957Z"
   },
   {
    "duration": 30,
    "start_time": "2024-11-21T18:39:25.986Z"
   },
   {
    "duration": 53,
    "start_time": "2024-11-21T18:39:26.018Z"
   },
   {
    "duration": 5,
    "start_time": "2024-11-21T18:39:26.073Z"
   },
   {
    "duration": 250,
    "start_time": "2024-11-21T18:39:26.079Z"
   },
   {
    "duration": 131,
    "start_time": "2024-11-21T18:39:26.331Z"
   },
   {
    "duration": 5,
    "start_time": "2024-11-21T18:39:26.464Z"
   },
   {
    "duration": 4,
    "start_time": "2024-11-21T18:41:12.349Z"
   },
   {
    "duration": 4,
    "start_time": "2024-11-21T18:42:20.231Z"
   },
   {
    "duration": 182,
    "start_time": "2024-11-21T18:58:33.576Z"
   },
   {
    "duration": 285,
    "start_time": "2024-11-21T18:58:57.559Z"
   },
   {
    "duration": 160,
    "start_time": "2024-11-21T18:59:33.563Z"
   },
   {
    "duration": 208,
    "start_time": "2024-11-21T18:59:55.003Z"
   },
   {
    "duration": 3,
    "start_time": "2024-11-21T19:06:39.326Z"
   },
   {
    "duration": 7,
    "start_time": "2024-11-21T19:06:44.608Z"
   },
   {
    "duration": 103,
    "start_time": "2024-11-21T19:07:18.563Z"
   },
   {
    "duration": 161,
    "start_time": "2024-11-21T19:07:51.361Z"
   },
   {
    "duration": 190,
    "start_time": "2024-11-21T19:08:23.926Z"
   },
   {
    "duration": 219,
    "start_time": "2024-11-21T19:09:29.997Z"
   },
   {
    "duration": 157,
    "start_time": "2024-11-21T19:09:43.786Z"
   },
   {
    "duration": 165,
    "start_time": "2024-11-21T19:09:54.178Z"
   },
   {
    "duration": 2,
    "start_time": "2024-11-21T19:12:58.191Z"
   },
   {
    "duration": 7,
    "start_time": "2024-11-21T19:13:19.079Z"
   },
   {
    "duration": 3,
    "start_time": "2024-11-21T19:28:25.577Z"
   },
   {
    "duration": 4,
    "start_time": "2024-11-21T19:29:20.749Z"
   },
   {
    "duration": 4,
    "start_time": "2024-11-21T19:30:11.058Z"
   },
   {
    "duration": 4,
    "start_time": "2024-11-21T19:30:49.231Z"
   },
   {
    "duration": 15,
    "start_time": "2024-11-21T19:51:55.377Z"
   },
   {
    "duration": 4,
    "start_time": "2024-11-21T19:58:30.314Z"
   },
   {
    "duration": 4,
    "start_time": "2024-11-21T19:58:38.003Z"
   },
   {
    "duration": 276,
    "start_time": "2024-11-21T19:59:08.665Z"
   },
   {
    "duration": 16,
    "start_time": "2024-11-21T19:59:25.867Z"
   },
   {
    "duration": 6,
    "start_time": "2024-11-21T20:00:47.195Z"
   },
   {
    "duration": 6,
    "start_time": "2024-11-21T20:00:53.678Z"
   },
   {
    "duration": 15,
    "start_time": "2024-11-21T20:03:20.697Z"
   },
   {
    "duration": 37,
    "start_time": "2024-11-21T20:03:33.384Z"
   },
   {
    "duration": 44,
    "start_time": "2024-11-21T20:10:38.043Z"
   },
   {
    "duration": 39,
    "start_time": "2024-11-21T20:11:55.363Z"
   },
   {
    "duration": 40,
    "start_time": "2024-11-21T20:12:26.353Z"
   },
   {
    "duration": 40,
    "start_time": "2024-11-21T20:12:42.032Z"
   },
   {
    "duration": 19,
    "start_time": "2024-11-21T20:20:26.191Z"
   },
   {
    "duration": 875,
    "start_time": "2024-11-21T20:20:35.222Z"
   },
   {
    "duration": 113,
    "start_time": "2024-11-21T20:20:36.099Z"
   },
   {
    "duration": 20,
    "start_time": "2024-11-21T20:20:36.213Z"
   },
   {
    "duration": 7,
    "start_time": "2024-11-21T20:20:36.236Z"
   },
   {
    "duration": 31,
    "start_time": "2024-11-21T20:20:36.245Z"
   },
   {
    "duration": 32,
    "start_time": "2024-11-21T20:20:36.278Z"
   },
   {
    "duration": 56,
    "start_time": "2024-11-21T20:20:36.312Z"
   },
   {
    "duration": 131,
    "start_time": "2024-11-21T20:20:36.370Z"
   },
   {
    "duration": 9,
    "start_time": "2024-11-21T20:20:36.503Z"
   },
   {
    "duration": 3,
    "start_time": "2024-11-21T20:20:36.515Z"
   },
   {
    "duration": 4,
    "start_time": "2024-11-21T20:20:36.519Z"
   },
   {
    "duration": 24,
    "start_time": "2024-11-21T20:20:36.525Z"
   },
   {
    "duration": 98,
    "start_time": "2024-11-21T20:20:36.552Z"
   },
   {
    "duration": 21,
    "start_time": "2024-11-21T20:20:36.652Z"
   },
   {
    "duration": 139,
    "start_time": "2024-11-21T20:20:36.675Z"
   },
   {
    "duration": 27,
    "start_time": "2024-11-21T20:20:36.815Z"
   },
   {
    "duration": 30,
    "start_time": "2024-11-21T20:20:36.844Z"
   },
   {
    "duration": 3,
    "start_time": "2024-11-21T20:20:36.876Z"
   },
   {
    "duration": 31,
    "start_time": "2024-11-21T20:20:36.881Z"
   },
   {
    "duration": 22,
    "start_time": "2024-11-21T20:20:36.913Z"
   },
   {
    "duration": 286,
    "start_time": "2024-11-21T20:20:36.936Z"
   },
   {
    "duration": 13,
    "start_time": "2024-11-21T20:20:37.225Z"
   },
   {
    "duration": 265,
    "start_time": "2024-11-21T20:20:37.239Z"
   },
   {
    "duration": 26,
    "start_time": "2024-11-21T20:20:37.509Z"
   },
   {
    "duration": 331,
    "start_time": "2024-11-21T20:20:37.537Z"
   },
   {
    "duration": 20,
    "start_time": "2024-11-21T20:20:37.869Z"
   },
   {
    "duration": 29,
    "start_time": "2024-11-21T20:20:37.891Z"
   },
   {
    "duration": 68,
    "start_time": "2024-11-21T20:20:37.924Z"
   },
   {
    "duration": 26,
    "start_time": "2024-11-21T20:20:37.993Z"
   },
   {
    "duration": 19,
    "start_time": "2024-11-21T20:20:38.021Z"
   },
   {
    "duration": 60,
    "start_time": "2024-11-21T20:20:38.041Z"
   },
   {
    "duration": 4,
    "start_time": "2024-11-21T20:20:38.108Z"
   },
   {
    "duration": 219,
    "start_time": "2024-11-21T20:20:38.114Z"
   },
   {
    "duration": 113,
    "start_time": "2024-11-21T20:20:38.335Z"
   },
   {
    "duration": 4,
    "start_time": "2024-11-21T20:20:38.449Z"
   },
   {
    "duration": 8,
    "start_time": "2024-11-21T20:20:38.454Z"
   },
   {
    "duration": 161,
    "start_time": "2024-11-21T20:20:38.465Z"
   },
   {
    "duration": 4,
    "start_time": "2024-11-21T20:20:38.628Z"
   },
   {
    "duration": 39,
    "start_time": "2024-11-21T20:20:38.633Z"
   },
   {
    "duration": 269,
    "start_time": "2024-11-21T20:20:38.674Z"
   },
   {
    "duration": 8,
    "start_time": "2024-11-21T20:23:12.628Z"
   },
   {
    "duration": 3,
    "start_time": "2024-11-21T20:25:49.603Z"
   },
   {
    "duration": 808,
    "start_time": "2024-11-21T20:25:55.489Z"
   },
   {
    "duration": 100,
    "start_time": "2024-11-21T20:25:56.300Z"
   },
   {
    "duration": 15,
    "start_time": "2024-11-21T20:25:56.402Z"
   },
   {
    "duration": 8,
    "start_time": "2024-11-21T20:25:56.419Z"
   },
   {
    "duration": 31,
    "start_time": "2024-11-21T20:25:56.430Z"
   },
   {
    "duration": 7,
    "start_time": "2024-11-21T20:25:56.463Z"
   },
   {
    "duration": 83,
    "start_time": "2024-11-21T20:25:56.471Z"
   },
   {
    "duration": 127,
    "start_time": "2024-11-21T20:25:56.556Z"
   },
   {
    "duration": 6,
    "start_time": "2024-11-21T20:25:56.684Z"
   },
   {
    "duration": 4,
    "start_time": "2024-11-21T20:25:56.692Z"
   },
   {
    "duration": 5,
    "start_time": "2024-11-21T20:25:56.708Z"
   },
   {
    "duration": 24,
    "start_time": "2024-11-21T20:25:56.715Z"
   },
   {
    "duration": 87,
    "start_time": "2024-11-21T20:25:56.741Z"
   },
   {
    "duration": 19,
    "start_time": "2024-11-21T20:25:56.832Z"
   },
   {
    "duration": 134,
    "start_time": "2024-11-21T20:25:56.853Z"
   },
   {
    "duration": 32,
    "start_time": "2024-11-21T20:25:56.989Z"
   },
   {
    "duration": 31,
    "start_time": "2024-11-21T20:25:57.023Z"
   },
   {
    "duration": 3,
    "start_time": "2024-11-21T20:25:57.055Z"
   },
   {
    "duration": 5,
    "start_time": "2024-11-21T20:25:57.060Z"
   },
   {
    "duration": 52,
    "start_time": "2024-11-21T20:25:57.067Z"
   },
   {
    "duration": 268,
    "start_time": "2024-11-21T20:25:57.122Z"
   },
   {
    "duration": 15,
    "start_time": "2024-11-21T20:25:57.412Z"
   },
   {
    "duration": 256,
    "start_time": "2024-11-21T20:25:57.428Z"
   },
   {
    "duration": 36,
    "start_time": "2024-11-21T20:25:57.686Z"
   },
   {
    "duration": 335,
    "start_time": "2024-11-21T20:25:57.725Z"
   },
   {
    "duration": 20,
    "start_time": "2024-11-21T20:25:58.062Z"
   },
   {
    "duration": 27,
    "start_time": "2024-11-21T20:25:58.083Z"
   },
   {
    "duration": 54,
    "start_time": "2024-11-21T20:25:58.111Z"
   },
   {
    "duration": 42,
    "start_time": "2024-11-21T20:25:58.168Z"
   },
   {
    "duration": 18,
    "start_time": "2024-11-21T20:25:58.212Z"
   },
   {
    "duration": 53,
    "start_time": "2024-11-21T20:25:58.232Z"
   },
   {
    "duration": 22,
    "start_time": "2024-11-21T20:25:58.287Z"
   },
   {
    "duration": 229,
    "start_time": "2024-11-21T20:25:58.311Z"
   },
   {
    "duration": 113,
    "start_time": "2024-11-21T20:25:58.542Z"
   },
   {
    "duration": 3,
    "start_time": "2024-11-21T20:25:58.657Z"
   },
   {
    "duration": 8,
    "start_time": "2024-11-21T20:25:58.661Z"
   },
   {
    "duration": 169,
    "start_time": "2024-11-21T20:25:58.670Z"
   },
   {
    "duration": 4,
    "start_time": "2024-11-21T20:25:58.841Z"
   },
   {
    "duration": 89,
    "start_time": "2024-11-21T20:25:58.847Z"
   },
   {
    "duration": 8,
    "start_time": "2024-11-21T20:25:58.938Z"
   },
   {
    "duration": 5,
    "start_time": "2024-11-21T20:28:30.313Z"
   },
   {
    "duration": 6,
    "start_time": "2024-11-21T20:28:50.409Z"
   },
   {
    "duration": 8,
    "start_time": "2024-11-21T20:30:16.874Z"
   },
   {
    "duration": 5,
    "start_time": "2024-11-21T20:31:48.161Z"
   },
   {
    "duration": 8,
    "start_time": "2024-11-21T20:31:54.561Z"
   },
   {
    "duration": 6,
    "start_time": "2024-11-21T20:35:09.032Z"
   },
   {
    "duration": 4,
    "start_time": "2024-11-21T20:36:57.138Z"
   },
   {
    "duration": 13,
    "start_time": "2024-11-21T20:37:42.751Z"
   },
   {
    "duration": 293,
    "start_time": "2024-11-21T20:42:38.090Z"
   },
   {
    "duration": 5,
    "start_time": "2024-11-21T20:42:52.810Z"
   },
   {
    "duration": 13,
    "start_time": "2024-11-21T20:45:55.379Z"
   },
   {
    "duration": 46,
    "start_time": "2024-11-21T20:47:10.047Z"
   },
   {
    "duration": 20,
    "start_time": "2024-11-21T20:48:01.865Z"
   },
   {
    "duration": 15,
    "start_time": "2024-11-21T20:48:10.819Z"
   },
   {
    "duration": 866,
    "start_time": "2024-11-21T20:48:18.537Z"
   },
   {
    "duration": 99,
    "start_time": "2024-11-21T20:48:19.405Z"
   },
   {
    "duration": 17,
    "start_time": "2024-11-21T20:48:19.507Z"
   },
   {
    "duration": 8,
    "start_time": "2024-11-21T20:48:19.527Z"
   },
   {
    "duration": 35,
    "start_time": "2024-11-21T20:48:19.536Z"
   },
   {
    "duration": 7,
    "start_time": "2024-11-21T20:48:19.572Z"
   },
   {
    "duration": 51,
    "start_time": "2024-11-21T20:48:19.609Z"
   },
   {
    "duration": 143,
    "start_time": "2024-11-21T20:48:19.662Z"
   },
   {
    "duration": 6,
    "start_time": "2024-11-21T20:48:19.807Z"
   },
   {
    "duration": 3,
    "start_time": "2024-11-21T20:48:19.817Z"
   },
   {
    "duration": 3,
    "start_time": "2024-11-21T20:48:19.823Z"
   },
   {
    "duration": 27,
    "start_time": "2024-11-21T20:48:19.828Z"
   },
   {
    "duration": 99,
    "start_time": "2024-11-21T20:48:19.857Z"
   },
   {
    "duration": 19,
    "start_time": "2024-11-21T20:48:19.958Z"
   },
   {
    "duration": 130,
    "start_time": "2024-11-21T20:48:19.979Z"
   },
   {
    "duration": 27,
    "start_time": "2024-11-21T20:48:20.111Z"
   },
   {
    "duration": 31,
    "start_time": "2024-11-21T20:48:20.140Z"
   },
   {
    "duration": 4,
    "start_time": "2024-11-21T20:48:20.172Z"
   },
   {
    "duration": 5,
    "start_time": "2024-11-21T20:48:20.177Z"
   },
   {
    "duration": 47,
    "start_time": "2024-11-21T20:48:20.183Z"
   },
   {
    "duration": 251,
    "start_time": "2024-11-21T20:48:20.232Z"
   },
   {
    "duration": 31,
    "start_time": "2024-11-21T20:48:20.485Z"
   },
   {
    "duration": 237,
    "start_time": "2024-11-21T20:48:20.518Z"
   },
   {
    "duration": 26,
    "start_time": "2024-11-21T20:48:20.756Z"
   },
   {
    "duration": 333,
    "start_time": "2024-11-21T20:48:20.783Z"
   },
   {
    "duration": 20,
    "start_time": "2024-11-21T20:48:21.118Z"
   },
   {
    "duration": 12,
    "start_time": "2024-11-21T20:48:21.140Z"
   },
   {
    "duration": 70,
    "start_time": "2024-11-21T20:48:21.157Z"
   },
   {
    "duration": 26,
    "start_time": "2024-11-21T20:48:21.229Z"
   },
   {
    "duration": 17,
    "start_time": "2024-11-21T20:48:21.257Z"
   },
   {
    "duration": 73,
    "start_time": "2024-11-21T20:48:21.276Z"
   },
   {
    "duration": 5,
    "start_time": "2024-11-21T20:48:21.350Z"
   },
   {
    "duration": 194,
    "start_time": "2024-11-21T20:48:21.358Z"
   },
   {
    "duration": 126,
    "start_time": "2024-11-21T20:48:21.553Z"
   },
   {
    "duration": 3,
    "start_time": "2024-11-21T20:48:21.681Z"
   },
   {
    "duration": 22,
    "start_time": "2024-11-21T20:48:21.687Z"
   },
   {
    "duration": 200,
    "start_time": "2024-11-21T20:48:21.711Z"
   },
   {
    "duration": 4,
    "start_time": "2024-11-21T20:48:21.913Z"
   },
   {
    "duration": 308,
    "start_time": "2024-11-21T20:48:21.919Z"
   },
   {
    "duration": 0,
    "start_time": "2024-11-21T20:48:22.229Z"
   },
   {
    "duration": 2534,
    "start_time": "2024-11-21T22:27:53.608Z"
   },
   {
    "duration": 129,
    "start_time": "2024-11-21T22:27:56.144Z"
   },
   {
    "duration": 15,
    "start_time": "2024-11-21T22:27:56.275Z"
   },
   {
    "duration": 21,
    "start_time": "2024-11-21T22:27:56.292Z"
   },
   {
    "duration": 32,
    "start_time": "2024-11-21T22:27:56.315Z"
   },
   {
    "duration": 7,
    "start_time": "2024-11-21T22:27:56.349Z"
   },
   {
    "duration": 70,
    "start_time": "2024-11-21T22:27:56.358Z"
   },
   {
    "duration": 124,
    "start_time": "2024-11-21T22:27:56.430Z"
   },
   {
    "duration": 6,
    "start_time": "2024-11-21T22:27:56.555Z"
   },
   {
    "duration": 2,
    "start_time": "2024-11-21T22:27:56.562Z"
   },
   {
    "duration": 4,
    "start_time": "2024-11-21T22:27:56.566Z"
   },
   {
    "duration": 48,
    "start_time": "2024-11-21T22:27:56.571Z"
   },
   {
    "duration": 77,
    "start_time": "2024-11-21T22:27:56.621Z"
   },
   {
    "duration": 18,
    "start_time": "2024-11-21T22:27:56.708Z"
   },
   {
    "duration": 128,
    "start_time": "2024-11-21T22:27:56.727Z"
   },
   {
    "duration": 27,
    "start_time": "2024-11-21T22:27:56.857Z"
   },
   {
    "duration": 43,
    "start_time": "2024-11-21T22:27:56.886Z"
   },
   {
    "duration": 3,
    "start_time": "2024-11-21T22:27:56.930Z"
   },
   {
    "duration": 3,
    "start_time": "2024-11-21T22:27:56.936Z"
   },
   {
    "duration": 22,
    "start_time": "2024-11-21T22:27:56.941Z"
   },
   {
    "duration": 326,
    "start_time": "2024-11-21T22:27:56.964Z"
   },
   {
    "duration": 20,
    "start_time": "2024-11-21T22:27:57.292Z"
   },
   {
    "duration": 199,
    "start_time": "2024-11-21T22:27:57.314Z"
   },
   {
    "duration": 25,
    "start_time": "2024-11-21T22:27:57.515Z"
   },
   {
    "duration": 326,
    "start_time": "2024-11-21T22:27:57.542Z"
   },
   {
    "duration": 17,
    "start_time": "2024-11-21T22:27:57.870Z"
   },
   {
    "duration": 27,
    "start_time": "2024-11-21T22:27:57.889Z"
   },
   {
    "duration": 49,
    "start_time": "2024-11-21T22:27:57.918Z"
   },
   {
    "duration": 40,
    "start_time": "2024-11-21T22:27:57.969Z"
   },
   {
    "duration": 18,
    "start_time": "2024-11-21T22:27:58.011Z"
   },
   {
    "duration": 53,
    "start_time": "2024-11-21T22:27:58.031Z"
   },
   {
    "duration": 4,
    "start_time": "2024-11-21T22:27:58.086Z"
   },
   {
    "duration": 257,
    "start_time": "2024-11-21T22:27:58.109Z"
   },
   {
    "duration": 141,
    "start_time": "2024-11-21T22:27:58.368Z"
   },
   {
    "duration": 4,
    "start_time": "2024-11-21T22:27:58.510Z"
   },
   {
    "duration": 6,
    "start_time": "2024-11-21T22:27:58.516Z"
   },
   {
    "duration": 198,
    "start_time": "2024-11-21T22:27:58.524Z"
   },
   {
    "duration": 2,
    "start_time": "2024-11-21T22:27:58.724Z"
   },
   {
    "duration": 304,
    "start_time": "2024-11-21T22:27:58.728Z"
   },
   {
    "duration": 0,
    "start_time": "2024-11-21T22:27:59.034Z"
   },
   {
    "duration": 23,
    "start_time": "2024-11-21T22:29:38.749Z"
   },
   {
    "duration": 5,
    "start_time": "2024-11-21T22:29:43.243Z"
   },
   {
    "duration": 21,
    "start_time": "2024-11-21T22:30:09.369Z"
   },
   {
    "duration": 5,
    "start_time": "2024-11-21T22:30:43.425Z"
   },
   {
    "duration": 18,
    "start_time": "2024-11-21T22:31:16.979Z"
   },
   {
    "duration": 45,
    "start_time": "2024-11-21T22:32:28.933Z"
   },
   {
    "duration": 5,
    "start_time": "2024-11-21T22:33:08.710Z"
   },
   {
    "duration": 33,
    "start_time": "2024-11-21T22:37:46.089Z"
   },
   {
    "duration": 6,
    "start_time": "2024-11-21T22:37:50.111Z"
   },
   {
    "duration": 5,
    "start_time": "2024-11-21T22:43:04.890Z"
   },
   {
    "duration": 4,
    "start_time": "2024-11-21T22:43:09.676Z"
   },
   {
    "duration": 160,
    "start_time": "2024-11-21T22:43:31.873Z"
   },
   {
    "duration": 57,
    "start_time": "2024-11-21T22:48:52.576Z"
   },
   {
    "duration": 14,
    "start_time": "2024-11-22T00:07:58.591Z"
   },
   {
    "duration": 19,
    "start_time": "2024-11-22T00:08:07.116Z"
   },
   {
    "duration": 18,
    "start_time": "2024-11-22T00:08:34.535Z"
   },
   {
    "duration": 18,
    "start_time": "2024-11-22T00:09:04.475Z"
   },
   {
    "duration": 823,
    "start_time": "2024-11-22T00:09:12.215Z"
   },
   {
    "duration": 103,
    "start_time": "2024-11-22T00:09:13.040Z"
   },
   {
    "duration": 17,
    "start_time": "2024-11-22T00:09:13.145Z"
   },
   {
    "duration": 10,
    "start_time": "2024-11-22T00:09:13.163Z"
   },
   {
    "duration": 50,
    "start_time": "2024-11-22T00:09:13.176Z"
   },
   {
    "duration": 7,
    "start_time": "2024-11-22T00:09:13.228Z"
   },
   {
    "duration": 50,
    "start_time": "2024-11-22T00:09:13.236Z"
   },
   {
    "duration": 136,
    "start_time": "2024-11-22T00:09:13.288Z"
   },
   {
    "duration": 5,
    "start_time": "2024-11-22T00:09:13.426Z"
   },
   {
    "duration": 3,
    "start_time": "2024-11-22T00:09:13.432Z"
   },
   {
    "duration": 4,
    "start_time": "2024-11-22T00:09:13.436Z"
   },
   {
    "duration": 24,
    "start_time": "2024-11-22T00:09:13.442Z"
   },
   {
    "duration": 103,
    "start_time": "2024-11-22T00:09:13.468Z"
   },
   {
    "duration": 18,
    "start_time": "2024-11-22T00:09:13.576Z"
   },
   {
    "duration": 119,
    "start_time": "2024-11-22T00:09:13.608Z"
   },
   {
    "duration": 27,
    "start_time": "2024-11-22T00:09:13.729Z"
   },
   {
    "duration": 51,
    "start_time": "2024-11-22T00:09:13.758Z"
   },
   {
    "duration": 3,
    "start_time": "2024-11-22T00:09:13.812Z"
   },
   {
    "duration": 6,
    "start_time": "2024-11-22T00:09:13.818Z"
   },
   {
    "duration": 26,
    "start_time": "2024-11-22T00:09:13.826Z"
   },
   {
    "duration": 305,
    "start_time": "2024-11-22T00:09:13.854Z"
   },
   {
    "duration": 12,
    "start_time": "2024-11-22T00:09:14.161Z"
   },
   {
    "duration": 242,
    "start_time": "2024-11-22T00:09:14.174Z"
   },
   {
    "duration": 24,
    "start_time": "2024-11-22T00:09:14.418Z"
   },
   {
    "duration": 314,
    "start_time": "2024-11-22T00:09:14.444Z"
   },
   {
    "duration": 25,
    "start_time": "2024-11-22T00:09:14.761Z"
   },
   {
    "duration": 34,
    "start_time": "2024-11-22T00:09:14.787Z"
   },
   {
    "duration": 52,
    "start_time": "2024-11-22T00:09:14.822Z"
   },
   {
    "duration": 44,
    "start_time": "2024-11-22T00:09:14.876Z"
   },
   {
    "duration": 17,
    "start_time": "2024-11-22T00:09:14.922Z"
   },
   {
    "duration": 50,
    "start_time": "2024-11-22T00:09:14.941Z"
   },
   {
    "duration": 5,
    "start_time": "2024-11-22T00:09:15.009Z"
   },
   {
    "duration": 226,
    "start_time": "2024-11-22T00:09:15.016Z"
   },
   {
    "duration": 112,
    "start_time": "2024-11-22T00:09:15.244Z"
   },
   {
    "duration": 3,
    "start_time": "2024-11-22T00:09:15.358Z"
   },
   {
    "duration": 8,
    "start_time": "2024-11-22T00:09:15.363Z"
   },
   {
    "duration": 169,
    "start_time": "2024-11-22T00:09:15.372Z"
   },
   {
    "duration": 2,
    "start_time": "2024-11-22T00:09:15.543Z"
   },
   {
    "duration": 94,
    "start_time": "2024-11-22T00:09:15.547Z"
   },
   {
    "duration": 52,
    "start_time": "2024-11-22T00:09:15.643Z"
   },
   {
    "duration": 19,
    "start_time": "2024-11-22T00:09:15.712Z"
   },
   {
    "duration": 3,
    "start_time": "2024-11-22T00:09:15.733Z"
   },
   {
    "duration": 41,
    "start_time": "2024-11-22T00:09:15.738Z"
   },
   {
    "duration": 17,
    "start_time": "2024-11-22T00:09:48.432Z"
   },
   {
    "duration": 2,
    "start_time": "2024-11-22T00:10:18.679Z"
   },
   {
    "duration": 619,
    "start_time": "2024-11-22T00:14:22.373Z"
   },
   {
    "duration": 22,
    "start_time": "2024-11-22T00:14:49.042Z"
   },
   {
    "duration": 24,
    "start_time": "2024-11-22T00:15:07.199Z"
   },
   {
    "duration": 16,
    "start_time": "2024-11-22T00:18:26.660Z"
   },
   {
    "duration": 19,
    "start_time": "2024-11-22T00:18:32.273Z"
   },
   {
    "duration": 33,
    "start_time": "2024-11-22T00:19:22.100Z"
   },
   {
    "duration": 45,
    "start_time": "2024-11-22T00:20:02.276Z"
   },
   {
    "duration": 878,
    "start_time": "2024-11-22T03:31:23.607Z"
   },
   {
    "duration": 109,
    "start_time": "2024-11-22T03:31:24.488Z"
   },
   {
    "duration": 20,
    "start_time": "2024-11-22T03:31:24.599Z"
   },
   {
    "duration": 8,
    "start_time": "2024-11-22T03:31:24.621Z"
   },
   {
    "duration": 30,
    "start_time": "2024-11-22T03:31:24.632Z"
   },
   {
    "duration": 7,
    "start_time": "2024-11-22T03:31:24.664Z"
   },
   {
    "duration": 76,
    "start_time": "2024-11-22T03:31:24.673Z"
   },
   {
    "duration": 125,
    "start_time": "2024-11-22T03:31:24.751Z"
   },
   {
    "duration": 5,
    "start_time": "2024-11-22T03:31:24.879Z"
   },
   {
    "duration": 3,
    "start_time": "2024-11-22T03:31:24.885Z"
   },
   {
    "duration": 4,
    "start_time": "2024-11-22T03:31:24.909Z"
   },
   {
    "duration": 24,
    "start_time": "2024-11-22T03:31:24.915Z"
   },
   {
    "duration": 92,
    "start_time": "2024-11-22T03:31:24.941Z"
   },
   {
    "duration": 18,
    "start_time": "2024-11-22T03:31:25.037Z"
   },
   {
    "duration": 136,
    "start_time": "2024-11-22T03:31:25.056Z"
   },
   {
    "duration": 32,
    "start_time": "2024-11-22T03:31:25.194Z"
   },
   {
    "duration": 32,
    "start_time": "2024-11-22T03:31:25.228Z"
   },
   {
    "duration": 3,
    "start_time": "2024-11-22T03:31:25.262Z"
   },
   {
    "duration": 5,
    "start_time": "2024-11-22T03:31:25.266Z"
   },
   {
    "duration": 51,
    "start_time": "2024-11-22T03:31:25.273Z"
   },
   {
    "duration": 264,
    "start_time": "2024-11-22T03:31:25.325Z"
   },
   {
    "duration": 27,
    "start_time": "2024-11-22T03:31:25.591Z"
   },
   {
    "duration": 248,
    "start_time": "2024-11-22T03:31:25.620Z"
   },
   {
    "duration": 25,
    "start_time": "2024-11-22T03:31:25.870Z"
   },
   {
    "duration": 339,
    "start_time": "2024-11-22T03:31:25.909Z"
   },
   {
    "duration": 21,
    "start_time": "2024-11-22T03:31:26.250Z"
   },
   {
    "duration": 13,
    "start_time": "2024-11-22T03:31:26.273Z"
   },
   {
    "duration": 73,
    "start_time": "2024-11-22T03:31:26.288Z"
   },
   {
    "duration": 29,
    "start_time": "2024-11-22T03:31:26.363Z"
   },
   {
    "duration": 31,
    "start_time": "2024-11-22T03:31:26.394Z"
   },
   {
    "duration": 57,
    "start_time": "2024-11-22T03:31:26.427Z"
   },
   {
    "duration": 24,
    "start_time": "2024-11-22T03:31:26.485Z"
   },
   {
    "duration": 261,
    "start_time": "2024-11-22T03:31:26.512Z"
   },
   {
    "duration": 183,
    "start_time": "2024-11-22T03:31:26.775Z"
   },
   {
    "duration": 4,
    "start_time": "2024-11-22T03:31:26.960Z"
   },
   {
    "duration": 8,
    "start_time": "2024-11-22T03:31:26.969Z"
   },
   {
    "duration": 249,
    "start_time": "2024-11-22T03:31:26.978Z"
   },
   {
    "duration": 3,
    "start_time": "2024-11-22T03:31:27.229Z"
   },
   {
    "duration": 45,
    "start_time": "2024-11-22T03:31:27.235Z"
   },
   {
    "duration": 59,
    "start_time": "2024-11-22T03:31:27.282Z"
   },
   {
    "duration": 69,
    "start_time": "2024-11-22T03:31:27.346Z"
   },
   {
    "duration": 216,
    "start_time": "2024-11-22T03:32:05.973Z"
   },
   {
    "duration": 19,
    "start_time": "2024-11-22T03:32:21.543Z"
   },
   {
    "duration": 6,
    "start_time": "2024-11-22T03:35:13.283Z"
   },
   {
    "duration": 439,
    "start_time": "2024-11-22T03:44:23.214Z"
   },
   {
    "duration": 71,
    "start_time": "2024-11-22T03:46:04.550Z"
   },
   {
    "duration": 838,
    "start_time": "2024-11-22T03:47:18.659Z"
   },
   {
    "duration": 117,
    "start_time": "2024-11-22T03:47:19.500Z"
   },
   {
    "duration": 16,
    "start_time": "2024-11-22T03:47:19.618Z"
   },
   {
    "duration": 9,
    "start_time": "2024-11-22T03:47:19.635Z"
   },
   {
    "duration": 30,
    "start_time": "2024-11-22T03:47:19.646Z"
   },
   {
    "duration": 31,
    "start_time": "2024-11-22T03:47:19.678Z"
   },
   {
    "duration": 54,
    "start_time": "2024-11-22T03:47:19.710Z"
   },
   {
    "duration": 132,
    "start_time": "2024-11-22T03:47:19.768Z"
   },
   {
    "duration": 10,
    "start_time": "2024-11-22T03:47:19.902Z"
   },
   {
    "duration": 2,
    "start_time": "2024-11-22T03:47:19.914Z"
   },
   {
    "duration": 4,
    "start_time": "2024-11-22T03:47:19.917Z"
   },
   {
    "duration": 26,
    "start_time": "2024-11-22T03:47:19.923Z"
   },
   {
    "duration": 101,
    "start_time": "2024-11-22T03:47:19.951Z"
   },
   {
    "duration": 18,
    "start_time": "2024-11-22T03:47:20.056Z"
   },
   {
    "duration": 134,
    "start_time": "2024-11-22T03:47:20.076Z"
   },
   {
    "duration": 27,
    "start_time": "2024-11-22T03:47:20.212Z"
   },
   {
    "duration": 30,
    "start_time": "2024-11-22T03:47:20.241Z"
   },
   {
    "duration": 3,
    "start_time": "2024-11-22T03:47:20.273Z"
   },
   {
    "duration": 5,
    "start_time": "2024-11-22T03:47:20.278Z"
   },
   {
    "duration": 24,
    "start_time": "2024-11-22T03:47:20.308Z"
   },
   {
    "duration": 297,
    "start_time": "2024-11-22T03:47:20.334Z"
   },
   {
    "duration": 12,
    "start_time": "2024-11-22T03:47:20.633Z"
   },
   {
    "duration": 244,
    "start_time": "2024-11-22T03:47:20.646Z"
   },
   {
    "duration": 33,
    "start_time": "2024-11-22T03:47:20.892Z"
   },
   {
    "duration": 328,
    "start_time": "2024-11-22T03:47:20.926Z"
   },
   {
    "duration": 21,
    "start_time": "2024-11-22T03:47:21.256Z"
   },
   {
    "duration": 13,
    "start_time": "2024-11-22T03:47:21.278Z"
   },
   {
    "duration": 64,
    "start_time": "2024-11-22T03:47:21.293Z"
   },
   {
    "duration": 30,
    "start_time": "2024-11-22T03:47:21.359Z"
   },
   {
    "duration": 35,
    "start_time": "2024-11-22T03:47:21.391Z"
   },
   {
    "duration": 52,
    "start_time": "2024-11-22T03:47:21.428Z"
   },
   {
    "duration": 5,
    "start_time": "2024-11-22T03:47:21.482Z"
   },
   {
    "duration": 256,
    "start_time": "2024-11-22T03:47:21.490Z"
   },
   {
    "duration": 129,
    "start_time": "2024-11-22T03:47:21.747Z"
   },
   {
    "duration": 4,
    "start_time": "2024-11-22T03:47:21.879Z"
   },
   {
    "duration": 7,
    "start_time": "2024-11-22T03:47:21.884Z"
   },
   {
    "duration": 222,
    "start_time": "2024-11-22T03:47:21.893Z"
   },
   {
    "duration": 4,
    "start_time": "2024-11-22T03:47:22.117Z"
   },
   {
    "duration": 39,
    "start_time": "2024-11-22T03:47:22.123Z"
   },
   {
    "duration": 59,
    "start_time": "2024-11-22T03:47:22.165Z"
   },
   {
    "duration": 18,
    "start_time": "2024-11-22T03:47:22.229Z"
   },
   {
    "duration": 248,
    "start_time": "2024-11-22T03:47:22.249Z"
   },
   {
    "duration": 31,
    "start_time": "2024-11-22T03:48:07.436Z"
   },
   {
    "duration": 7,
    "start_time": "2024-11-22T03:49:40.756Z"
   },
   {
    "duration": 167,
    "start_time": "2024-11-22T04:02:51.156Z"
   },
   {
    "duration": 13,
    "start_time": "2024-11-22T04:02:59.704Z"
   },
   {
    "duration": 14,
    "start_time": "2024-11-22T04:03:01.541Z"
   },
   {
    "duration": 870,
    "start_time": "2024-11-22T04:03:09.323Z"
   },
   {
    "duration": 104,
    "start_time": "2024-11-22T04:03:10.195Z"
   },
   {
    "duration": 17,
    "start_time": "2024-11-22T04:03:10.300Z"
   },
   {
    "duration": 9,
    "start_time": "2024-11-22T04:03:10.320Z"
   },
   {
    "duration": 34,
    "start_time": "2024-11-22T04:03:10.331Z"
   },
   {
    "duration": 7,
    "start_time": "2024-11-22T04:03:10.367Z"
   },
   {
    "duration": 77,
    "start_time": "2024-11-22T04:03:10.376Z"
   },
   {
    "duration": 130,
    "start_time": "2024-11-22T04:03:10.454Z"
   },
   {
    "duration": 5,
    "start_time": "2024-11-22T04:03:10.585Z"
   },
   {
    "duration": 16,
    "start_time": "2024-11-22T04:03:10.593Z"
   },
   {
    "duration": 3,
    "start_time": "2024-11-22T04:03:10.611Z"
   },
   {
    "duration": 24,
    "start_time": "2024-11-22T04:03:10.616Z"
   },
   {
    "duration": 90,
    "start_time": "2024-11-22T04:03:10.642Z"
   },
   {
    "duration": 19,
    "start_time": "2024-11-22T04:03:10.734Z"
   },
   {
    "duration": 127,
    "start_time": "2024-11-22T04:03:10.754Z"
   },
   {
    "duration": 35,
    "start_time": "2024-11-22T04:03:10.883Z"
   },
   {
    "duration": 31,
    "start_time": "2024-11-22T04:03:10.920Z"
   },
   {
    "duration": 3,
    "start_time": "2024-11-22T04:03:10.953Z"
   },
   {
    "duration": 4,
    "start_time": "2024-11-22T04:03:10.958Z"
   },
   {
    "duration": 47,
    "start_time": "2024-11-22T04:03:10.964Z"
   },
   {
    "duration": 268,
    "start_time": "2024-11-22T04:03:11.012Z"
   },
   {
    "duration": 11,
    "start_time": "2024-11-22T04:03:11.281Z"
   },
   {
    "duration": 261,
    "start_time": "2024-11-22T04:03:11.294Z"
   },
   {
    "duration": 25,
    "start_time": "2024-11-22T04:03:11.558Z"
   },
   {
    "duration": 320,
    "start_time": "2024-11-22T04:03:11.585Z"
   },
   {
    "duration": 22,
    "start_time": "2024-11-22T04:03:11.906Z"
   },
   {
    "duration": 13,
    "start_time": "2024-11-22T04:03:11.929Z"
   },
   {
    "duration": 70,
    "start_time": "2024-11-22T04:03:11.947Z"
   },
   {
    "duration": 26,
    "start_time": "2024-11-22T04:03:12.019Z"
   },
   {
    "duration": 17,
    "start_time": "2024-11-22T04:03:12.047Z"
   },
   {
    "duration": 69,
    "start_time": "2024-11-22T04:03:12.065Z"
   },
   {
    "duration": 5,
    "start_time": "2024-11-22T04:03:12.136Z"
   },
   {
    "duration": 211,
    "start_time": "2024-11-22T04:03:12.144Z"
   },
   {
    "duration": 128,
    "start_time": "2024-11-22T04:03:12.358Z"
   },
   {
    "duration": 4,
    "start_time": "2024-11-22T04:03:12.488Z"
   },
   {
    "duration": 16,
    "start_time": "2024-11-22T04:03:12.493Z"
   },
   {
    "duration": 206,
    "start_time": "2024-11-22T04:03:12.510Z"
   },
   {
    "duration": 3,
    "start_time": "2024-11-22T04:03:12.718Z"
   },
   {
    "duration": 39,
    "start_time": "2024-11-22T04:03:12.723Z"
   },
   {
    "duration": 53,
    "start_time": "2024-11-22T04:03:12.764Z"
   },
   {
    "duration": 17,
    "start_time": "2024-11-22T04:03:12.819Z"
   },
   {
    "duration": 24,
    "start_time": "2024-11-22T04:03:12.838Z"
   },
   {
    "duration": 3,
    "start_time": "2024-11-22T04:03:12.864Z"
   },
   {
    "duration": 4,
    "start_time": "2024-11-22T04:03:12.869Z"
   },
   {
    "duration": 32,
    "start_time": "2024-11-22T04:03:47.904Z"
   },
   {
    "duration": 32,
    "start_time": "2024-11-22T04:03:54.256Z"
   },
   {
    "duration": 33,
    "start_time": "2024-11-22T04:05:44.464Z"
   },
   {
    "duration": 4,
    "start_time": "2024-11-22T04:06:07.947Z"
   },
   {
    "duration": 4,
    "start_time": "2024-11-22T04:06:51.987Z"
   },
   {
    "duration": 42,
    "start_time": "2024-11-22T04:11:39.600Z"
   },
   {
    "duration": 821,
    "start_time": "2024-11-22T04:11:46.390Z"
   },
   {
    "duration": 134,
    "start_time": "2024-11-22T04:11:47.214Z"
   },
   {
    "duration": 19,
    "start_time": "2024-11-22T04:11:47.350Z"
   },
   {
    "duration": 8,
    "start_time": "2024-11-22T04:11:47.372Z"
   },
   {
    "duration": 50,
    "start_time": "2024-11-22T04:11:47.383Z"
   },
   {
    "duration": 6,
    "start_time": "2024-11-22T04:11:47.435Z"
   },
   {
    "duration": 66,
    "start_time": "2024-11-22T04:11:47.443Z"
   },
   {
    "duration": 141,
    "start_time": "2024-11-22T04:11:47.512Z"
   },
   {
    "duration": 5,
    "start_time": "2024-11-22T04:11:47.654Z"
   },
   {
    "duration": 2,
    "start_time": "2024-11-22T04:11:47.661Z"
   },
   {
    "duration": 3,
    "start_time": "2024-11-22T04:11:47.665Z"
   },
   {
    "duration": 50,
    "start_time": "2024-11-22T04:11:47.670Z"
   },
   {
    "duration": 77,
    "start_time": "2024-11-22T04:11:47.723Z"
   },
   {
    "duration": 20,
    "start_time": "2024-11-22T04:11:47.812Z"
   },
   {
    "duration": 132,
    "start_time": "2024-11-22T04:11:47.833Z"
   },
   {
    "duration": 26,
    "start_time": "2024-11-22T04:11:47.967Z"
   },
   {
    "duration": 39,
    "start_time": "2024-11-22T04:11:47.996Z"
   },
   {
    "duration": 3,
    "start_time": "2024-11-22T04:11:48.037Z"
   },
   {
    "duration": 4,
    "start_time": "2024-11-22T04:11:48.042Z"
   },
   {
    "duration": 23,
    "start_time": "2024-11-22T04:11:48.047Z"
   },
   {
    "duration": 295,
    "start_time": "2024-11-22T04:11:48.072Z"
   },
   {
    "duration": 11,
    "start_time": "2024-11-22T04:11:48.373Z"
   },
   {
    "duration": 237,
    "start_time": "2024-11-22T04:11:48.386Z"
   },
   {
    "duration": 26,
    "start_time": "2024-11-22T04:11:48.624Z"
   },
   {
    "duration": 302,
    "start_time": "2024-11-22T04:11:48.651Z"
   },
   {
    "duration": 19,
    "start_time": "2024-11-22T04:11:48.955Z"
   },
   {
    "duration": 13,
    "start_time": "2024-11-22T04:11:48.976Z"
   },
   {
    "duration": 63,
    "start_time": "2024-11-22T04:11:48.990Z"
   },
   {
    "duration": 26,
    "start_time": "2024-11-22T04:11:49.055Z"
   },
   {
    "duration": 35,
    "start_time": "2024-11-22T04:11:49.082Z"
   },
   {
    "duration": 52,
    "start_time": "2024-11-22T04:11:49.119Z"
   },
   {
    "duration": 5,
    "start_time": "2024-11-22T04:11:49.173Z"
   },
   {
    "duration": 254,
    "start_time": "2024-11-22T04:11:49.179Z"
   },
   {
    "duration": 111,
    "start_time": "2024-11-22T04:11:49.434Z"
   },
   {
    "duration": 3,
    "start_time": "2024-11-22T04:11:49.547Z"
   },
   {
    "duration": 7,
    "start_time": "2024-11-22T04:11:49.552Z"
   },
   {
    "duration": 176,
    "start_time": "2024-11-22T04:11:49.560Z"
   },
   {
    "duration": 3,
    "start_time": "2024-11-22T04:11:49.738Z"
   },
   {
    "duration": 80,
    "start_time": "2024-11-22T04:11:49.743Z"
   },
   {
    "duration": 32,
    "start_time": "2024-11-22T04:11:49.825Z"
   },
   {
    "duration": 17,
    "start_time": "2024-11-22T04:11:49.861Z"
   },
   {
    "duration": 46,
    "start_time": "2024-11-22T04:11:49.880Z"
   },
   {
    "duration": 1030,
    "start_time": "2024-11-22T04:11:49.927Z"
   },
   {
    "duration": 0,
    "start_time": "2024-11-22T04:11:50.959Z"
   },
   {
    "duration": 4,
    "start_time": "2024-11-22T04:12:34.526Z"
   },
   {
    "duration": 864,
    "start_time": "2024-11-22T05:18:36.669Z"
   },
   {
    "duration": 110,
    "start_time": "2024-11-22T05:18:37.536Z"
   },
   {
    "duration": 16,
    "start_time": "2024-11-22T05:18:37.648Z"
   },
   {
    "duration": 9,
    "start_time": "2024-11-22T05:18:37.668Z"
   },
   {
    "duration": 60,
    "start_time": "2024-11-22T05:18:37.680Z"
   },
   {
    "duration": 8,
    "start_time": "2024-11-22T05:18:37.742Z"
   },
   {
    "duration": 75,
    "start_time": "2024-11-22T05:18:37.752Z"
   },
   {
    "duration": 132,
    "start_time": "2024-11-22T05:18:37.829Z"
   },
   {
    "duration": 7,
    "start_time": "2024-11-22T05:18:37.963Z"
   },
   {
    "duration": 2,
    "start_time": "2024-11-22T05:18:37.974Z"
   },
   {
    "duration": 4,
    "start_time": "2024-11-22T05:18:37.978Z"
   },
   {
    "duration": 53,
    "start_time": "2024-11-22T05:18:37.983Z"
   },
   {
    "duration": 100,
    "start_time": "2024-11-22T05:18:38.038Z"
   },
   {
    "duration": 29,
    "start_time": "2024-11-22T05:18:38.139Z"
   },
   {
    "duration": 139,
    "start_time": "2024-11-22T05:18:38.170Z"
   },
   {
    "duration": 39,
    "start_time": "2024-11-22T05:18:38.311Z"
   },
   {
    "duration": 62,
    "start_time": "2024-11-22T05:18:38.352Z"
   },
   {
    "duration": 4,
    "start_time": "2024-11-22T05:18:38.416Z"
   },
   {
    "duration": 5,
    "start_time": "2024-11-22T05:18:38.422Z"
   },
   {
    "duration": 24,
    "start_time": "2024-11-22T05:18:38.429Z"
   },
   {
    "duration": 316,
    "start_time": "2024-11-22T05:18:38.455Z"
   },
   {
    "duration": 12,
    "start_time": "2024-11-22T05:18:38.773Z"
   },
   {
    "duration": 293,
    "start_time": "2024-11-22T05:18:38.787Z"
   },
   {
    "duration": 30,
    "start_time": "2024-11-22T05:18:39.082Z"
   },
   {
    "duration": 383,
    "start_time": "2024-11-22T05:18:39.115Z"
   },
   {
    "duration": 30,
    "start_time": "2024-11-22T05:18:39.500Z"
   },
   {
    "duration": 18,
    "start_time": "2024-11-22T05:18:39.532Z"
   },
   {
    "duration": 95,
    "start_time": "2024-11-22T05:18:39.556Z"
   },
   {
    "duration": 40,
    "start_time": "2024-11-22T05:18:39.653Z"
   },
   {
    "duration": 34,
    "start_time": "2024-11-22T05:18:39.695Z"
   },
   {
    "duration": 96,
    "start_time": "2024-11-22T05:18:39.731Z"
   },
   {
    "duration": 5,
    "start_time": "2024-11-22T05:18:39.829Z"
   },
   {
    "duration": 216,
    "start_time": "2024-11-22T05:18:39.836Z"
   },
   {
    "duration": 157,
    "start_time": "2024-11-22T05:18:40.055Z"
   },
   {
    "duration": 4,
    "start_time": "2024-11-22T05:18:40.214Z"
   },
   {
    "duration": 9,
    "start_time": "2024-11-22T05:18:40.220Z"
   },
   {
    "duration": 200,
    "start_time": "2024-11-22T05:18:40.231Z"
   },
   {
    "duration": 4,
    "start_time": "2024-11-22T05:18:40.433Z"
   },
   {
    "duration": 73,
    "start_time": "2024-11-22T05:18:40.439Z"
   },
   {
    "duration": 35,
    "start_time": "2024-11-22T05:18:40.514Z"
   },
   {
    "duration": 18,
    "start_time": "2024-11-22T05:18:40.551Z"
   },
   {
    "duration": 55,
    "start_time": "2024-11-22T05:18:40.571Z"
   },
   {
    "duration": 6,
    "start_time": "2024-11-22T05:18:40.628Z"
   },
   {
    "duration": 4,
    "start_time": "2024-11-22T05:18:40.636Z"
   },
   {
    "duration": 38,
    "start_time": "2024-11-22T05:29:57.637Z"
   },
   {
    "duration": 40,
    "start_time": "2024-11-22T05:30:52.605Z"
   },
   {
    "duration": 219,
    "start_time": "2024-11-22T05:35:23.335Z"
   },
   {
    "duration": 4,
    "start_time": "2024-11-22T05:37:01.405Z"
   },
   {
    "duration": 14,
    "start_time": "2024-11-22T05:43:49.730Z"
   },
   {
    "duration": 76,
    "start_time": "2024-11-22T05:49:23.848Z"
   },
   {
    "duration": 72,
    "start_time": "2024-11-22T05:50:27.701Z"
   },
   {
    "duration": 60,
    "start_time": "2024-11-22T05:51:59.111Z"
   },
   {
    "duration": 62,
    "start_time": "2024-11-22T05:54:00.118Z"
   },
   {
    "duration": 62,
    "start_time": "2024-11-22T05:54:30.577Z"
   },
   {
    "duration": 66,
    "start_time": "2024-11-22T05:54:37.618Z"
   },
   {
    "duration": 65,
    "start_time": "2024-11-22T05:56:46.321Z"
   },
   {
    "duration": 5,
    "start_time": "2024-11-22T05:59:38.601Z"
   },
   {
    "duration": 10,
    "start_time": "2024-11-22T05:59:44.565Z"
   },
   {
    "duration": 10,
    "start_time": "2024-11-22T06:06:04.696Z"
   },
   {
    "duration": 11,
    "start_time": "2024-11-22T06:11:20.017Z"
   },
   {
    "duration": 7,
    "start_time": "2024-11-22T06:12:29.893Z"
   },
   {
    "duration": 866,
    "start_time": "2024-11-22T06:14:46.062Z"
   },
   {
    "duration": 61,
    "start_time": "2024-11-22T06:15:30.845Z"
   },
   {
    "duration": 11,
    "start_time": "2024-11-22T06:15:33.175Z"
   },
   {
    "duration": 5,
    "start_time": "2024-11-22T06:15:37.799Z"
   },
   {
    "duration": 4,
    "start_time": "2024-11-22T06:16:34.257Z"
   },
   {
    "duration": 5,
    "start_time": "2024-11-22T06:16:49.526Z"
   },
   {
    "duration": 60,
    "start_time": "2024-11-22T06:19:26.349Z"
   },
   {
    "duration": 59,
    "start_time": "2024-11-22T06:19:31.686Z"
   },
   {
    "duration": 5,
    "start_time": "2024-11-22T06:24:38.638Z"
   },
   {
    "duration": 4,
    "start_time": "2024-11-22T06:26:21.945Z"
   },
   {
    "duration": 5,
    "start_time": "2024-11-22T06:28:40.833Z"
   },
   {
    "duration": 5,
    "start_time": "2024-11-22T06:29:50.978Z"
   },
   {
    "duration": 5,
    "start_time": "2024-11-22T06:29:54.434Z"
   },
   {
    "duration": 807,
    "start_time": "2024-11-22T06:34:54.381Z"
   },
   {
    "duration": 104,
    "start_time": "2024-11-22T06:34:55.190Z"
   },
   {
    "duration": 23,
    "start_time": "2024-11-22T06:34:55.299Z"
   },
   {
    "duration": 8,
    "start_time": "2024-11-22T06:34:55.324Z"
   },
   {
    "duration": 34,
    "start_time": "2024-11-22T06:34:55.334Z"
   },
   {
    "duration": 7,
    "start_time": "2024-11-22T06:34:55.369Z"
   },
   {
    "duration": 71,
    "start_time": "2024-11-22T06:34:55.377Z"
   },
   {
    "duration": 127,
    "start_time": "2024-11-22T06:34:55.450Z"
   },
   {
    "duration": 5,
    "start_time": "2024-11-22T06:34:55.580Z"
   },
   {
    "duration": 2,
    "start_time": "2024-11-22T06:34:55.587Z"
   },
   {
    "duration": 19,
    "start_time": "2024-11-22T06:34:55.591Z"
   },
   {
    "duration": 27,
    "start_time": "2024-11-22T06:34:55.611Z"
   },
   {
    "duration": 87,
    "start_time": "2024-11-22T06:34:55.641Z"
   },
   {
    "duration": 19,
    "start_time": "2024-11-22T06:34:55.729Z"
   },
   {
    "duration": 131,
    "start_time": "2024-11-22T06:34:55.749Z"
   },
   {
    "duration": 35,
    "start_time": "2024-11-22T06:34:55.882Z"
   },
   {
    "duration": 31,
    "start_time": "2024-11-22T06:34:55.919Z"
   },
   {
    "duration": 3,
    "start_time": "2024-11-22T06:34:55.951Z"
   },
   {
    "duration": 4,
    "start_time": "2024-11-22T06:34:55.956Z"
   },
   {
    "duration": 23,
    "start_time": "2024-11-22T06:34:55.962Z"
   },
   {
    "duration": 261,
    "start_time": "2024-11-22T06:34:56.009Z"
   },
   {
    "duration": 12,
    "start_time": "2024-11-22T06:34:56.272Z"
   },
   {
    "duration": 252,
    "start_time": "2024-11-22T06:34:56.285Z"
   },
   {
    "duration": 23,
    "start_time": "2024-11-22T06:34:56.540Z"
   },
   {
    "duration": 300,
    "start_time": "2024-11-22T06:34:56.565Z"
   },
   {
    "duration": 19,
    "start_time": "2024-11-22T06:34:56.867Z"
   },
   {
    "duration": 25,
    "start_time": "2024-11-22T06:34:56.890Z"
   },
   {
    "duration": 50,
    "start_time": "2024-11-22T06:34:56.916Z"
   },
   {
    "duration": 42,
    "start_time": "2024-11-22T06:34:56.968Z"
   },
   {
    "duration": 18,
    "start_time": "2024-11-22T06:34:57.011Z"
   },
   {
    "duration": 54,
    "start_time": "2024-11-22T06:34:57.031Z"
   },
   {
    "duration": 5,
    "start_time": "2024-11-22T06:34:57.086Z"
   },
   {
    "duration": 255,
    "start_time": "2024-11-22T06:34:57.092Z"
   },
   {
    "duration": 121,
    "start_time": "2024-11-22T06:34:57.350Z"
   },
   {
    "duration": 3,
    "start_time": "2024-11-22T06:34:57.473Z"
   },
   {
    "duration": 6,
    "start_time": "2024-11-22T06:34:57.478Z"
   },
   {
    "duration": 226,
    "start_time": "2024-11-22T06:34:57.486Z"
   },
   {
    "duration": 3,
    "start_time": "2024-11-22T06:34:57.714Z"
   },
   {
    "duration": 38,
    "start_time": "2024-11-22T06:34:57.719Z"
   },
   {
    "duration": 50,
    "start_time": "2024-11-22T06:34:57.759Z"
   },
   {
    "duration": 18,
    "start_time": "2024-11-22T06:34:57.811Z"
   },
   {
    "duration": 63,
    "start_time": "2024-11-22T06:34:57.831Z"
   },
   {
    "duration": 23,
    "start_time": "2024-11-22T06:34:57.895Z"
   },
   {
    "duration": 5,
    "start_time": "2024-11-22T06:34:57.919Z"
   },
   {
    "duration": 4,
    "start_time": "2024-11-22T06:34:57.926Z"
   },
   {
    "duration": 2537,
    "start_time": "2024-11-22T16:24:46.255Z"
   },
   {
    "duration": 129,
    "start_time": "2024-11-22T16:24:48.794Z"
   },
   {
    "duration": 16,
    "start_time": "2024-11-22T16:24:48.925Z"
   },
   {
    "duration": 8,
    "start_time": "2024-11-22T16:24:48.943Z"
   },
   {
    "duration": 36,
    "start_time": "2024-11-22T16:24:48.953Z"
   },
   {
    "duration": 7,
    "start_time": "2024-11-22T16:24:49.012Z"
   },
   {
    "duration": 50,
    "start_time": "2024-11-22T16:24:49.020Z"
   },
   {
    "duration": 131,
    "start_time": "2024-11-22T16:24:49.073Z"
   },
   {
    "duration": 5,
    "start_time": "2024-11-22T16:24:49.212Z"
   },
   {
    "duration": 2,
    "start_time": "2024-11-22T16:24:49.221Z"
   },
   {
    "duration": 4,
    "start_time": "2024-11-22T16:24:49.224Z"
   },
   {
    "duration": 24,
    "start_time": "2024-11-22T16:24:49.230Z"
   },
   {
    "duration": 100,
    "start_time": "2024-11-22T16:24:49.255Z"
   },
   {
    "duration": 19,
    "start_time": "2024-11-22T16:24:49.356Z"
   },
   {
    "duration": 125,
    "start_time": "2024-11-22T16:24:49.377Z"
   },
   {
    "duration": 31,
    "start_time": "2024-11-22T16:24:49.504Z"
   },
   {
    "duration": 31,
    "start_time": "2024-11-22T16:24:49.537Z"
   },
   {
    "duration": 4,
    "start_time": "2024-11-22T16:24:49.570Z"
   },
   {
    "duration": 4,
    "start_time": "2024-11-22T16:24:49.576Z"
   },
   {
    "duration": 47,
    "start_time": "2024-11-22T16:24:49.582Z"
   },
   {
    "duration": 261,
    "start_time": "2024-11-22T16:24:49.630Z"
   },
   {
    "duration": 24,
    "start_time": "2024-11-22T16:24:49.893Z"
   },
   {
    "duration": 203,
    "start_time": "2024-11-22T16:24:49.918Z"
   },
   {
    "duration": 23,
    "start_time": "2024-11-22T16:24:50.123Z"
   },
   {
    "duration": 318,
    "start_time": "2024-11-22T16:24:50.148Z"
   },
   {
    "duration": 18,
    "start_time": "2024-11-22T16:24:50.468Z"
   },
   {
    "duration": 25,
    "start_time": "2024-11-22T16:24:50.488Z"
   },
   {
    "duration": 47,
    "start_time": "2024-11-22T16:24:50.517Z"
   },
   {
    "duration": 26,
    "start_time": "2024-11-22T16:24:50.566Z"
   },
   {
    "duration": 34,
    "start_time": "2024-11-22T16:24:50.594Z"
   },
   {
    "duration": 51,
    "start_time": "2024-11-22T16:24:50.629Z"
   },
   {
    "duration": 5,
    "start_time": "2024-11-22T16:24:50.681Z"
   },
   {
    "duration": 256,
    "start_time": "2024-11-22T16:24:50.687Z"
   },
   {
    "duration": 109,
    "start_time": "2024-11-22T16:24:50.945Z"
   },
   {
    "duration": 3,
    "start_time": "2024-11-22T16:24:51.056Z"
   },
   {
    "duration": 8,
    "start_time": "2024-11-22T16:24:51.061Z"
   },
   {
    "duration": 172,
    "start_time": "2024-11-22T16:24:51.070Z"
   },
   {
    "duration": 3,
    "start_time": "2024-11-22T16:24:51.244Z"
   },
   {
    "duration": 90,
    "start_time": "2024-11-22T16:24:51.248Z"
   },
   {
    "duration": 28,
    "start_time": "2024-11-22T16:24:51.341Z"
   },
   {
    "duration": 18,
    "start_time": "2024-11-22T16:24:51.371Z"
   },
   {
    "duration": 135,
    "start_time": "2024-11-22T16:24:51.391Z"
   },
   {
    "duration": 10,
    "start_time": "2024-11-22T16:24:51.527Z"
   },
   {
    "duration": 5,
    "start_time": "2024-11-22T16:24:51.538Z"
   },
   {
    "duration": 6,
    "start_time": "2024-11-22T16:24:51.545Z"
   },
   {
    "duration": 8,
    "start_time": "2024-11-22T16:44:27.235Z"
   },
   {
    "duration": 3,
    "start_time": "2024-11-22T16:46:47.289Z"
   },
   {
    "duration": 3,
    "start_time": "2024-11-22T16:53:20.528Z"
   },
   {
    "duration": 146,
    "start_time": "2024-11-22T16:57:13.365Z"
   },
   {
    "duration": 4,
    "start_time": "2024-11-22T16:58:46.868Z"
   },
   {
    "duration": 6,
    "start_time": "2024-11-22T16:59:30.170Z"
   },
   {
    "duration": 4,
    "start_time": "2024-11-22T17:00:28.598Z"
   },
   {
    "duration": 5,
    "start_time": "2024-11-22T17:01:34.604Z"
   },
   {
    "duration": 5,
    "start_time": "2024-11-22T17:16:01.469Z"
   },
   {
    "duration": 6,
    "start_time": "2024-11-22T17:16:42.696Z"
   },
   {
    "duration": 5,
    "start_time": "2024-11-22T17:17:33.828Z"
   },
   {
    "duration": 5,
    "start_time": "2024-11-22T17:17:35.925Z"
   },
   {
    "duration": 243,
    "start_time": "2024-11-22T17:19:03.070Z"
   },
   {
    "duration": 1000,
    "start_time": "2024-11-22T17:20:06.286Z"
   },
   {
    "duration": 101,
    "start_time": "2024-11-22T17:20:07.289Z"
   },
   {
    "duration": 19,
    "start_time": "2024-11-22T17:20:07.392Z"
   },
   {
    "duration": 9,
    "start_time": "2024-11-22T17:20:07.414Z"
   },
   {
    "duration": 22,
    "start_time": "2024-11-22T17:20:07.424Z"
   },
   {
    "duration": 7,
    "start_time": "2024-11-22T17:20:07.448Z"
   },
   {
    "duration": 75,
    "start_time": "2024-11-22T17:20:07.456Z"
   },
   {
    "duration": 128,
    "start_time": "2024-11-22T17:20:07.533Z"
   },
   {
    "duration": 7,
    "start_time": "2024-11-22T17:20:07.663Z"
   },
   {
    "duration": 2,
    "start_time": "2024-11-22T17:20:07.674Z"
   },
   {
    "duration": 5,
    "start_time": "2024-11-22T17:20:07.677Z"
   },
   {
    "duration": 46,
    "start_time": "2024-11-22T17:20:07.683Z"
   },
   {
    "duration": 83,
    "start_time": "2024-11-22T17:20:07.730Z"
   },
   {
    "duration": 18,
    "start_time": "2024-11-22T17:20:07.815Z"
   },
   {
    "duration": 127,
    "start_time": "2024-11-22T17:20:07.834Z"
   },
   {
    "duration": 26,
    "start_time": "2024-11-22T17:20:07.963Z"
   },
   {
    "duration": 47,
    "start_time": "2024-11-22T17:20:07.991Z"
   },
   {
    "duration": 3,
    "start_time": "2024-11-22T17:20:08.040Z"
   },
   {
    "duration": 4,
    "start_time": "2024-11-22T17:20:08.045Z"
   },
   {
    "duration": 22,
    "start_time": "2024-11-22T17:20:08.050Z"
   },
   {
    "duration": 302,
    "start_time": "2024-11-22T17:20:08.075Z"
   },
   {
    "duration": 11,
    "start_time": "2024-11-22T17:20:08.381Z"
   },
   {
    "duration": 198,
    "start_time": "2024-11-22T17:20:08.393Z"
   },
   {
    "duration": 28,
    "start_time": "2024-11-22T17:20:08.593Z"
   },
   {
    "duration": 318,
    "start_time": "2024-11-22T17:20:08.623Z"
   },
   {
    "duration": 18,
    "start_time": "2024-11-22T17:20:08.942Z"
   },
   {
    "duration": 14,
    "start_time": "2024-11-22T17:20:08.962Z"
   },
   {
    "duration": 64,
    "start_time": "2024-11-22T17:20:08.980Z"
   },
   {
    "duration": 26,
    "start_time": "2024-11-22T17:20:09.046Z"
   },
   {
    "duration": 17,
    "start_time": "2024-11-22T17:20:09.074Z"
   },
   {
    "duration": 75,
    "start_time": "2024-11-22T17:20:09.093Z"
   },
   {
    "duration": 5,
    "start_time": "2024-11-22T17:20:09.170Z"
   },
   {
    "duration": 249,
    "start_time": "2024-11-22T17:20:09.177Z"
   },
   {
    "duration": 104,
    "start_time": "2024-11-22T17:20:09.429Z"
   },
   {
    "duration": 4,
    "start_time": "2024-11-22T17:20:09.535Z"
   },
   {
    "duration": 7,
    "start_time": "2024-11-22T17:20:09.541Z"
   },
   {
    "duration": 176,
    "start_time": "2024-11-22T17:20:09.549Z"
   },
   {
    "duration": 3,
    "start_time": "2024-11-22T17:20:09.727Z"
   },
   {
    "duration": 37,
    "start_time": "2024-11-22T17:20:09.732Z"
   },
   {
    "duration": 50,
    "start_time": "2024-11-22T17:20:09.771Z"
   },
   {
    "duration": 17,
    "start_time": "2024-11-22T17:20:09.823Z"
   },
   {
    "duration": 71,
    "start_time": "2024-11-22T17:20:09.841Z"
   },
   {
    "duration": 10,
    "start_time": "2024-11-22T17:20:09.914Z"
   },
   {
    "duration": 4,
    "start_time": "2024-11-22T17:20:09.926Z"
   },
   {
    "duration": 5,
    "start_time": "2024-11-22T17:20:09.932Z"
   },
   {
    "duration": 3,
    "start_time": "2024-11-22T17:20:09.939Z"
   },
   {
    "duration": 7,
    "start_time": "2024-11-22T17:20:09.944Z"
   },
   {
    "duration": 6,
    "start_time": "2024-11-22T17:20:09.954Z"
   },
   {
    "duration": 6,
    "start_time": "2024-11-22T17:20:09.962Z"
   },
   {
    "duration": 358,
    "start_time": "2024-11-22T17:20:09.971Z"
   },
   {
    "duration": 4,
    "start_time": "2024-11-22T17:23:16.462Z"
   },
   {
    "duration": 5,
    "start_time": "2024-11-22T17:23:18.281Z"
   },
   {
    "duration": 2778,
    "start_time": "2024-11-22T18:39:55.990Z"
   },
   {
    "duration": 131,
    "start_time": "2024-11-22T18:39:58.772Z"
   },
   {
    "duration": 17,
    "start_time": "2024-11-22T18:39:58.907Z"
   },
   {
    "duration": 9,
    "start_time": "2024-11-22T18:39:58.926Z"
   },
   {
    "duration": 26,
    "start_time": "2024-11-22T18:39:58.937Z"
   },
   {
    "duration": 8,
    "start_time": "2024-11-22T18:39:58.965Z"
   },
   {
    "duration": 51,
    "start_time": "2024-11-22T18:39:59.006Z"
   },
   {
    "duration": 153,
    "start_time": "2024-11-22T18:39:59.060Z"
   },
   {
    "duration": 6,
    "start_time": "2024-11-22T18:39:59.217Z"
   },
   {
    "duration": 2,
    "start_time": "2024-11-22T18:39:59.225Z"
   },
   {
    "duration": 4,
    "start_time": "2024-11-22T18:39:59.229Z"
   },
   {
    "duration": 25,
    "start_time": "2024-11-22T18:39:59.235Z"
   },
   {
    "duration": 113,
    "start_time": "2024-11-22T18:39:59.262Z"
   },
   {
    "duration": 28,
    "start_time": "2024-11-22T18:39:59.377Z"
   },
   {
    "duration": 128,
    "start_time": "2024-11-22T18:39:59.409Z"
   },
   {
    "duration": 29,
    "start_time": "2024-11-22T18:39:59.539Z"
   },
   {
    "duration": 49,
    "start_time": "2024-11-22T18:39:59.569Z"
   },
   {
    "duration": 3,
    "start_time": "2024-11-22T18:39:59.620Z"
   },
   {
    "duration": 5,
    "start_time": "2024-11-22T18:39:59.624Z"
   },
   {
    "duration": 23,
    "start_time": "2024-11-22T18:39:59.631Z"
   },
   {
    "duration": 391,
    "start_time": "2024-11-22T18:39:59.656Z"
   },
   {
    "duration": 11,
    "start_time": "2024-11-22T18:40:00.050Z"
   },
   {
    "duration": 195,
    "start_time": "2024-11-22T18:40:00.063Z"
   },
   {
    "duration": 27,
    "start_time": "2024-11-22T18:40:00.261Z"
   },
   {
    "duration": 327,
    "start_time": "2024-11-22T18:40:00.305Z"
   },
   {
    "duration": 23,
    "start_time": "2024-11-22T18:40:00.634Z"
   },
   {
    "duration": 14,
    "start_time": "2024-11-22T18:40:00.662Z"
   },
   {
    "duration": 75,
    "start_time": "2024-11-22T18:40:00.677Z"
   },
   {
    "duration": 26,
    "start_time": "2024-11-22T18:40:00.755Z"
   },
   {
    "duration": 32,
    "start_time": "2024-11-22T18:40:00.782Z"
   },
   {
    "duration": 53,
    "start_time": "2024-11-22T18:40:00.816Z"
   },
   {
    "duration": 5,
    "start_time": "2024-11-22T18:40:00.870Z"
   },
   {
    "duration": 255,
    "start_time": "2024-11-22T18:40:00.876Z"
   },
   {
    "duration": 115,
    "start_time": "2024-11-22T18:40:01.134Z"
   },
   {
    "duration": 6,
    "start_time": "2024-11-22T18:40:01.253Z"
   },
   {
    "duration": 12,
    "start_time": "2024-11-22T18:40:01.261Z"
   },
   {
    "duration": 232,
    "start_time": "2024-11-22T18:40:01.275Z"
   },
   {
    "duration": 3,
    "start_time": "2024-11-22T18:40:01.509Z"
   },
   {
    "duration": 39,
    "start_time": "2024-11-22T18:40:01.514Z"
   },
   {
    "duration": 54,
    "start_time": "2024-11-22T18:40:01.555Z"
   },
   {
    "duration": 17,
    "start_time": "2024-11-22T18:40:01.611Z"
   },
   {
    "duration": 65,
    "start_time": "2024-11-22T18:40:01.629Z"
   },
   {
    "duration": 10,
    "start_time": "2024-11-22T18:40:01.706Z"
   },
   {
    "duration": 4,
    "start_time": "2024-11-22T18:40:01.718Z"
   },
   {
    "duration": 5,
    "start_time": "2024-11-22T18:40:01.724Z"
   },
   {
    "duration": 3,
    "start_time": "2024-11-22T18:40:01.730Z"
   },
   {
    "duration": 4,
    "start_time": "2024-11-22T18:40:01.736Z"
   },
   {
    "duration": 4,
    "start_time": "2024-11-22T18:40:01.742Z"
   },
   {
    "duration": 5,
    "start_time": "2024-11-22T18:40:01.747Z"
   },
   {
    "duration": 51,
    "start_time": "2024-11-22T18:40:01.754Z"
   },
   {
    "duration": 4,
    "start_time": "2024-11-22T18:40:01.806Z"
   },
   {
    "duration": 248,
    "start_time": "2024-11-22T19:01:10.365Z"
   },
   {
    "duration": 13,
    "start_time": "2024-11-22T19:02:38.399Z"
   },
   {
    "duration": 4,
    "start_time": "2024-11-22T19:02:48.582Z"
   },
   {
    "duration": 15,
    "start_time": "2024-11-22T19:03:18.832Z"
   },
   {
    "duration": 61,
    "start_time": "2024-11-22T19:16:51.061Z"
   },
   {
    "duration": 63,
    "start_time": "2024-11-22T19:18:54.443Z"
   },
   {
    "duration": 6,
    "start_time": "2024-11-22T19:19:32.184Z"
   },
   {
    "duration": 2,
    "start_time": "2024-11-22T19:21:05.068Z"
   },
   {
    "duration": 4,
    "start_time": "2024-11-22T19:21:13.188Z"
   },
   {
    "duration": 3,
    "start_time": "2024-11-22T19:21:53.330Z"
   },
   {
    "duration": 20,
    "start_time": "2024-11-22T19:22:29.826Z"
   },
   {
    "duration": 242,
    "start_time": "2024-11-22T19:30:29.302Z"
   },
   {
    "duration": 16,
    "start_time": "2024-11-22T19:31:52.364Z"
   },
   {
    "duration": 17,
    "start_time": "2024-11-22T19:34:46.423Z"
   },
   {
    "duration": 16,
    "start_time": "2024-11-22T19:34:54.467Z"
   },
   {
    "duration": 3,
    "start_time": "2024-11-22T19:36:32.322Z"
   },
   {
    "duration": 15,
    "start_time": "2024-11-22T19:36:34.490Z"
   },
   {
    "duration": 10,
    "start_time": "2024-11-22T19:37:23.076Z"
   },
   {
    "duration": 10,
    "start_time": "2024-11-22T19:37:43.125Z"
   },
   {
    "duration": 3,
    "start_time": "2024-11-22T19:41:34.103Z"
   },
   {
    "duration": 3,
    "start_time": "2024-11-22T19:42:22.310Z"
   },
   {
    "duration": 264,
    "start_time": "2024-11-22T19:44:51.042Z"
   },
   {
    "duration": 3,
    "start_time": "2024-11-22T19:45:58.602Z"
   },
   {
    "duration": 6,
    "start_time": "2024-11-22T19:46:05.537Z"
   },
   {
    "duration": 5,
    "start_time": "2024-11-22T19:47:33.911Z"
   },
   {
    "duration": 8,
    "start_time": "2024-11-22T19:47:46.431Z"
   },
   {
    "duration": 8,
    "start_time": "2024-11-22T19:49:25.670Z"
   },
   {
    "duration": 277,
    "start_time": "2024-11-22T19:50:26.004Z"
   },
   {
    "duration": 331,
    "start_time": "2024-11-22T19:50:44.052Z"
   },
   {
    "duration": 246,
    "start_time": "2024-11-22T19:50:52.738Z"
   },
   {
    "duration": 327,
    "start_time": "2024-11-22T19:51:55.794Z"
   },
   {
    "duration": 256,
    "start_time": "2024-11-22T19:52:41.537Z"
   },
   {
    "duration": 245,
    "start_time": "2024-11-22T19:53:06.749Z"
   },
   {
    "duration": 327,
    "start_time": "2024-11-22T19:53:39.655Z"
   },
   {
    "duration": 242,
    "start_time": "2024-11-22T19:55:19.638Z"
   },
   {
    "duration": 284,
    "start_time": "2024-11-22T19:55:36.091Z"
   },
   {
    "duration": 281,
    "start_time": "2024-11-22T20:16:22.898Z"
   },
   {
    "duration": 4,
    "start_time": "2024-11-22T20:18:59.368Z"
   },
   {
    "duration": 24,
    "start_time": "2024-11-22T20:20:07.626Z"
   },
   {
    "duration": 6,
    "start_time": "2024-11-22T20:21:31.575Z"
   },
   {
    "duration": 3,
    "start_time": "2024-11-22T20:21:43.531Z"
   },
   {
    "duration": 9,
    "start_time": "2024-11-22T20:21:46.346Z"
   },
   {
    "duration": 442,
    "start_time": "2024-11-22T20:55:39.800Z"
   },
   {
    "duration": 277,
    "start_time": "2024-11-22T20:56:44.310Z"
   },
   {
    "duration": 2622,
    "start_time": "2024-11-23T16:28:18.433Z"
   },
   {
    "duration": 124,
    "start_time": "2024-11-23T16:28:21.057Z"
   },
   {
    "duration": 15,
    "start_time": "2024-11-23T16:28:21.183Z"
   },
   {
    "duration": 8,
    "start_time": "2024-11-23T16:28:21.204Z"
   },
   {
    "duration": 23,
    "start_time": "2024-11-23T16:28:21.214Z"
   },
   {
    "duration": 7,
    "start_time": "2024-11-23T16:28:21.239Z"
   },
   {
    "duration": 73,
    "start_time": "2024-11-23T16:28:21.248Z"
   },
   {
    "duration": 117,
    "start_time": "2024-11-23T16:28:21.323Z"
   },
   {
    "duration": 7,
    "start_time": "2024-11-23T16:28:21.441Z"
   },
   {
    "duration": 2,
    "start_time": "2024-11-23T16:28:21.451Z"
   },
   {
    "duration": 4,
    "start_time": "2024-11-23T16:28:21.454Z"
   },
   {
    "duration": 48,
    "start_time": "2024-11-23T16:28:21.459Z"
   },
   {
    "duration": 73,
    "start_time": "2024-11-23T16:28:21.508Z"
   },
   {
    "duration": 26,
    "start_time": "2024-11-23T16:28:21.583Z"
   },
   {
    "duration": 127,
    "start_time": "2024-11-23T16:28:21.611Z"
   },
   {
    "duration": 26,
    "start_time": "2024-11-23T16:28:21.739Z"
   },
   {
    "duration": 42,
    "start_time": "2024-11-23T16:28:21.766Z"
   },
   {
    "duration": 3,
    "start_time": "2024-11-23T16:28:21.809Z"
   },
   {
    "duration": 5,
    "start_time": "2024-11-23T16:28:21.814Z"
   },
   {
    "duration": 21,
    "start_time": "2024-11-23T16:28:21.821Z"
   },
   {
    "duration": 322,
    "start_time": "2024-11-23T16:28:21.844Z"
   },
   {
    "duration": 11,
    "start_time": "2024-11-23T16:28:22.168Z"
   },
   {
    "duration": 260,
    "start_time": "2024-11-23T16:28:22.180Z"
   },
   {
    "duration": 23,
    "start_time": "2024-11-23T16:28:22.443Z"
   },
   {
    "duration": 312,
    "start_time": "2024-11-23T16:28:22.467Z"
   },
   {
    "duration": 28,
    "start_time": "2024-11-23T16:28:22.781Z"
   },
   {
    "duration": 14,
    "start_time": "2024-11-23T16:28:22.814Z"
   },
   {
    "duration": 46,
    "start_time": "2024-11-23T16:28:22.834Z"
   },
   {
    "duration": 42,
    "start_time": "2024-11-23T16:28:22.883Z"
   },
   {
    "duration": 18,
    "start_time": "2024-11-23T16:28:22.927Z"
   },
   {
    "duration": 63,
    "start_time": "2024-11-23T16:28:22.946Z"
   },
   {
    "duration": 5,
    "start_time": "2024-11-23T16:28:23.012Z"
   },
   {
    "duration": 224,
    "start_time": "2024-11-23T16:28:23.019Z"
   },
   {
    "duration": 102,
    "start_time": "2024-11-23T16:28:23.245Z"
   },
   {
    "duration": 4,
    "start_time": "2024-11-23T16:28:23.349Z"
   },
   {
    "duration": 7,
    "start_time": "2024-11-23T16:28:23.355Z"
   },
   {
    "duration": 162,
    "start_time": "2024-11-23T16:28:23.364Z"
   },
   {
    "duration": 3,
    "start_time": "2024-11-23T16:28:23.528Z"
   },
   {
    "duration": 85,
    "start_time": "2024-11-23T16:28:23.533Z"
   },
   {
    "duration": 30,
    "start_time": "2024-11-23T16:28:23.620Z"
   },
   {
    "duration": 17,
    "start_time": "2024-11-23T16:28:23.652Z"
   },
   {
    "duration": 78,
    "start_time": "2024-11-23T16:28:23.671Z"
   },
   {
    "duration": 9,
    "start_time": "2024-11-23T16:28:23.750Z"
   },
   {
    "duration": 5,
    "start_time": "2024-11-23T16:28:23.760Z"
   },
   {
    "duration": 6,
    "start_time": "2024-11-23T16:28:23.766Z"
   },
   {
    "duration": 3,
    "start_time": "2024-11-23T16:28:23.773Z"
   },
   {
    "duration": 5,
    "start_time": "2024-11-23T16:28:23.805Z"
   },
   {
    "duration": 5,
    "start_time": "2024-11-23T16:28:23.811Z"
   },
   {
    "duration": 5,
    "start_time": "2024-11-23T16:28:23.817Z"
   },
   {
    "duration": 3,
    "start_time": "2024-11-23T16:28:23.824Z"
   },
   {
    "duration": 4,
    "start_time": "2024-11-23T16:28:23.829Z"
   },
   {
    "duration": 4,
    "start_time": "2024-11-23T16:28:23.835Z"
   },
   {
    "duration": 5,
    "start_time": "2024-11-23T16:28:23.841Z"
   },
   {
    "duration": 3,
    "start_time": "2024-11-23T16:28:23.848Z"
   },
   {
    "duration": 63,
    "start_time": "2024-11-23T16:28:23.853Z"
   },
   {
    "duration": 4,
    "start_time": "2024-11-23T16:28:23.917Z"
   },
   {
    "duration": 14,
    "start_time": "2024-11-23T16:28:23.922Z"
   },
   {
    "duration": 9,
    "start_time": "2024-11-23T16:28:23.938Z"
   },
   {
    "duration": 3,
    "start_time": "2024-11-23T16:28:23.949Z"
   },
   {
    "duration": 278,
    "start_time": "2024-11-23T16:28:23.955Z"
   },
   {
    "duration": 0,
    "start_time": "2024-11-23T16:28:24.235Z"
   },
   {
    "duration": 0,
    "start_time": "2024-11-23T16:28:24.236Z"
   },
   {
    "duration": 0,
    "start_time": "2024-11-23T16:28:24.236Z"
   },
   {
    "duration": 0,
    "start_time": "2024-11-23T16:28:24.238Z"
   },
   {
    "duration": 4,
    "start_time": "2024-11-23T16:29:42.421Z"
   },
   {
    "duration": 13,
    "start_time": "2024-11-23T16:29:45.861Z"
   },
   {
    "duration": 13,
    "start_time": "2024-11-23T16:30:33.390Z"
   },
   {
    "duration": 3,
    "start_time": "2024-11-23T16:30:44.906Z"
   },
   {
    "duration": 16,
    "start_time": "2024-11-23T16:30:52.460Z"
   },
   {
    "duration": 26,
    "start_time": "2024-11-23T16:31:05.480Z"
   },
   {
    "duration": 5,
    "start_time": "2024-11-23T16:31:09.080Z"
   },
   {
    "duration": 988,
    "start_time": "2024-11-23T16:31:37.680Z"
   },
   {
    "duration": 103,
    "start_time": "2024-11-23T16:31:38.670Z"
   },
   {
    "duration": 21,
    "start_time": "2024-11-23T16:31:38.776Z"
   },
   {
    "duration": 9,
    "start_time": "2024-11-23T16:31:38.806Z"
   },
   {
    "duration": 24,
    "start_time": "2024-11-23T16:31:38.816Z"
   },
   {
    "duration": 7,
    "start_time": "2024-11-23T16:31:38.842Z"
   },
   {
    "duration": 74,
    "start_time": "2024-11-23T16:31:38.851Z"
   },
   {
    "duration": 122,
    "start_time": "2024-11-23T16:31:38.926Z"
   },
   {
    "duration": 5,
    "start_time": "2024-11-23T16:31:39.051Z"
   },
   {
    "duration": 2,
    "start_time": "2024-11-23T16:31:39.059Z"
   },
   {
    "duration": 4,
    "start_time": "2024-11-23T16:31:39.063Z"
   },
   {
    "duration": 46,
    "start_time": "2024-11-23T16:31:39.069Z"
   },
   {
    "duration": 74,
    "start_time": "2024-11-23T16:31:39.117Z"
   },
   {
    "duration": 27,
    "start_time": "2024-11-23T16:31:39.193Z"
   },
   {
    "duration": 126,
    "start_time": "2024-11-23T16:31:39.222Z"
   },
   {
    "duration": 25,
    "start_time": "2024-11-23T16:31:39.350Z"
   },
   {
    "duration": 42,
    "start_time": "2024-11-23T16:31:39.376Z"
   },
   {
    "duration": 3,
    "start_time": "2024-11-23T16:31:39.420Z"
   },
   {
    "duration": 4,
    "start_time": "2024-11-23T16:31:39.425Z"
   },
   {
    "duration": 22,
    "start_time": "2024-11-23T16:31:39.431Z"
   },
   {
    "duration": 304,
    "start_time": "2024-11-23T16:31:39.455Z"
   },
   {
    "duration": 11,
    "start_time": "2024-11-23T16:31:39.761Z"
   },
   {
    "duration": 198,
    "start_time": "2024-11-23T16:31:39.773Z"
   },
   {
    "duration": 22,
    "start_time": "2024-11-23T16:31:39.973Z"
   },
   {
    "duration": 335,
    "start_time": "2024-11-23T16:31:40.005Z"
   },
   {
    "duration": 17,
    "start_time": "2024-11-23T16:31:40.342Z"
   },
   {
    "duration": 13,
    "start_time": "2024-11-23T16:31:40.361Z"
   },
   {
    "duration": 62,
    "start_time": "2024-11-23T16:31:40.378Z"
   },
   {
    "duration": 25,
    "start_time": "2024-11-23T16:31:40.442Z"
   },
   {
    "duration": 17,
    "start_time": "2024-11-23T16:31:40.468Z"
   },
   {
    "duration": 49,
    "start_time": "2024-11-23T16:31:40.505Z"
   },
   {
    "duration": 4,
    "start_time": "2024-11-23T16:31:40.557Z"
   },
   {
    "duration": 197,
    "start_time": "2024-11-23T16:31:40.562Z"
   },
   {
    "duration": 105,
    "start_time": "2024-11-23T16:31:40.805Z"
   },
   {
    "duration": 4,
    "start_time": "2024-11-23T16:31:40.911Z"
   },
   {
    "duration": 6,
    "start_time": "2024-11-23T16:31:40.916Z"
   },
   {
    "duration": 198,
    "start_time": "2024-11-23T16:31:40.924Z"
   },
   {
    "duration": 4,
    "start_time": "2024-11-23T16:31:41.123Z"
   },
   {
    "duration": 36,
    "start_time": "2024-11-23T16:31:41.128Z"
   },
   {
    "duration": 47,
    "start_time": "2024-11-23T16:31:41.166Z"
   },
   {
    "duration": 18,
    "start_time": "2024-11-23T16:31:41.215Z"
   },
   {
    "duration": 68,
    "start_time": "2024-11-23T16:31:41.238Z"
   },
   {
    "duration": 8,
    "start_time": "2024-11-23T16:31:41.308Z"
   },
   {
    "duration": 5,
    "start_time": "2024-11-23T16:31:41.318Z"
   },
   {
    "duration": 5,
    "start_time": "2024-11-23T16:31:41.324Z"
   },
   {
    "duration": 3,
    "start_time": "2024-11-23T16:31:41.332Z"
   },
   {
    "duration": 5,
    "start_time": "2024-11-23T16:31:41.336Z"
   },
   {
    "duration": 5,
    "start_time": "2024-11-23T16:31:41.342Z"
   },
   {
    "duration": 5,
    "start_time": "2024-11-23T16:31:41.348Z"
   },
   {
    "duration": 4,
    "start_time": "2024-11-23T16:31:41.354Z"
   },
   {
    "duration": 48,
    "start_time": "2024-11-23T16:31:41.359Z"
   },
   {
    "duration": 5,
    "start_time": "2024-11-23T16:31:41.409Z"
   },
   {
    "duration": 6,
    "start_time": "2024-11-23T16:31:41.416Z"
   },
   {
    "duration": 4,
    "start_time": "2024-11-23T16:31:41.423Z"
   },
   {
    "duration": 19,
    "start_time": "2024-11-23T16:31:41.429Z"
   },
   {
    "duration": 4,
    "start_time": "2024-11-23T16:31:41.450Z"
   },
   {
    "duration": 16,
    "start_time": "2024-11-23T16:31:41.456Z"
   },
   {
    "duration": 10,
    "start_time": "2024-11-23T16:31:41.505Z"
   },
   {
    "duration": 4,
    "start_time": "2024-11-23T16:31:41.517Z"
   },
   {
    "duration": 322,
    "start_time": "2024-11-23T16:31:41.523Z"
   },
   {
    "duration": 0,
    "start_time": "2024-11-23T16:31:41.847Z"
   },
   {
    "duration": 0,
    "start_time": "2024-11-23T16:31:41.848Z"
   },
   {
    "duration": 0,
    "start_time": "2024-11-23T16:31:41.850Z"
   },
   {
    "duration": 0,
    "start_time": "2024-11-23T16:31:41.851Z"
   },
   {
    "duration": 240,
    "start_time": "2024-11-23T16:32:35.694Z"
   },
   {
    "duration": 10,
    "start_time": "2024-11-23T16:35:58.915Z"
   },
   {
    "duration": 13,
    "start_time": "2024-11-23T16:37:27.579Z"
   },
   {
    "duration": 3,
    "start_time": "2024-11-23T16:37:36.762Z"
   },
   {
    "duration": 23,
    "start_time": "2024-11-23T16:37:39.912Z"
   },
   {
    "duration": 8,
    "start_time": "2024-11-23T16:37:49.456Z"
   },
   {
    "duration": 2677,
    "start_time": "2024-11-23T18:29:45.683Z"
   },
   {
    "duration": 131,
    "start_time": "2024-11-23T18:29:48.363Z"
   },
   {
    "duration": 16,
    "start_time": "2024-11-23T18:29:48.496Z"
   },
   {
    "duration": 7,
    "start_time": "2024-11-23T18:29:48.514Z"
   },
   {
    "duration": 23,
    "start_time": "2024-11-23T18:29:48.523Z"
   },
   {
    "duration": 6,
    "start_time": "2024-11-23T18:29:48.548Z"
   },
   {
    "duration": 76,
    "start_time": "2024-11-23T18:29:48.556Z"
   },
   {
    "duration": 125,
    "start_time": "2024-11-23T18:29:48.633Z"
   },
   {
    "duration": 5,
    "start_time": "2024-11-23T18:29:48.760Z"
   },
   {
    "duration": 2,
    "start_time": "2024-11-23T18:29:48.767Z"
   },
   {
    "duration": 3,
    "start_time": "2024-11-23T18:29:48.786Z"
   },
   {
    "duration": 24,
    "start_time": "2024-11-23T18:29:48.791Z"
   },
   {
    "duration": 89,
    "start_time": "2024-11-23T18:29:48.816Z"
   },
   {
    "duration": 18,
    "start_time": "2024-11-23T18:29:48.907Z"
   },
   {
    "duration": 180,
    "start_time": "2024-11-23T18:29:48.927Z"
   },
   {
    "duration": 26,
    "start_time": "2024-11-23T18:29:49.108Z"
   },
   {
    "duration": 31,
    "start_time": "2024-11-23T18:29:49.136Z"
   },
   {
    "duration": 19,
    "start_time": "2024-11-23T18:29:49.169Z"
   },
   {
    "duration": 4,
    "start_time": "2024-11-23T18:29:49.190Z"
   },
   {
    "duration": 22,
    "start_time": "2024-11-23T18:29:49.196Z"
   },
   {
    "duration": 329,
    "start_time": "2024-11-23T18:29:49.220Z"
   },
   {
    "duration": 11,
    "start_time": "2024-11-23T18:29:49.550Z"
   },
   {
    "duration": 196,
    "start_time": "2024-11-23T18:29:49.563Z"
   },
   {
    "duration": 27,
    "start_time": "2024-11-23T18:29:49.761Z"
   },
   {
    "duration": 333,
    "start_time": "2024-11-23T18:29:49.790Z"
   },
   {
    "duration": 18,
    "start_time": "2024-11-23T18:29:50.124Z"
   },
   {
    "duration": 14,
    "start_time": "2024-11-23T18:29:50.144Z"
   },
   {
    "duration": 68,
    "start_time": "2024-11-23T18:29:50.163Z"
   },
   {
    "duration": 27,
    "start_time": "2024-11-23T18:29:50.233Z"
   },
   {
    "duration": 30,
    "start_time": "2024-11-23T18:29:50.262Z"
   },
   {
    "duration": 50,
    "start_time": "2024-11-23T18:29:50.294Z"
   },
   {
    "duration": 5,
    "start_time": "2024-11-23T18:29:50.346Z"
   },
   {
    "duration": 261,
    "start_time": "2024-11-23T18:29:50.352Z"
   },
   {
    "duration": 105,
    "start_time": "2024-11-23T18:29:50.615Z"
   },
   {
    "duration": 4,
    "start_time": "2024-11-23T18:29:50.722Z"
   },
   {
    "duration": 7,
    "start_time": "2024-11-23T18:29:50.727Z"
   },
   {
    "duration": 173,
    "start_time": "2024-11-23T18:29:50.735Z"
   },
   {
    "duration": 3,
    "start_time": "2024-11-23T18:29:50.909Z"
   },
   {
    "duration": 73,
    "start_time": "2024-11-23T18:29:50.914Z"
   },
   {
    "duration": 28,
    "start_time": "2024-11-23T18:29:50.989Z"
   },
   {
    "duration": 18,
    "start_time": "2024-11-23T18:29:51.018Z"
   },
   {
    "duration": 79,
    "start_time": "2024-11-23T18:29:51.039Z"
   },
   {
    "duration": 9,
    "start_time": "2024-11-23T18:29:51.120Z"
   },
   {
    "duration": 4,
    "start_time": "2024-11-23T18:29:51.131Z"
   },
   {
    "duration": 5,
    "start_time": "2024-11-23T18:29:51.137Z"
   },
   {
    "duration": 3,
    "start_time": "2024-11-23T18:29:51.143Z"
   },
   {
    "duration": 4,
    "start_time": "2024-11-23T18:29:51.148Z"
   },
   {
    "duration": 35,
    "start_time": "2024-11-23T18:29:51.154Z"
   },
   {
    "duration": 4,
    "start_time": "2024-11-23T18:29:51.191Z"
   },
   {
    "duration": 3,
    "start_time": "2024-11-23T18:29:51.198Z"
   },
   {
    "duration": 4,
    "start_time": "2024-11-23T18:29:51.202Z"
   },
   {
    "duration": 4,
    "start_time": "2024-11-23T18:29:51.208Z"
   },
   {
    "duration": 5,
    "start_time": "2024-11-23T18:29:51.214Z"
   },
   {
    "duration": 4,
    "start_time": "2024-11-23T18:29:51.221Z"
   },
   {
    "duration": 61,
    "start_time": "2024-11-23T18:29:51.227Z"
   },
   {
    "duration": 4,
    "start_time": "2024-11-23T18:29:51.290Z"
   },
   {
    "duration": 14,
    "start_time": "2024-11-23T18:29:51.296Z"
   },
   {
    "duration": 10,
    "start_time": "2024-11-23T18:29:51.311Z"
   },
   {
    "duration": 4,
    "start_time": "2024-11-23T18:29:51.322Z"
   },
   {
    "duration": 273,
    "start_time": "2024-11-23T18:29:51.328Z"
   },
   {
    "duration": 0,
    "start_time": "2024-11-23T18:29:51.602Z"
   },
   {
    "duration": 0,
    "start_time": "2024-11-23T18:29:51.604Z"
   },
   {
    "duration": 0,
    "start_time": "2024-11-23T18:29:51.604Z"
   },
   {
    "duration": 0,
    "start_time": "2024-11-23T18:29:51.605Z"
   },
   {
    "duration": 19,
    "start_time": "2024-11-23T18:30:53.237Z"
   },
   {
    "duration": 3,
    "start_time": "2024-11-23T18:31:04.449Z"
   },
   {
    "duration": 23,
    "start_time": "2024-11-23T18:31:07.193Z"
   },
   {
    "duration": 9,
    "start_time": "2024-11-23T18:31:08.980Z"
   },
   {
    "duration": 20,
    "start_time": "2024-11-23T18:53:50.832Z"
   },
   {
    "duration": 16,
    "start_time": "2024-11-23T18:54:06.621Z"
   },
   {
    "duration": 20,
    "start_time": "2024-11-23T18:54:26.434Z"
   },
   {
    "duration": 17,
    "start_time": "2024-11-23T18:55:38.151Z"
   },
   {
    "duration": 20,
    "start_time": "2024-11-23T18:56:22.856Z"
   },
   {
    "duration": 1056,
    "start_time": "2024-11-23T20:04:24.951Z"
   },
   {
    "duration": 107,
    "start_time": "2024-11-23T20:04:26.010Z"
   },
   {
    "duration": 19,
    "start_time": "2024-11-23T20:04:26.119Z"
   },
   {
    "duration": 10,
    "start_time": "2024-11-23T20:04:26.141Z"
   },
   {
    "duration": 49,
    "start_time": "2024-11-23T20:04:26.154Z"
   },
   {
    "duration": 8,
    "start_time": "2024-11-23T20:04:26.205Z"
   },
   {
    "duration": 102,
    "start_time": "2024-11-23T20:04:26.215Z"
   },
   {
    "duration": 210,
    "start_time": "2024-11-23T20:04:26.319Z"
   },
   {
    "duration": 6,
    "start_time": "2024-11-23T20:04:26.531Z"
   },
   {
    "duration": 2,
    "start_time": "2024-11-23T20:04:26.541Z"
   },
   {
    "duration": 4,
    "start_time": "2024-11-23T20:04:26.545Z"
   },
   {
    "duration": 54,
    "start_time": "2024-11-23T20:04:26.551Z"
   },
   {
    "duration": 82,
    "start_time": "2024-11-23T20:04:26.608Z"
   },
   {
    "duration": 19,
    "start_time": "2024-11-23T20:04:26.691Z"
   },
   {
    "duration": 129,
    "start_time": "2024-11-23T20:04:26.711Z"
   },
   {
    "duration": 30,
    "start_time": "2024-11-23T20:04:26.843Z"
   },
   {
    "duration": 40,
    "start_time": "2024-11-23T20:04:26.875Z"
   },
   {
    "duration": 4,
    "start_time": "2024-11-23T20:04:26.917Z"
   },
   {
    "duration": 5,
    "start_time": "2024-11-23T20:04:26.923Z"
   },
   {
    "duration": 30,
    "start_time": "2024-11-23T20:04:26.929Z"
   },
   {
    "duration": 291,
    "start_time": "2024-11-23T20:04:26.987Z"
   },
   {
    "duration": 15,
    "start_time": "2024-11-23T20:04:27.280Z"
   },
   {
    "duration": 218,
    "start_time": "2024-11-23T20:04:27.297Z"
   },
   {
    "duration": 31,
    "start_time": "2024-11-23T20:04:27.517Z"
   },
   {
    "duration": 321,
    "start_time": "2024-11-23T20:04:27.550Z"
   },
   {
    "duration": 27,
    "start_time": "2024-11-23T20:04:27.873Z"
   },
   {
    "duration": 17,
    "start_time": "2024-11-23T20:04:27.902Z"
   },
   {
    "duration": 27,
    "start_time": "2024-11-23T20:04:27.924Z"
   },
   {
    "duration": 74,
    "start_time": "2024-11-23T20:04:27.953Z"
   },
   {
    "duration": 18,
    "start_time": "2024-11-23T20:04:28.028Z"
   },
   {
    "duration": 65,
    "start_time": "2024-11-23T20:04:28.048Z"
   },
   {
    "duration": 5,
    "start_time": "2024-11-23T20:04:28.116Z"
   },
   {
    "duration": 268,
    "start_time": "2024-11-23T20:04:28.123Z"
   },
   {
    "duration": 115,
    "start_time": "2024-11-23T20:04:28.393Z"
   },
   {
    "duration": 4,
    "start_time": "2024-11-23T20:04:28.509Z"
   },
   {
    "duration": 7,
    "start_time": "2024-11-23T20:04:28.515Z"
   },
   {
    "duration": 190,
    "start_time": "2024-11-23T20:04:28.523Z"
   },
   {
    "duration": 5,
    "start_time": "2024-11-23T20:04:28.716Z"
   },
   {
    "duration": 40,
    "start_time": "2024-11-23T20:04:28.724Z"
   },
   {
    "duration": 2,
    "start_time": "2024-11-23T20:04:28.767Z"
   },
   {
    "duration": 31,
    "start_time": "2024-11-23T20:04:28.771Z"
   },
   {
    "duration": 66,
    "start_time": "2024-11-23T20:04:28.803Z"
   },
   {
    "duration": 23,
    "start_time": "2024-11-23T20:04:28.871Z"
   },
   {
    "duration": 6,
    "start_time": "2024-11-23T20:04:28.896Z"
   },
   {
    "duration": 6,
    "start_time": "2024-11-23T20:04:28.904Z"
   },
   {
    "duration": 3,
    "start_time": "2024-11-23T20:04:28.912Z"
   },
   {
    "duration": 6,
    "start_time": "2024-11-23T20:04:28.916Z"
   },
   {
    "duration": 5,
    "start_time": "2024-11-23T20:04:28.925Z"
   },
   {
    "duration": 4,
    "start_time": "2024-11-23T20:04:28.932Z"
   },
   {
    "duration": 5,
    "start_time": "2024-11-23T20:04:28.937Z"
   },
   {
    "duration": 6,
    "start_time": "2024-11-23T20:04:28.987Z"
   },
   {
    "duration": 5,
    "start_time": "2024-11-23T20:04:28.995Z"
   },
   {
    "duration": 6,
    "start_time": "2024-11-23T20:04:29.001Z"
   },
   {
    "duration": 3,
    "start_time": "2024-11-23T20:04:29.009Z"
   },
   {
    "duration": 21,
    "start_time": "2024-11-23T20:04:29.013Z"
   },
   {
    "duration": 4,
    "start_time": "2024-11-23T20:04:29.036Z"
   },
   {
    "duration": 56,
    "start_time": "2024-11-23T20:04:29.042Z"
   },
   {
    "duration": 13,
    "start_time": "2024-11-23T20:04:29.100Z"
   },
   {
    "duration": 7,
    "start_time": "2024-11-23T20:04:29.115Z"
   },
   {
    "duration": 349,
    "start_time": "2024-11-23T20:04:29.124Z"
   },
   {
    "duration": 0,
    "start_time": "2024-11-23T20:04:29.475Z"
   },
   {
    "duration": 0,
    "start_time": "2024-11-23T20:04:29.476Z"
   },
   {
    "duration": 0,
    "start_time": "2024-11-23T20:04:29.486Z"
   },
   {
    "duration": 0,
    "start_time": "2024-11-23T20:04:29.487Z"
   },
   {
    "duration": 5,
    "start_time": "2024-11-23T20:32:13.377Z"
   },
   {
    "duration": 3,
    "start_time": "2024-11-23T20:32:37.281Z"
   },
   {
    "duration": 5,
    "start_time": "2024-11-23T21:07:49.138Z"
   },
   {
    "duration": 5,
    "start_time": "2024-11-23T21:08:43.055Z"
   },
   {
    "duration": 20,
    "start_time": "2024-11-23T21:10:27.162Z"
   },
   {
    "duration": 17,
    "start_time": "2024-11-23T21:10:30.381Z"
   },
   {
    "duration": 315,
    "start_time": "2024-11-23T21:11:25.752Z"
   },
   {
    "duration": 263,
    "start_time": "2024-11-23T21:13:01.674Z"
   },
   {
    "duration": 254,
    "start_time": "2024-11-23T21:13:23.892Z"
   },
   {
    "duration": 238,
    "start_time": "2024-11-23T21:13:34.018Z"
   },
   {
    "duration": 317,
    "start_time": "2024-11-23T21:13:43.257Z"
   },
   {
    "duration": 280,
    "start_time": "2024-11-23T21:13:52.995Z"
   },
   {
    "duration": 3241,
    "start_time": "2024-11-23T21:56:42.194Z"
   },
   {
    "duration": 131,
    "start_time": "2024-11-23T21:56:45.437Z"
   },
   {
    "duration": 17,
    "start_time": "2024-11-23T21:56:45.570Z"
   },
   {
    "duration": 9,
    "start_time": "2024-11-23T21:56:45.589Z"
   },
   {
    "duration": 29,
    "start_time": "2024-11-23T21:56:45.600Z"
   },
   {
    "duration": 8,
    "start_time": "2024-11-23T21:56:45.631Z"
   },
   {
    "duration": 93,
    "start_time": "2024-11-23T21:56:45.641Z"
   },
   {
    "duration": 141,
    "start_time": "2024-11-23T21:56:45.736Z"
   },
   {
    "duration": 13,
    "start_time": "2024-11-23T21:56:45.878Z"
   },
   {
    "duration": 2,
    "start_time": "2024-11-23T21:56:45.895Z"
   },
   {
    "duration": 6,
    "start_time": "2024-11-23T21:56:45.899Z"
   },
   {
    "duration": 33,
    "start_time": "2024-11-23T21:56:45.907Z"
   },
   {
    "duration": 112,
    "start_time": "2024-11-23T21:56:45.942Z"
   },
   {
    "duration": 18,
    "start_time": "2024-11-23T21:56:46.056Z"
   },
   {
    "duration": 130,
    "start_time": "2024-11-23T21:56:46.086Z"
   },
   {
    "duration": 32,
    "start_time": "2024-11-23T21:56:46.218Z"
   },
   {
    "duration": 45,
    "start_time": "2024-11-23T21:56:46.252Z"
   },
   {
    "duration": 5,
    "start_time": "2024-11-23T21:56:46.300Z"
   },
   {
    "duration": 5,
    "start_time": "2024-11-23T21:56:46.307Z"
   },
   {
    "duration": 28,
    "start_time": "2024-11-23T21:56:46.313Z"
   },
   {
    "duration": 319,
    "start_time": "2024-11-23T21:56:46.343Z"
   },
   {
    "duration": 31,
    "start_time": "2024-11-23T21:56:46.664Z"
   },
   {
    "duration": 199,
    "start_time": "2024-11-23T21:56:46.697Z"
   },
   {
    "duration": 26,
    "start_time": "2024-11-23T21:56:46.898Z"
   },
   {
    "duration": 326,
    "start_time": "2024-11-23T21:56:46.927Z"
   },
   {
    "duration": 18,
    "start_time": "2024-11-23T21:56:47.255Z"
   },
   {
    "duration": 31,
    "start_time": "2024-11-23T21:56:47.275Z"
   },
   {
    "duration": 27,
    "start_time": "2024-11-23T21:56:47.312Z"
   },
   {
    "duration": 59,
    "start_time": "2024-11-23T21:56:47.341Z"
   },
   {
    "duration": 18,
    "start_time": "2024-11-23T21:56:47.403Z"
   },
   {
    "duration": 65,
    "start_time": "2024-11-23T21:56:47.423Z"
   },
   {
    "duration": 5,
    "start_time": "2024-11-23T21:56:47.489Z"
   },
   {
    "duration": 249,
    "start_time": "2024-11-23T21:56:47.496Z"
   },
   {
    "duration": 149,
    "start_time": "2024-11-23T21:56:47.748Z"
   },
   {
    "duration": 4,
    "start_time": "2024-11-23T21:56:47.898Z"
   },
   {
    "duration": 8,
    "start_time": "2024-11-23T21:56:47.904Z"
   },
   {
    "duration": 221,
    "start_time": "2024-11-23T21:56:47.914Z"
   },
   {
    "duration": 3,
    "start_time": "2024-11-23T21:56:48.137Z"
   },
   {
    "duration": 55,
    "start_time": "2024-11-23T21:56:48.144Z"
   },
   {
    "duration": 20,
    "start_time": "2024-11-23T21:56:48.200Z"
   },
   {
    "duration": 76,
    "start_time": "2024-11-23T21:56:48.224Z"
   },
   {
    "duration": 16,
    "start_time": "2024-11-23T21:56:48.304Z"
   },
   {
    "duration": 8,
    "start_time": "2024-11-23T21:56:48.323Z"
   },
   {
    "duration": 8,
    "start_time": "2024-11-23T21:56:48.334Z"
   },
   {
    "duration": 3,
    "start_time": "2024-11-23T21:56:48.344Z"
   },
   {
    "duration": 4,
    "start_time": "2024-11-23T21:56:48.349Z"
   },
   {
    "duration": 5,
    "start_time": "2024-11-23T21:56:48.354Z"
   },
   {
    "duration": 29,
    "start_time": "2024-11-23T21:56:48.361Z"
   },
   {
    "duration": 9,
    "start_time": "2024-11-23T21:56:48.393Z"
   },
   {
    "duration": 4,
    "start_time": "2024-11-23T21:56:48.404Z"
   },
   {
    "duration": 4,
    "start_time": "2024-11-23T21:56:48.410Z"
   },
   {
    "duration": 7,
    "start_time": "2024-11-23T21:56:48.416Z"
   },
   {
    "duration": 3,
    "start_time": "2024-11-23T21:56:48.425Z"
   },
   {
    "duration": 18,
    "start_time": "2024-11-23T21:56:48.430Z"
   },
   {
    "duration": 3,
    "start_time": "2024-11-23T21:56:48.450Z"
   },
   {
    "duration": 49,
    "start_time": "2024-11-23T21:56:48.454Z"
   },
   {
    "duration": 17,
    "start_time": "2024-11-23T21:56:48.505Z"
   },
   {
    "duration": 4,
    "start_time": "2024-11-23T21:56:48.525Z"
   },
   {
    "duration": 327,
    "start_time": "2024-11-23T21:56:48.531Z"
   },
   {
    "duration": 4,
    "start_time": "2024-11-23T21:56:48.860Z"
   },
   {
    "duration": 41,
    "start_time": "2024-11-23T21:56:48.866Z"
   },
   {
    "duration": 15,
    "start_time": "2024-11-23T21:56:48.909Z"
   },
   {
    "duration": 2599,
    "start_time": "2024-11-24T05:26:39.994Z"
   },
   {
    "duration": 123,
    "start_time": "2024-11-24T05:26:42.597Z"
   },
   {
    "duration": 14,
    "start_time": "2024-11-24T05:26:42.722Z"
   },
   {
    "duration": 17,
    "start_time": "2024-11-24T05:26:42.738Z"
   },
   {
    "duration": 23,
    "start_time": "2024-11-24T05:26:42.756Z"
   },
   {
    "duration": 7,
    "start_time": "2024-11-24T05:26:42.780Z"
   },
   {
    "duration": 65,
    "start_time": "2024-11-24T05:26:42.788Z"
   },
   {
    "duration": 123,
    "start_time": "2024-11-24T05:26:42.855Z"
   },
   {
    "duration": 5,
    "start_time": "2024-11-24T05:26:42.981Z"
   },
   {
    "duration": 2,
    "start_time": "2024-11-24T05:26:42.988Z"
   },
   {
    "duration": 3,
    "start_time": "2024-11-24T05:26:42.992Z"
   },
   {
    "duration": 45,
    "start_time": "2024-11-24T05:26:42.997Z"
   },
   {
    "duration": 83,
    "start_time": "2024-11-24T05:26:43.043Z"
   },
   {
    "duration": 17,
    "start_time": "2024-11-24T05:26:43.128Z"
   },
   {
    "duration": 176,
    "start_time": "2024-11-24T05:26:43.147Z"
   },
   {
    "duration": 27,
    "start_time": "2024-11-24T05:26:43.325Z"
   },
   {
    "duration": 33,
    "start_time": "2024-11-24T05:26:43.354Z"
   },
   {
    "duration": 3,
    "start_time": "2024-11-24T05:26:43.389Z"
   },
   {
    "duration": 30,
    "start_time": "2024-11-24T05:26:43.394Z"
   },
   {
    "duration": 23,
    "start_time": "2024-11-24T05:26:43.425Z"
   },
   {
    "duration": 297,
    "start_time": "2024-11-24T05:26:43.449Z"
   },
   {
    "duration": 10,
    "start_time": "2024-11-24T05:26:43.748Z"
   },
   {
    "duration": 197,
    "start_time": "2024-11-24T05:26:43.760Z"
   },
   {
    "duration": 23,
    "start_time": "2024-11-24T05:26:43.958Z"
   },
   {
    "duration": 308,
    "start_time": "2024-11-24T05:26:43.983Z"
   },
   {
    "duration": 19,
    "start_time": "2024-11-24T05:26:44.293Z"
   },
   {
    "duration": 15,
    "start_time": "2024-11-24T05:26:44.326Z"
   },
   {
    "duration": 27,
    "start_time": "2024-11-24T05:26:44.342Z"
   },
   {
    "duration": 63,
    "start_time": "2024-11-24T05:26:44.371Z"
   },
   {
    "duration": 18,
    "start_time": "2024-11-24T05:26:44.435Z"
   },
   {
    "duration": 49,
    "start_time": "2024-11-24T05:26:44.455Z"
   },
   {
    "duration": 21,
    "start_time": "2024-11-24T05:26:44.506Z"
   },
   {
    "duration": 234,
    "start_time": "2024-11-24T05:26:44.529Z"
   },
   {
    "duration": 102,
    "start_time": "2024-11-24T05:26:44.765Z"
   },
   {
    "duration": 4,
    "start_time": "2024-11-24T05:26:44.869Z"
   },
   {
    "duration": 7,
    "start_time": "2024-11-24T05:26:44.874Z"
   },
   {
    "duration": 169,
    "start_time": "2024-11-24T05:26:44.883Z"
   },
   {
    "duration": 3,
    "start_time": "2024-11-24T05:26:45.054Z"
   },
   {
    "duration": 89,
    "start_time": "2024-11-24T05:26:45.059Z"
   },
   {
    "duration": 16,
    "start_time": "2024-11-24T05:26:45.150Z"
   },
   {
    "duration": 72,
    "start_time": "2024-11-24T05:26:45.168Z"
   },
   {
    "duration": 10,
    "start_time": "2024-11-24T05:26:45.242Z"
   },
   {
    "duration": 6,
    "start_time": "2024-11-24T05:26:45.254Z"
   },
   {
    "duration": 5,
    "start_time": "2024-11-24T05:26:45.261Z"
   },
   {
    "duration": 3,
    "start_time": "2024-11-24T05:26:45.268Z"
   },
   {
    "duration": 5,
    "start_time": "2024-11-24T05:26:45.272Z"
   },
   {
    "duration": 5,
    "start_time": "2024-11-24T05:26:45.279Z"
   },
   {
    "duration": 40,
    "start_time": "2024-11-24T05:26:45.286Z"
   },
   {
    "duration": 5,
    "start_time": "2024-11-24T05:26:45.328Z"
   },
   {
    "duration": 5,
    "start_time": "2024-11-24T05:26:45.335Z"
   },
   {
    "duration": 5,
    "start_time": "2024-11-24T05:26:45.341Z"
   },
   {
    "duration": 6,
    "start_time": "2024-11-24T05:26:45.347Z"
   },
   {
    "duration": 3,
    "start_time": "2024-11-24T05:26:45.355Z"
   },
   {
    "duration": 20,
    "start_time": "2024-11-24T05:26:45.360Z"
   },
   {
    "duration": 42,
    "start_time": "2024-11-24T05:26:45.382Z"
   },
   {
    "duration": 15,
    "start_time": "2024-11-24T05:26:45.425Z"
   },
   {
    "duration": 10,
    "start_time": "2024-11-24T05:26:45.441Z"
   },
   {
    "duration": 4,
    "start_time": "2024-11-24T05:26:45.453Z"
   },
   {
    "duration": 265,
    "start_time": "2024-11-24T05:26:45.459Z"
   },
   {
    "duration": 3,
    "start_time": "2024-11-24T05:26:45.727Z"
   },
   {
    "duration": 25,
    "start_time": "2024-11-24T05:26:45.732Z"
   },
   {
    "duration": 9,
    "start_time": "2024-11-24T05:26:45.759Z"
   },
   {
    "duration": 2714,
    "start_time": "2024-11-24T16:08:57.099Z"
   },
   {
    "duration": 126,
    "start_time": "2024-11-24T16:08:59.815Z"
   },
   {
    "duration": 16,
    "start_time": "2024-11-24T16:08:59.943Z"
   },
   {
    "duration": 8,
    "start_time": "2024-11-24T16:08:59.961Z"
   },
   {
    "duration": 23,
    "start_time": "2024-11-24T16:08:59.971Z"
   },
   {
    "duration": 7,
    "start_time": "2024-11-24T16:08:59.995Z"
   },
   {
    "duration": 77,
    "start_time": "2024-11-24T16:09:00.004Z"
   },
   {
    "duration": 127,
    "start_time": "2024-11-24T16:09:00.083Z"
   },
   {
    "duration": 5,
    "start_time": "2024-11-24T16:09:00.212Z"
   },
   {
    "duration": 4,
    "start_time": "2024-11-24T16:09:00.220Z"
   },
   {
    "duration": 18,
    "start_time": "2024-11-24T16:09:00.225Z"
   },
   {
    "duration": 25,
    "start_time": "2024-11-24T16:09:00.245Z"
   },
   {
    "duration": 92,
    "start_time": "2024-11-24T16:09:00.272Z"
   },
   {
    "duration": 19,
    "start_time": "2024-11-24T16:09:00.366Z"
   },
   {
    "duration": 139,
    "start_time": "2024-11-24T16:09:00.388Z"
   },
   {
    "duration": 37,
    "start_time": "2024-11-24T16:09:00.529Z"
   },
   {
    "duration": 32,
    "start_time": "2024-11-24T16:09:00.568Z"
   },
   {
    "duration": 4,
    "start_time": "2024-11-24T16:09:00.601Z"
   },
   {
    "duration": 4,
    "start_time": "2024-11-24T16:09:00.606Z"
   },
   {
    "duration": 46,
    "start_time": "2024-11-24T16:09:00.612Z"
   },
   {
    "duration": 266,
    "start_time": "2024-11-24T16:09:00.660Z"
   },
   {
    "duration": 12,
    "start_time": "2024-11-24T16:09:00.942Z"
   },
   {
    "duration": 202,
    "start_time": "2024-11-24T16:09:00.956Z"
   },
   {
    "duration": 25,
    "start_time": "2024-11-24T16:09:01.160Z"
   },
   {
    "duration": 392,
    "start_time": "2024-11-24T16:09:01.187Z"
   },
   {
    "duration": 18,
    "start_time": "2024-11-24T16:09:01.581Z"
   },
   {
    "duration": 16,
    "start_time": "2024-11-24T16:09:01.601Z"
   },
   {
    "duration": 44,
    "start_time": "2024-11-24T16:09:01.621Z"
   },
   {
    "duration": 46,
    "start_time": "2024-11-24T16:09:01.666Z"
   },
   {
    "duration": 34,
    "start_time": "2024-11-24T16:09:01.714Z"
   },
   {
    "duration": 51,
    "start_time": "2024-11-24T16:09:01.749Z"
   },
   {
    "duration": 4,
    "start_time": "2024-11-24T16:09:01.803Z"
   },
   {
    "duration": 268,
    "start_time": "2024-11-24T16:09:01.809Z"
   },
   {
    "duration": 106,
    "start_time": "2024-11-24T16:09:02.078Z"
   },
   {
    "duration": 3,
    "start_time": "2024-11-24T16:09:02.186Z"
   },
   {
    "duration": 8,
    "start_time": "2024-11-24T16:09:02.191Z"
   },
   {
    "duration": 163,
    "start_time": "2024-11-24T16:09:02.202Z"
   },
   {
    "duration": 3,
    "start_time": "2024-11-24T16:09:02.367Z"
   },
   {
    "duration": 77,
    "start_time": "2024-11-24T16:09:02.372Z"
   },
   {
    "duration": 21,
    "start_time": "2024-11-24T16:09:02.451Z"
   },
   {
    "duration": 70,
    "start_time": "2024-11-24T16:09:02.473Z"
   },
   {
    "duration": 10,
    "start_time": "2024-11-24T16:09:02.545Z"
   },
   {
    "duration": 5,
    "start_time": "2024-11-24T16:09:02.556Z"
   },
   {
    "duration": 5,
    "start_time": "2024-11-24T16:09:02.563Z"
   },
   {
    "duration": 3,
    "start_time": "2024-11-24T16:09:02.570Z"
   },
   {
    "duration": 4,
    "start_time": "2024-11-24T16:09:02.575Z"
   },
   {
    "duration": 5,
    "start_time": "2024-11-24T16:09:02.580Z"
   },
   {
    "duration": 5,
    "start_time": "2024-11-24T16:09:02.587Z"
   },
   {
    "duration": 50,
    "start_time": "2024-11-24T16:09:02.593Z"
   },
   {
    "duration": 5,
    "start_time": "2024-11-24T16:09:02.645Z"
   },
   {
    "duration": 5,
    "start_time": "2024-11-24T16:09:02.651Z"
   },
   {
    "duration": 7,
    "start_time": "2024-11-24T16:09:02.658Z"
   },
   {
    "duration": 3,
    "start_time": "2024-11-24T16:09:02.666Z"
   },
   {
    "duration": 19,
    "start_time": "2024-11-24T16:09:02.672Z"
   },
   {
    "duration": 5,
    "start_time": "2024-11-24T16:09:02.693Z"
   },
   {
    "duration": 54,
    "start_time": "2024-11-24T16:09:02.699Z"
   },
   {
    "duration": 10,
    "start_time": "2024-11-24T16:09:02.754Z"
   },
   {
    "duration": 3,
    "start_time": "2024-11-24T16:09:02.766Z"
   },
   {
    "duration": 242,
    "start_time": "2024-11-24T16:09:02.771Z"
   },
   {
    "duration": 3,
    "start_time": "2024-11-24T16:09:03.015Z"
   },
   {
    "duration": 41,
    "start_time": "2024-11-24T16:09:03.020Z"
   },
   {
    "duration": 9,
    "start_time": "2024-11-24T16:09:03.064Z"
   },
   {
    "duration": 1025,
    "start_time": "2024-11-24T17:21:08.383Z"
   },
   {
    "duration": 100,
    "start_time": "2024-11-24T17:21:09.410Z"
   },
   {
    "duration": 15,
    "start_time": "2024-11-24T17:21:09.512Z"
   },
   {
    "duration": 19,
    "start_time": "2024-11-24T17:21:09.529Z"
   },
   {
    "duration": 23,
    "start_time": "2024-11-24T17:21:09.550Z"
   },
   {
    "duration": 7,
    "start_time": "2024-11-24T17:21:09.574Z"
   },
   {
    "duration": 68,
    "start_time": "2024-11-24T17:21:09.583Z"
   },
   {
    "duration": 124,
    "start_time": "2024-11-24T17:21:09.652Z"
   },
   {
    "duration": 6,
    "start_time": "2024-11-24T17:21:09.778Z"
   },
   {
    "duration": 2,
    "start_time": "2024-11-24T17:21:09.788Z"
   },
   {
    "duration": 4,
    "start_time": "2024-11-24T17:21:09.792Z"
   },
   {
    "duration": 49,
    "start_time": "2024-11-24T17:21:09.797Z"
   },
   {
    "duration": 77,
    "start_time": "2024-11-24T17:21:09.848Z"
   },
   {
    "duration": 26,
    "start_time": "2024-11-24T17:21:09.928Z"
   },
   {
    "duration": 127,
    "start_time": "2024-11-24T17:21:09.956Z"
   },
   {
    "duration": 26,
    "start_time": "2024-11-24T17:21:10.085Z"
   },
   {
    "duration": 41,
    "start_time": "2024-11-24T17:21:10.114Z"
   },
   {
    "duration": 3,
    "start_time": "2024-11-24T17:21:10.157Z"
   },
   {
    "duration": 3,
    "start_time": "2024-11-24T17:21:10.162Z"
   },
   {
    "duration": 22,
    "start_time": "2024-11-24T17:21:10.167Z"
   },
   {
    "duration": 317,
    "start_time": "2024-11-24T17:21:10.191Z"
   },
   {
    "duration": 11,
    "start_time": "2024-11-24T17:21:10.510Z"
   },
   {
    "duration": 203,
    "start_time": "2024-11-24T17:21:10.523Z"
   },
   {
    "duration": 32,
    "start_time": "2024-11-24T17:21:10.728Z"
   },
   {
    "duration": 334,
    "start_time": "2024-11-24T17:21:10.762Z"
   },
   {
    "duration": 17,
    "start_time": "2024-11-24T17:21:11.098Z"
   },
   {
    "duration": 28,
    "start_time": "2024-11-24T17:21:11.117Z"
   },
   {
    "duration": 26,
    "start_time": "2024-11-24T17:21:11.151Z"
   },
   {
    "duration": 47,
    "start_time": "2024-11-24T17:21:11.179Z"
   },
   {
    "duration": 30,
    "start_time": "2024-11-24T17:21:11.228Z"
   },
   {
    "duration": 56,
    "start_time": "2024-11-24T17:21:11.260Z"
   },
   {
    "duration": 4,
    "start_time": "2024-11-24T17:21:11.318Z"
   },
   {
    "duration": 232,
    "start_time": "2024-11-24T17:21:11.343Z"
   },
   {
    "duration": 111,
    "start_time": "2024-11-24T17:21:11.577Z"
   },
   {
    "duration": 3,
    "start_time": "2024-11-24T17:21:11.690Z"
   },
   {
    "duration": 7,
    "start_time": "2024-11-24T17:21:11.695Z"
   },
   {
    "duration": 169,
    "start_time": "2024-11-24T17:21:11.704Z"
   },
   {
    "duration": 3,
    "start_time": "2024-11-24T17:21:11.875Z"
   },
   {
    "duration": 90,
    "start_time": "2024-11-24T17:21:11.880Z"
   },
   {
    "duration": 18,
    "start_time": "2024-11-24T17:21:11.971Z"
   },
   {
    "duration": 80,
    "start_time": "2024-11-24T17:21:11.990Z"
   },
   {
    "duration": 9,
    "start_time": "2024-11-24T17:21:12.072Z"
   },
   {
    "duration": 6,
    "start_time": "2024-11-24T17:21:12.084Z"
   },
   {
    "duration": 5,
    "start_time": "2024-11-24T17:21:12.092Z"
   },
   {
    "duration": 3,
    "start_time": "2024-11-24T17:21:12.098Z"
   },
   {
    "duration": 5,
    "start_time": "2024-11-24T17:21:12.102Z"
   },
   {
    "duration": 4,
    "start_time": "2024-11-24T17:21:12.108Z"
   },
   {
    "duration": 4,
    "start_time": "2024-11-24T17:21:12.142Z"
   },
   {
    "duration": 5,
    "start_time": "2024-11-24T17:21:12.148Z"
   },
   {
    "duration": 4,
    "start_time": "2024-11-24T17:21:12.155Z"
   },
   {
    "duration": 3,
    "start_time": "2024-11-24T17:21:12.161Z"
   },
   {
    "duration": 5,
    "start_time": "2024-11-24T17:21:12.166Z"
   },
   {
    "duration": 4,
    "start_time": "2024-11-24T17:21:12.172Z"
   },
   {
    "duration": 20,
    "start_time": "2024-11-24T17:21:12.177Z"
   },
   {
    "duration": 44,
    "start_time": "2024-11-24T17:21:12.199Z"
   },
   {
    "duration": 15,
    "start_time": "2024-11-24T17:21:12.245Z"
   },
   {
    "duration": 10,
    "start_time": "2024-11-24T17:21:12.262Z"
   },
   {
    "duration": 3,
    "start_time": "2024-11-24T17:21:12.274Z"
   },
   {
    "duration": 274,
    "start_time": "2024-11-24T17:21:12.279Z"
   },
   {
    "duration": 3,
    "start_time": "2024-11-24T17:21:12.555Z"
   },
   {
    "duration": 27,
    "start_time": "2024-11-24T17:21:12.560Z"
   },
   {
    "duration": 10,
    "start_time": "2024-11-24T17:21:12.588Z"
   },
   {
    "duration": 2745,
    "start_time": "2024-11-25T15:53:20.477Z"
   },
   {
    "duration": 136,
    "start_time": "2024-11-25T15:53:23.224Z"
   },
   {
    "duration": 17,
    "start_time": "2024-11-25T15:53:23.361Z"
   },
   {
    "duration": 9,
    "start_time": "2024-11-25T15:53:23.381Z"
   },
   {
    "duration": 37,
    "start_time": "2024-11-25T15:53:23.392Z"
   },
   {
    "duration": 7,
    "start_time": "2024-11-25T15:53:23.430Z"
   },
   {
    "duration": 51,
    "start_time": "2024-11-25T15:53:23.439Z"
   },
   {
    "duration": 149,
    "start_time": "2024-11-25T15:53:23.491Z"
   },
   {
    "duration": 6,
    "start_time": "2024-11-25T15:53:23.641Z"
   },
   {
    "duration": 3,
    "start_time": "2024-11-25T15:53:23.650Z"
   },
   {
    "duration": 26,
    "start_time": "2024-11-25T15:53:23.654Z"
   },
   {
    "duration": 100,
    "start_time": "2024-11-25T15:53:23.682Z"
   },
   {
    "duration": 29,
    "start_time": "2024-11-25T15:53:23.784Z"
   },
   {
    "duration": 133,
    "start_time": "2024-11-25T15:53:23.815Z"
   },
   {
    "duration": 28,
    "start_time": "2024-11-25T15:53:23.950Z"
   },
   {
    "duration": 45,
    "start_time": "2024-11-25T15:53:23.979Z"
   },
   {
    "duration": 3,
    "start_time": "2024-11-25T15:53:24.025Z"
   },
   {
    "duration": 4,
    "start_time": "2024-11-25T15:53:24.030Z"
   },
   {
    "duration": 22,
    "start_time": "2024-11-25T15:53:24.036Z"
   },
   {
    "duration": 322,
    "start_time": "2024-11-25T15:53:24.060Z"
   },
   {
    "duration": 11,
    "start_time": "2024-11-25T15:53:24.384Z"
   },
   {
    "duration": 201,
    "start_time": "2024-11-25T15:53:24.397Z"
   },
   {
    "duration": 28,
    "start_time": "2024-11-25T15:53:24.600Z"
   },
   {
    "duration": 436,
    "start_time": "2024-11-25T15:53:24.630Z"
   },
   {
    "duration": 19,
    "start_time": "2024-11-25T15:53:25.069Z"
   },
   {
    "duration": 33,
    "start_time": "2024-11-25T15:53:25.089Z"
   },
   {
    "duration": 28,
    "start_time": "2024-11-25T15:53:25.123Z"
   },
   {
    "duration": 70,
    "start_time": "2024-11-25T15:53:25.156Z"
   },
   {
    "duration": 18,
    "start_time": "2024-11-25T15:53:25.228Z"
   },
   {
    "duration": 65,
    "start_time": "2024-11-25T15:53:25.248Z"
   },
   {
    "duration": 6,
    "start_time": "2024-11-25T15:53:25.315Z"
   },
   {
    "duration": 231,
    "start_time": "2024-11-25T15:53:25.323Z"
   },
   {
    "duration": 129,
    "start_time": "2024-11-25T15:53:25.556Z"
   },
   {
    "duration": 4,
    "start_time": "2024-11-25T15:53:25.686Z"
   },
   {
    "duration": 7,
    "start_time": "2024-11-25T15:53:25.692Z"
   },
   {
    "duration": 6,
    "start_time": "2024-11-25T15:53:25.713Z"
   },
   {
    "duration": 0,
    "start_time": "2024-11-25T15:53:25.720Z"
   },
   {
    "duration": 0,
    "start_time": "2024-11-25T15:53:25.722Z"
   },
   {
    "duration": 0,
    "start_time": "2024-11-25T15:53:25.724Z"
   },
   {
    "duration": 0,
    "start_time": "2024-11-25T15:53:25.725Z"
   },
   {
    "duration": 0,
    "start_time": "2024-11-25T15:53:25.726Z"
   },
   {
    "duration": 0,
    "start_time": "2024-11-25T15:53:25.727Z"
   },
   {
    "duration": 0,
    "start_time": "2024-11-25T15:53:25.728Z"
   },
   {
    "duration": 0,
    "start_time": "2024-11-25T15:53:25.729Z"
   },
   {
    "duration": 0,
    "start_time": "2024-11-25T15:53:25.731Z"
   },
   {
    "duration": 0,
    "start_time": "2024-11-25T15:53:25.731Z"
   },
   {
    "duration": 0,
    "start_time": "2024-11-25T15:53:25.732Z"
   },
   {
    "duration": 0,
    "start_time": "2024-11-25T15:53:25.734Z"
   },
   {
    "duration": 0,
    "start_time": "2024-11-25T15:53:25.735Z"
   },
   {
    "duration": 0,
    "start_time": "2024-11-25T15:53:25.736Z"
   },
   {
    "duration": 0,
    "start_time": "2024-11-25T15:53:25.737Z"
   },
   {
    "duration": 0,
    "start_time": "2024-11-25T15:53:25.737Z"
   },
   {
    "duration": 0,
    "start_time": "2024-11-25T15:53:25.739Z"
   },
   {
    "duration": 0,
    "start_time": "2024-11-25T15:53:25.741Z"
   },
   {
    "duration": 0,
    "start_time": "2024-11-25T15:53:25.742Z"
   },
   {
    "duration": 0,
    "start_time": "2024-11-25T15:53:25.744Z"
   },
   {
    "duration": 0,
    "start_time": "2024-11-25T15:53:25.745Z"
   },
   {
    "duration": 0,
    "start_time": "2024-11-25T15:53:25.746Z"
   },
   {
    "duration": 0,
    "start_time": "2024-11-25T15:53:25.748Z"
   },
   {
    "duration": 0,
    "start_time": "2024-11-25T15:53:25.749Z"
   },
   {
    "duration": 0,
    "start_time": "2024-11-25T15:53:25.751Z"
   },
   {
    "duration": 165,
    "start_time": "2024-11-25T15:53:41.662Z"
   },
   {
    "duration": 3,
    "start_time": "2024-11-25T15:53:45.063Z"
   },
   {
    "duration": 37,
    "start_time": "2024-11-25T15:53:45.068Z"
   },
   {
    "duration": 18,
    "start_time": "2024-11-25T15:53:45.107Z"
   },
   {
    "duration": 59,
    "start_time": "2024-11-25T15:53:45.129Z"
   },
   {
    "duration": 26,
    "start_time": "2024-11-25T15:53:45.190Z"
   },
   {
    "duration": 7,
    "start_time": "2024-11-25T15:53:45.217Z"
   },
   {
    "duration": 5,
    "start_time": "2024-11-25T15:53:45.226Z"
   },
   {
    "duration": 4,
    "start_time": "2024-11-25T15:53:45.232Z"
   },
   {
    "duration": 5,
    "start_time": "2024-11-25T15:53:45.237Z"
   },
   {
    "duration": 5,
    "start_time": "2024-11-25T15:53:45.243Z"
   },
   {
    "duration": 4,
    "start_time": "2024-11-25T15:53:45.250Z"
   },
   {
    "duration": 5,
    "start_time": "2024-11-25T15:53:45.256Z"
   },
   {
    "duration": 4,
    "start_time": "2024-11-25T15:53:45.262Z"
   },
   {
    "duration": 5,
    "start_time": "2024-11-25T15:53:45.311Z"
   },
   {
    "duration": 5,
    "start_time": "2024-11-25T15:53:45.318Z"
   },
   {
    "duration": 4,
    "start_time": "2024-11-25T15:53:45.325Z"
   },
   {
    "duration": 20,
    "start_time": "2024-11-25T15:53:45.330Z"
   },
   {
    "duration": 4,
    "start_time": "2024-11-25T15:53:45.352Z"
   },
   {
    "duration": 14,
    "start_time": "2024-11-25T15:53:45.358Z"
   },
   {
    "duration": 41,
    "start_time": "2024-11-25T15:53:45.374Z"
   },
   {
    "duration": 4,
    "start_time": "2024-11-25T15:53:45.417Z"
   },
   {
    "duration": 250,
    "start_time": "2024-11-25T15:53:45.423Z"
   },
   {
    "duration": 3,
    "start_time": "2024-11-25T15:53:45.675Z"
   },
   {
    "duration": 46,
    "start_time": "2024-11-25T15:53:45.680Z"
   },
   {
    "duration": 9,
    "start_time": "2024-11-25T15:53:45.728Z"
   }
  ],
  "kernelspec": {
   "display_name": "Python 3 (ipykernel)",
   "language": "python",
   "name": "python3"
  },
  "language_info": {
   "codemirror_mode": {
    "name": "ipython",
    "version": 3
   },
   "file_extension": ".py",
   "mimetype": "text/x-python",
   "name": "python",
   "nbconvert_exporter": "python",
   "pygments_lexer": "ipython3",
   "version": "3.12.4"
  },
  "toc": {
   "base_numbering": 1,
   "nav_menu": {},
   "number_sections": true,
   "sideBar": true,
   "skip_h1_title": true,
   "title_cell": "Table of Contents",
   "title_sidebar": "Contents",
   "toc_cell": false,
   "toc_position": {},
   "toc_section_display": true,
   "toc_window_display": false
  }
 },
 "nbformat": 4,
 "nbformat_minor": 4
}
